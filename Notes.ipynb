{
 "cells": [
  {
   "cell_type": "markdown",
   "metadata": {},
   "source": [
    "# 随堂笔记"
   ]
  },
  {
   "cell_type": "markdown",
   "metadata": {},
   "source": [
    "## 数组切片"
   ]
  },
  {
   "cell_type": "markdown",
   "metadata": {},
   "source": [
    "### 二维数组"
   ]
  },
  {
   "cell_type": "markdown",
   "metadata": {
    "collapsed": true
   },
   "source": [
    "- 对于**x[:, 0]**表示取出二维数组中第1维(***第1列所有行***)的所有数据\n",
    "- 对于**x[:, 1]**表示取出二维数组中第2维(***第2列所有行***)的所有数据\n",
    "- 对于**x[:, m:n]**表示取出二维数组中第m维到第n-1维(***第m列到第n-1列所有行***)的所有数据\n",
    "<br/><br/>\n",
    "- 对于**x[0, :]**表示取出第1行所有列的数据\n",
    "- 对于**x[1, :]**表示取出第2行所有列的数据\n",
    "- 对于**x[m:n, :]**表示取出第m行到第n-1行所有列的数据"
   ]
  },
  {
   "cell_type": "markdown",
   "metadata": {},
   "source": [
    "### 三维数组"
   ]
  },
  {
   "cell_type": "markdown",
   "metadata": {},
   "source": [
    "- 对于**x[:, :, 0]**表示取出三维矩阵中第1维的所有数据\n",
    "- 对于**x[:, :, 1]**表示取出三维矩阵中第2维的所有数据\n",
    "- 对于**x[:, :, m:n]**表示取出三维矩阵中第m维到第n-1维的所有数据"
   ]
  },
  {
   "cell_type": "markdown",
   "metadata": {},
   "source": [
    "[Reference link](https://blog.csdn.net/Together_CZ/article/details/79593952)"
   ]
  },
  {
   "cell_type": "markdown",
   "metadata": {
    "collapsed": true
   },
   "source": [
    "## zip()"
   ]
  },
  {
   "cell_type": "markdown",
   "metadata": {},
   "source": [
    "- zip()函数可以接收任意长的序列作为输入，它将所有序列按相同的索引进行组合，返回一个由元组组成的新序列。我们可以用list()去显示zip()的配对结果。"
   ]
  },
  {
   "cell_type": "code",
   "execution_count": 1,
   "metadata": {
    "collapsed": true
   },
   "outputs": [],
   "source": [
    "import numpy as np"
   ]
  },
  {
   "cell_type": "code",
   "execution_count": 2,
   "metadata": {
    "collapsed": true
   },
   "outputs": [],
   "source": [
    "a = np.array(range(8))"
   ]
  },
  {
   "cell_type": "code",
   "execution_count": 10,
   "metadata": {
    "collapsed": false
   },
   "outputs": [],
   "source": [
    "b = 'a b c d e f g h'.split(' ')"
   ]
  },
  {
   "cell_type": "code",
   "execution_count": 12,
   "metadata": {
    "collapsed": true
   },
   "outputs": [],
   "source": [
    "zip_a_b = zip(a, b)"
   ]
  },
  {
   "cell_type": "code",
   "execution_count": 14,
   "metadata": {
    "collapsed": false
   },
   "outputs": [
    {
     "data": {
      "text/plain": [
       "[(0, 'a'),\n",
       " (1, 'b'),\n",
       " (2, 'c'),\n",
       " (3, 'd'),\n",
       " (4, 'e'),\n",
       " (5, 'f'),\n",
       " (6, 'g'),\n",
       " (7, 'h')]"
      ]
     },
     "execution_count": 14,
     "metadata": {},
     "output_type": "execute_result"
    }
   ],
   "source": [
    "list(zip_a_b)"
   ]
  },
  {
   "cell_type": "code",
   "execution_count": 15,
   "metadata": {
    "collapsed": false,
    "scrolled": true
   },
   "outputs": [
    {
     "name": "stdout",
     "output_type": "stream",
     "text": [
      "1 3 a\n",
      "2 4 b\n"
     ]
    }
   ],
   "source": [
    "for x, y, z in zip([1, 2], [3, 4], ['a', 'b']):\n",
    "    print(x, y, z)  # 对应索引排成一行"
   ]
  },
  {
   "cell_type": "markdown",
   "metadata": {},
   "source": [
    "## 网页源码"
   ]
  },
  {
   "cell_type": "markdown",
   "metadata": {},
   "source": [
    "- HTML链接是通过\\<\\a>\\标签进行定义的。*<ahref=\"http://www.w3school.com.cn\">This is a link</a>*。上面这行代码显示为：This is a link ，点击这个超链接会把用户带到 w3school 的首页。\n",
    "- 注释：在href属性中指定链接的地址。\n",
    "- target 属性\n",
    "    - 使用 Target 属性，你可以定义被链接的文档在何处显示。\n",
    "下面的这行会在新窗口打开文档：\n",
    "*<ahref=\"http://www.w3school.com.cn/\" target=\"_blank\">VisitW3School!</a>*"
   ]
  },
  {
   "cell_type": "code",
   "execution_count": null,
   "metadata": {
    "collapsed": true
   },
   "outputs": [],
   "source": []
  }
 ],
 "metadata": {
  "anaconda-cloud": {},
  "kernelspec": {
   "display_name": "Python [conda env:Anaconda3]",
   "language": "python",
   "name": "conda-env-Anaconda3-py"
  },
  "language_info": {
   "codemirror_mode": {
    "name": "ipython",
    "version": 3
   },
   "file_extension": ".py",
   "mimetype": "text/x-python",
   "name": "python",
   "nbconvert_exporter": "python",
   "pygments_lexer": "ipython3",
   "version": "3.5.6"
  },
  "toc": {
   "base_numbering": 1,
   "nav_menu": {},
   "number_sections": true,
   "sideBar": true,
   "skip_h1_title": false,
   "title_cell": "Table of Contents",
   "title_sidebar": "Contents",
   "toc_cell": false,
   "toc_position": {},
   "toc_section_display": true,
   "toc_window_display": false
  }
 },
 "nbformat": 4,
 "nbformat_minor": 1
}
