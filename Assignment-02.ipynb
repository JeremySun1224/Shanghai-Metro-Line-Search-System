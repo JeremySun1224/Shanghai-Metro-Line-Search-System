{
 "cells": [
  {
   "cell_type": "markdown",
   "metadata": {},
   "source": [
    "# Re-code the house price machine learning"
   ]
  },
  {
   "cell_type": "code",
   "execution_count": 1,
   "metadata": {
    "collapsed": false
   },
   "outputs": [],
   "source": [
    "import numpy as np\n",
    "import pandas as pd\n",
    "import matplotlib.pyplot as plt\n",
    "from sklearn.datasets import load_boston"
   ]
  },
  {
   "cell_type": "code",
   "execution_count": 2,
   "metadata": {
    "collapsed": true
   },
   "outputs": [],
   "source": [
    "%matplotlib inline"
   ]
  },
  {
   "cell_type": "code",
   "execution_count": 3,
   "metadata": {
    "collapsed": true
   },
   "outputs": [],
   "source": [
    "plt.rcParams[\"font.sans-serif\"] = [\"SimHei\"]\n",
    "plt.rcParams[\"axes.unicode_minus\"] = False"
   ]
  },
  {
   "cell_type": "code",
   "execution_count": 4,
   "metadata": {
    "collapsed": false,
    "scrolled": true
   },
   "outputs": [
    {
     "name": "stdout",
     "output_type": "stream",
     "text": [
      "Help on function load_boston in module sklearn.datasets.base:\n",
      "\n",
      "load_boston(return_X_y=False)\n",
      "    Load and return the boston house-prices dataset (regression).\n",
      "    \n",
      "    ==============     ==============\n",
      "    Samples total                 506\n",
      "    Dimensionality                 13\n",
      "    Features           real, positive\n",
      "    Targets             real 5. - 50.\n",
      "    ==============     ==============\n",
      "    \n",
      "    Read more in the :ref:`User Guide <boston_dataset>`.\n",
      "    \n",
      "    Parameters\n",
      "    ----------\n",
      "    return_X_y : boolean, default=False.\n",
      "        If True, returns ``(data, target)`` instead of a Bunch object.\n",
      "        See below for more information about the `data` and `target` object.\n",
      "    \n",
      "        .. versionadded:: 0.18\n",
      "    \n",
      "    Returns\n",
      "    -------\n",
      "    data : Bunch\n",
      "        Dictionary-like object, the interesting attributes are:\n",
      "        'data', the data to learn, 'target', the regression targets,\n",
      "        'DESCR', the full description of the dataset,\n",
      "        and 'filename', the physical location of boston\n",
      "        csv dataset (added in version `0.20`).\n",
      "    \n",
      "    (data, target) : tuple if ``return_X_y`` is True\n",
      "    \n",
      "        .. versionadded:: 0.18\n",
      "    \n",
      "    Notes\n",
      "    -----\n",
      "        .. versionchanged:: 0.20\n",
      "            Fixed a wrong data point at [445, 0].\n",
      "    \n",
      "    Examples\n",
      "    --------\n",
      "    >>> from sklearn.datasets import load_boston\n",
      "    >>> boston = load_boston()\n",
      "    >>> print(boston.data.shape)\n",
      "    (506, 13)\n",
      "\n"
     ]
    }
   ],
   "source": [
    "help(load_boston)"
   ]
  },
  {
   "cell_type": "code",
   "execution_count": 5,
   "metadata": {
    "collapsed": true
   },
   "outputs": [],
   "source": [
    "data = load_boston()"
   ]
  },
  {
   "cell_type": "code",
   "execution_count": 6,
   "metadata": {
    "collapsed": true
   },
   "outputs": [],
   "source": [
    "X, y = data[\"data\"], data[\"target\"]"
   ]
  },
  {
   "cell_type": "code",
   "execution_count": 7,
   "metadata": {
    "collapsed": false
   },
   "outputs": [
    {
     "data": {
      "text/plain": [
       "((506, 13), (506,))"
      ]
     },
     "execution_count": 7,
     "metadata": {},
     "output_type": "execute_result"
    }
   ],
   "source": [
    "X.shape, y.shape"
   ]
  },
  {
   "cell_type": "code",
   "execution_count": 8,
   "metadata": {
    "collapsed": true
   },
   "outputs": [],
   "source": [
    "def draw_rm_and_price():\n",
    "    return plt.scatter(X[:, 5], y)"
   ]
  },
  {
   "cell_type": "code",
   "execution_count": 9,
   "metadata": {
    "collapsed": false
   },
   "outputs": [
    {
     "data": {
      "text/plain": [
       "<matplotlib.collections.PathCollection at 0x1ca5fb4bc18>"
      ]
     },
     "execution_count": 9,
     "metadata": {},
     "output_type": "execute_result"
    },
    {
     "data": {
      "image/png": "[encoded data removed]",
      "text/plain": [
       "<Figure size 432x288 with 1 Axes>"
      ]
     },
     "metadata": {},
     "output_type": "display_data"
    }
   ],
   "source": [
    "draw_rm_and_price()"
   ]
  },
  {
   "cell_type": "code",
   "execution_count": 10,
   "metadata": {
    "collapsed": true
   },
   "outputs": [],
   "source": [
    "def price(rm, k, b):\n",
    "    return k * rm + b"
   ]
  },
  {
   "cell_type": "code",
   "execution_count": 11,
   "metadata": {
    "collapsed": true
   },
   "outputs": [],
   "source": [
    "X_rm = X[:, 5]\n",
    "k = np.random.randint(-100, 100)\n",
    "b = np.random.randint(-100, 100)"
   ]
  },
  {
   "cell_type": "code",
   "execution_count": 12,
   "metadata": {
    "collapsed": true
   },
   "outputs": [],
   "source": [
    "price_by_random_k_and_b = [price(r, k, b) for r in X_rm]"
   ]
  },
  {
   "cell_type": "code",
   "execution_count": 27,
   "metadata": {
    "collapsed": false,
    "scrolled": false
   },
   "outputs": [
    {
     "data": {
      "text/plain": [
       "<matplotlib.collections.PathCollection at 0x1a7b1360080>"
      ]
     },
     "execution_count": 27,
     "metadata": {},
     "output_type": "execute_result"
    },
    {
     "data": {
      "image/png": "[encoded data removed]",
      "text/plain": [
       "<Figure size 432x288 with 1 Axes>"
      ]
     },
     "metadata": {},
     "output_type": "display_data"
    }
   ],
   "source": [
    "draw_rm_and_price()\n",
    "plt.scatter(X_rm, price_by_random_k_and_b)"
   ]
  },
  {
   "cell_type": "markdown",
   "metadata": {},
   "source": [
    "- 选择如下损失函数\n",
    "$$Loss = \\frac{1}{2n}\\sum(y_i - \\hat{y_i})^2$$"
   ]
  },
  {
   "cell_type": "code",
   "execution_count": 13,
   "metadata": {
    "collapsed": true
   },
   "outputs": [],
   "source": [
    "def mean_squared_error(y, y_hat):\n",
    "    return sum((y_i - y_hat_i) ** 2 for y_i, y_hat_i in zip(list(y), list(y_hat))) / (2 * y.size)  # 分母记得加括号"
   ]
  },
  {
   "cell_type": "markdown",
   "metadata": {},
   "source": [
    "## Random Choose Method to get optimal *k* and *b*"
   ]
  },
  {
   "cell_type": "code",
   "execution_count": 54,
   "metadata": {
    "collapsed": true
   },
   "outputs": [],
   "source": [
    "trying_times = 2000"
   ]
  },
  {
   "cell_type": "code",
   "execution_count": 59,
   "metadata": {
    "collapsed": false
   },
   "outputs": [
    {
     "name": "stdout",
     "output_type": "stream",
     "text": [
      "When time is: 0, get best_k: -55.000926219242665, get best_b: -10.116913955416564, and the loss is: 72593.48333234958\n",
      "When time is: 1, get best_k: -41.90315450469488, get best_b: -89.09586607320041, and the loss is: 70965.68729090707\n",
      "When time is: 2, get best_k: -10.002055760430721, get best_b: 52.66992254238258, and the loss is: 647.0790071259755\n",
      "When time is: 33, get best_k: 13.338572073721508, get best_b: -87.7289503745246, and the loss is: 375.5920874430535\n",
      "When time is: 43, get best_k: 6.778511157894471, get best_b: 1.0249086117651416, and the loss is: 245.57851594834213\n",
      "When time is: 56, get best_k: 9.621158241357207, get best_b: -50.498451815294864, and the loss is: 100.81626211133846\n",
      "When time is: 216, get best_k: 17.582524527068628, get best_b: -97.57803084002413, and the loss is: 85.70357821640042\n",
      "When time is: 223, get best_k: 6.580800227185549, get best_b: -10.117634737308705, and the loss is: 61.27643146993331\n",
      "When time is: 261, get best_k: 0.5466297601759607, get best_b: 18.031380971626888, and the loss is: 40.40022969908996\n",
      "When time is: 290, get best_k: 6.710470438504544, get best_b: -17.875670650430493, and the loss is: 24.765880032637707\n",
      "When time is: 1236, get best_k: 8.364685056463927, get best_b: -29.079869781987355, and the loss is: 22.391503840823656\n"
     ]
    }
   ],
   "source": [
    "min_loss = float(\"inf\")\n",
    "best_k = best_b = None\n",
    "\n",
    "for i in range(trying_times):\n",
    "    k = np.random.random() * 200 - 100\n",
    "    b = np.random.random() * 200 - 100\n",
    "    price_by_random_k_and_b = [price(r, k, b) for r in X_rm]\n",
    "    \n",
    "    current_loss = mean_squared_error(y, price_by_random_k_and_b)\n",
    "    \n",
    "    if current_loss < min_loss:\n",
    "        min_loss = current_loss\n",
    "        best_k, best_b = k, b\n",
    "        \n",
    "        print(\"When time is: {time}, get best_k: {k}, get best_b: {b}, and the loss is: {loss}\".format(time=i, k=best_k, b=best_b, loss=min_loss))"
   ]
  },
  {
   "cell_type": "code",
   "execution_count": 60,
   "metadata": {
    "collapsed": true
   },
   "outputs": [],
   "source": [
    "k = 8.364685056463927\n",
    "b = -29.079869781987355\n",
    "price_best_by_random_k_and_b = [price(r, k, b) for r in X_rm]"
   ]
  },
  {
   "cell_type": "code",
   "execution_count": 61,
   "metadata": {
    "collapsed": false
   },
   "outputs": [
    {
     "data": {
      "text/plain": [
       "Text(0.5,1,'上述最优的price和真实的price对比散点图')"
      ]
     },
     "execution_count": 61,
     "metadata": {},
     "output_type": "execute_result"
    },
    {
     "data": {
      "image/png": "[encoded data removed]",
      "text/plain": [
       "<Figure size 432x288 with 1 Axes>"
      ]
     },
     "metadata": {},
     "output_type": "display_data"
    }
   ],
   "source": [
    "plt.scatter(X_rm, y)\n",
    "plt.scatter(X_rm, price_best_by_random_k_and_b)\n",
    "plt.title(\"上述最优的price和真实的price对比散点图\")"
   ]
  },
  {
   "cell_type": "markdown",
   "metadata": {},
   "source": [
    "## Supervised Direction to get optimal *k* and *b*"
   ]
  },
  {
   "cell_type": "code",
   "execution_count": 14,
   "metadata": {
    "collapsed": true
   },
   "outputs": [],
   "source": [
    "import random"
   ]
  },
  {
   "cell_type": "code",
   "execution_count": 15,
   "metadata": {
    "collapsed": true
   },
   "outputs": [],
   "source": [
    "min_loss = float(\"inf\")\n",
    "trying_times = 2000"
   ]
  },
  {
   "cell_type": "code",
   "execution_count": 65,
   "metadata": {
    "collapsed": true
   },
   "outputs": [],
   "source": [
    "best_k = np.random.random() * 200 - 100\n",
    "best_b = np.random.random() * 200 - 100"
   ]
  },
  {
   "cell_type": "code",
   "execution_count": 66,
   "metadata": {
    "collapsed": true
   },
   "outputs": [],
   "source": [
    "direction = [\n",
    "    (+1, -1),\n",
    "    (+1, +1),\n",
    "    (-1, -1),\n",
    "    (-1, +1)\n",
    "]"
   ]
  },
  {
   "cell_type": "code",
   "execution_count": 67,
   "metadata": {
    "collapsed": true
   },
   "outputs": [],
   "source": [
    "next_direction = random.choice(direction)"
   ]
  },
  {
   "cell_type": "code",
   "execution_count": 68,
   "metadata": {
    "collapsed": true
   },
   "outputs": [],
   "source": [
    "scalar = 0.1"
   ]
  },
  {
   "cell_type": "code",
   "execution_count": 69,
   "metadata": {
    "collapsed": false
   },
   "outputs": [
    {
     "name": "stdout",
     "output_type": "stream",
     "text": [
      "When time is: 0, get best_k: -97.55852142982836, get best_b: -30.0147752219602, and the loss is: 224380.79535512518\n",
      "When time is: 100, get best_k: -87.65852142982892, get best_b: -39.91477522196034, and the loss is: 190426.96545478294\n",
      "When time is: 200, get best_k: -77.65852142982949, get best_b: -49.91477522196048, and the loss is: 158957.96313014784\n",
      "When time is: 300, get best_k: -67.65852142983006, get best_b: -59.914775221960625, and the loss is: 130330.96638792343\n",
      "When time is: 400, get best_k: -57.658521429830174, get best_b: -69.91477522196034, and the loss is: 104545.9752281084\n",
      "When time is: 500, get best_k: -47.65852142983003, get best_b: -79.91477522195977, and the loss is: 81602.98965070337\n",
      "When time is: 600, get best_k: -37.65852142982989, get best_b: -89.9147752219592, and the loss is: 61502.00965570964\n",
      "When time is: 700, get best_k: -27.658521429829747, get best_b: -99.91477522195864, and the loss is: 44243.03524312711\n",
      "When time is: 800, get best_k: -17.658521429829605, get best_b: -109.91477522195807, and the loss is: 29826.06641295587\n",
      "When time is: 900, get best_k: -7.658521429829612, get best_b: -119.9147752219575, and the loss is: 18251.103165195997\n",
      "When time is: 1000, get best_k: 2.3414785701703784, get best_b: -129.91477522195694, and the loss is: 9518.145499847265\n",
      "When time is: 1100, get best_k: 12.34147857017035, get best_b: -139.91477522195638, and the loss is: 3627.193416909649\n",
      "When time is: 1200, get best_k: 22.341478570170427, get best_b: -149.9147752219558, and the loss is: 578.2469163831144\n",
      "When time is: 1300, get best_k: 28.041478570170508, get best_b: -155.2147752219555, and the loss is: 111.31595251215965\n"
     ]
    }
   ],
   "source": [
    "for i in range(trying_times):\n",
    "    k_direction, b_direction = next_direction\n",
    "    current_k, current_b = best_k + scalar * k_direction, best_b + scalar * b_direction\n",
    "    price_by_random_k_and_b = [price(r, current_k, current_b) for r in X_rm]\n",
    "    current_loss = mean_squared_error(y, price_by_random_k_and_b)\n",
    "    \n",
    "    if current_loss < min_loss:\n",
    "        best_k, best_b = current_k, current_b\n",
    "        min_loss = current_loss\n",
    "        if i % 100 == 0:\n",
    "            print(\"When time is: {time}, get best_k: {k}, get best_b: {b}, and the loss is: {loss}\".format(time=i, k=best_k, b=best_b, loss=min_loss))\n",
    "    else:\n",
    "        next_direction = random.choice(direction)"
   ]
  },
  {
   "cell_type": "code",
   "execution_count": 70,
   "metadata": {
    "collapsed": true
   },
   "outputs": [],
   "source": [
    "k = 28.041478570170508\n",
    "b = -155.2147752219555\n",
    "price_best_by_supervised_direction_k_and_b = [price(r, k, b) for r in X_rm]"
   ]
  },
  {
   "cell_type": "code",
   "execution_count": 71,
   "metadata": {
    "collapsed": false
   },
   "outputs": [
    {
     "data": {
      "text/plain": [
       "Text(0.5,1,'上述最优的price和真实的price对比散点图')"
      ]
     },
     "execution_count": 71,
     "metadata": {},
     "output_type": "execute_result"
    },
    {
     "data": {
      "image/png": "[encoded data removed]",
      "text/plain": [
       "<Figure size 432x288 with 1 Axes>"
      ]
     },
     "metadata": {},
     "output_type": "display_data"
    }
   ],
   "source": [
    "plt.scatter(X_rm, y)\n",
    "plt.scatter(X_rm, price_best_by_supervised_direction_k_and_b)\n",
    "plt.title(\"上述最优的price和真实的price对比散点图\")"
   ]
  },
  {
   "cell_type": "markdown",
   "metadata": {},
   "source": [
    "## Gradient Descent to get optimal *k* and *b*"
   ]
  },
  {
   "cell_type": "markdown",
   "metadata": {},
   "source": [
    "- 此前我们选择了如下损失函数\n",
    "$$Loss = \\frac{1}{2n}\\sum(y_i - \\hat{y_i})^2$$"
   ]
  },
  {
   "cell_type": "markdown",
   "metadata": {},
   "source": [
    "- 对$\\hat{y_i}$进行求导\n",
    "$$\\frac{\\partial{L}}{\\partial{\\hat{y_i}}}=\\hat{y_i} - y_i$$"
   ]
  },
  {
   "cell_type": "markdown",
   "metadata": {},
   "source": [
    "- 对$k和b$求偏导\n",
    "$$\\frac{\\partial L}{\\partial k}=\\frac{1}{n}\\sum\\frac{\\partial L}{\\partial\\hat{y_i}}*\\frac{\\partial\\hat{y_i}}{\\partial k}=\\frac{1}{n}\\sum{(\\hat{y_i}-y_i)}x$$\n",
    "$$\\frac{\\partial L}{\\partial b}=\\frac{1}{n}\\sum\\frac{\\partial L}{\\partial\\hat{y_i}}=\\frac{1}{n}\\sum{(\\hat{y_i}-y_i)}$$"
   ]
  },
  {
   "cell_type": "code",
   "execution_count": 76,
   "metadata": {
    "collapsed": true
   },
   "outputs": [],
   "source": [
    "def train_by_gradient_descend(it, lr):\n",
    "    \"\"\"\n",
    "    it: iteration times\n",
    "    lr: learning rate\n",
    "    \"\"\"\n",
    "    k = random.random()\n",
    "    b = random.random()\n",
    "    \n",
    "    for i in range(it):\n",
    "        y_hat = np.array([price(r, k, b) for r in X_rm])\n",
    "        if i % 100 == 0:\n",
    "            print(\"When time is: {time}, get current k: {k}, current b: {b}, and the loss is: {loss}\".format(time=i, k=k, b=b, loss=mean_squared_error(y, y_hat)))\n",
    "        grad_y_hat = y_hat - y\n",
    "        grad_k = (grad_y_hat * X_rm).sum() / X_rm.size\n",
    "        grad_b = grad_y_hat.sum() / y.size\n",
    "        \n",
    "        k -= lr * grad_k\n",
    "        b -= lr * grad_b\n",
    "        \n",
    "    return k, b  # 返回最佳的k和b"
   ]
  },
  {
   "cell_type": "code",
   "execution_count": 77,
   "metadata": {
    "collapsed": false
   },
   "outputs": [
    {
     "name": "stdout",
     "output_type": "stream",
     "text": [
      "When time is: 0, get current k: 0.6269813471817064, current b: 0.572059661971354, and the loss is: 201.8622540888463\n",
      "When time is: 100, get current k: 3.6898269448836425, current b: -0.24245604188550077, and the loss is: 29.10216400912779\n",
      "When time is: 200, get current k: 3.8816074530698725, current b: -1.4623944864144698, and the loss is: 28.59385737979302\n",
      "When time is: 300, get current k: 4.066592350259945, current b: -2.6391052474489975, and the loss is: 28.1209355201307\n",
      "When time is: 400, get current k: 4.245022434276577, current b: -3.7741200683558724, and the loss is: 27.68093518875761\n",
      "When time is: 500, get current k: 4.4171299704365135, current b: -4.86891641622446, and the loss is: 27.271564618011084\n",
      "When time is: 600, get current k: 4.58313899389403, current b: -5.924919405109419, and the loss is: 26.890691577142388\n",
      "When time is: 700, get current k: 4.743265601271107, current b: -6.943503651124669, and the loss is: 26.53633226646686\n",
      "When time is: 800, get current k: 4.8977182319538874, current b: -7.925995061803318, and the loss is: 26.20664098462649\n",
      "When time is: 900, get current k: 5.046697939421579, current b: -8.87367256205288, and the loss is: 25.899900515145696\n",
      "When time is: 1000, get current k: 5.190398652961022, current b: -9.78776975895246, and the loss is: 25.614513182207606\n",
      "When time is: 1100, get current k: 5.329007430107552, current b: -10.669476547558949, and the loss is: 25.348992529066106\n",
      "When time is: 1200, get current k: 5.462704700140826, current b: -11.51994065981262, and the loss is: 25.101955575747684\n",
      "When time is: 1300, get current k: 5.591664498952506, current b: -12.340269158558286, and the loss is: 24.872115615718897\n",
      "When time is: 1400, get current k: 5.716054695591604, current b: -13.131529878626854, and the loss is: 24.658275513999648\n",
      "When time is: 1500, get current k: 5.836037210782312, current b: -13.894752816853151, and the loss is: 24.459321471814917\n",
      "When time is: 1600, get current k: 5.9517682276988335, current b: -14.630931472839391, and the loss is: 24.274217225308274\n",
      "When time is: 1700, get current k: 6.063398395271526, current b: -15.341024142209616, and the loss is: 24.10199864810052\n",
      "When time is: 1800, get current k: 6.171073024289054, current b: -16.0259551640386, and the loss is: 23.94176872958049\n",
      "When time is: 1900, get current k: 6.2749322765517705, current b: -16.686616124078846, and the loss is: 23.79269290277261\n",
      "When time is: 2000, get current k: 6.375111347322615, current b: -17.323867015352242, and the loss is: 23.653994697445313\n",
      "When time is: 2100, get current k: 6.471740641312943, current b: -17.938537357616763, and the loss is: 23.524951695820402\n",
      "When time is: 2200, get current k: 6.564945942432451, current b: -18.53142727716569, and the loss is: 23.404891769817233\n",
      "When time is: 2300, get current k: 6.654848577524121, current b: -19.10330854836499, and the loss is: 23.29318958023404\n",
      "When time is: 2400, get current k: 6.741565574297327, current b: -19.654925598284365, and the loss is: 23.189263319631934\n",
      "When time is: 2500, get current k: 6.82520981366469, current b: -20.18699647573007, and the loss is: 23.09257168195638\n",
      "When time is: 2600, get current k: 6.905890176680978, current b: -20.70021378594048, and the loss is: 23.002611043112957\n",
      "When time is: 2700, get current k: 6.983711686275337, current b: -21.19524559216162, and the loss is: 22.91891283781134\n",
      "When time is: 2800, get current k: 7.058775643961327, current b: -21.67273628527581, and the loss is: 22.84104111901543\n",
      "When time is: 2900, get current k: 7.131179761702734, current b: -22.133307422615655, and the loss is: 22.768590287287644\n",
      "When time is: 3000, get current k: 7.201018289106812, current b: -22.577558537055246, and the loss is: 22.701182978200166\n",
      "When time is: 3100, get current k: 7.26838213611051, current b: -23.006067917431785, and the loss is: 22.63846809681016\n",
      "When time is: 3200, get current k: 7.333358991319418, current b: -23.419393361313528, and the loss is: 22.580118988961058\n",
      "When time is: 3300, get current k: 7.396033436153417, current b: -23.818072901093753, and the loss is: 22.525831739885152\n",
      "When time is: 3400, get current k: 7.456487054947686, current b: -24.2026255043563, and the loss is: 22.47532359124557\n",
      "When time is: 3500, get current k: 7.514798541152355, current b: -24.573551749424013, and the loss is: 22.428331468372825\n",
      "When time is: 3600, get current k: 7.571043799769027, current b: -24.931334476969624, and the loss is: 22.38461061002489\n",
      "When time is: 3700, get current k: 7.625296046157542, current b: -25.276439418537194, and the loss is: 22.343933293533873\n",
      "When time is: 3800, get current k: 7.677625901341598, current b: -25.609315802792423, and the loss is: 22.306087648699005\n",
      "When time is: 3900, get current k: 7.728101483937269, current b: -25.930396940290823, and the loss is: 22.27087655424832\n",
      "When time is: 4000, get current k: 7.77678849882411, current b: -26.240100787525055, and the loss is: 22.23811661112076\n",
      "When time is: 4100, get current k: 7.823750322674257, current b: -26.538830490985635, and the loss is: 22.20763718722147\n",
      "When time is: 4200, get current k: 7.869048086450868, current b: -26.826974911943257, and the loss is: 22.179279528674392\n",
      "When time is: 4300, get current k: 7.912740754983268, current b: -27.104909132635676, and the loss is: 22.152895932943398\n",
      "When time is: 4400, get current k: 7.95488520372244, current b: -27.372994944518446, and the loss is: 22.1283489795149\n",
      "When time is: 4500, get current k: 7.9955362927766895, current b: -27.63158131921453, and the loss is: 22.105510814135002\n",
      "When time is: 4600, get current k: 8.034746938323954, current b: -27.881004862776397, and the loss is: 22.08426248287306\n",
      "When time is: 4700, get current k: 8.072568181493633, current b: -28.121590253851526, and the loss is: 22.06449331254321\n",
      "When time is: 4800, get current k: 8.109049254807665, current b: -28.353650666321865, and the loss is: 22.046100334256426\n",
      "When time is: 4900, get current k: 8.144237646267273, current b: -28.577488176967236, and the loss is: 22.02898774710115\n",
      "When time is: 5000, get current k: 8.178179161168876, current b: -28.793394158683636, and the loss is: 22.01306641915839\n",
      "When time is: 5100, get current k: 8.210917981729576, current b: -29.001649659767978, and the loss is: 21.998253423253068\n",
      "When time is: 5200, get current k: 8.242496724599858, current b: -29.202525769763188, and the loss is: 21.984471605022843\n",
      "When time is: 5300, get current k: 8.27295649633838, current b: -29.396283972339837, and the loss is: 21.971649181055056\n",
      "When time is: 5400, get current k: 8.302336946921047, current b: -29.583176485673736, and the loss is: 21.9597193649986\n",
      "When time is: 5500, get current k: 8.330676321354005, current b: -29.763446590762285, and the loss is: 21.94862001970341\n",
      "When time is: 5600, get current k: 8.358011509457796, current b: -29.937328948107293, and the loss is: 21.938293333575146\n",
      "When time is: 5700, get current k: 8.384378093887435, current b: -30.105049903176408, and the loss is: 21.92868551946044\n",
      "When time is: 5800, get current k: 8.409810396450913, current b: -30.266827781040575, and the loss is: 21.919746534493097\n",
      "When time is: 5900, get current k: 8.43434152278646, current b: -30.422873170571346, and the loss is: 21.911429819443054\n",
      "When time is: 6000, get current k: 8.45800340545668, current b: -30.573389198567817, and the loss is: 21.903692056209657\n",
      "When time is: 6100, get current k: 8.480826845515688, current b: -30.718571794170032, and the loss is: 21.89649294219697\n",
      "When time is: 6200, get current k: 8.502841552603332, current b: -30.85860994390307, and the loss is: 21.889794980395376\n",
      "When time is: 6300, get current k: 8.52407618361872, current b: -30.993685937683953, and the loss is: 21.883563284075965\n",
      "When time is: 6400, get current k: 8.54455838002335, current b: -31.123975606111244, and the loss is: 21.877765395081116\n",
      "When time is: 6500, get current k: 8.564314803822464, current b: -31.249648549346656, and the loss is: 21.87237111476424\n",
      "When time is: 6600, get current k: 8.583371172271411, current b: -31.370868357886348, and the loss is: 21.86735234669833\n",
      "When time is: 6700, get current k: 8.601752291352195, current b: -31.487792825509185, and the loss is: 21.862682950334044\n",
      "When time is: 6800, get current k: 8.619482088063839, current b: -31.600574154679585, and the loss is: 21.85833860484524\n",
      "When time is: 6900, get current k: 8.636583641568532, current b: -31.70935915467179, and the loss is: 21.854296682452294\n",
      "When time is: 7000, get current k: 8.653079213234157, current b: -31.814289432673966, and the loss is: 21.85053613056418\n",
      "When time is: 7100, get current k: 8.66899027561227, current b: -31.91550157812052, and the loss is: 21.847037362124762\n",
      "When time is: 7200, get current k: 8.684337540389262, current b: -32.01312734049276, and the loss is: 21.843782153592297\n",
      "When time is: 7300, get current k: 8.699140985347091, current b: -32.107293800819306, and the loss is: 21.840753550021326\n",
      "When time is: 7400, get current k: 8.713419880368711, current b: -32.19812353709967, and the loss is: 21.837935776751603\n",
      "When time is: 7500, get current k: 8.727192812521949, current b: -32.28573478386573, and the loss is: 21.83531415724493\n",
      "When time is: 7600, get current k: 8.740477710254615, current b: -32.37024158608974, and the loss is: 21.832875036641596\n",
      "When time is: 7700, get current k: 8.753291866732248, current b: -32.451753947638466, and the loss is: 21.83060571063819\n",
      "When time is: 7800, get current k: 8.765651962348898, current b: -32.530377974466894, and the loss is: 21.828494359316398\n",
      "When time is: 7900, get current k: 8.77757408644029, current b: -32.60621601273829, and the loss is: 21.826529985578432\n",
      "When time is: 8000, get current k: 8.78907375822753, current b: -32.67936678204952, and the loss is: 21.824702357867878\n",
      "When time is: 8100, get current k: 8.80016594701878, current b: -32.7499255039363, and the loss is: 21.82300195687805\n",
      "When time is: 8200, get current k: 8.810865091694994, current b: -32.81798402582434, and the loss is: 21.821419925970208\n",
      "When time is: 8300, get current k: 8.821185119505271, current b: -32.88363094058869, and the loss is: 21.819948025043068\n",
      "When time is: 8400, get current k: 8.831139464196175, current b: -32.946951701876564, and the loss is: 21.818578587613917\n",
      "When time is: 8500, get current k: 8.840741083498662, current b: -33.00802873534369, and the loss is: 21.817304480887202\n",
      "When time is: 8600, get current k: 8.850002475995359, current b: -33.06694154594914, and the loss is: 21.816119068602855\n",
      "When time is: 8700, get current k: 8.858935697390173, current b: -33.12376682144816, and the loss is: 21.815016176471154\n",
      "When time is: 8800, get current k: 8.867552376201411, current b: -33.17857853221795, and the loss is: 21.813990060013467\n",
      "When time is: 8900, get current k: 8.87586372889878, current b: -33.23144802754599, and the loss is: 21.813035374641686\n",
      "When time is: 9000, get current k: 8.883880574504074, current b: -33.28244412850664, and the loss is: 21.812147147820795\n",
      "When time is: 9100, get current k: 8.891613348674445, current b: -33.33163321754658, and the loss is: 21.81132075316902\n",
      "When time is: 9200, get current k: 8.899072117286691, current b: -33.37907932489596, and the loss is: 21.81055188636109\n",
      "When time is: 9300, get current k: 8.906266589540154, current b: -33.42484421191761, and the loss is: 21.809836542708975\n",
      "When time is: 9400, get current k: 8.913206130595343, current b: -33.46898745150269, and the loss is: 21.80917099630307\n",
      "When time is: 9500, get current k: 8.919899773764723, current b: -33.511566505617786, and the loss is: 21.808551780605665\n",
      "When time is: 9600, get current k: 8.926356232271507, current b: -33.552636800104054, and the loss is: 21.80797567039532\n",
      "When time is: 9700, get current k: 8.932583910591822, current b: -33.5922517968259, and the loss is: 21.807439664968026\n",
      "When time is: 9800, get current k: 8.938590915394922, current b: -33.630463063263136, and the loss is: 21.806940972507963\n",
      "When time is: 9900, get current k: 8.944385066095801, current b: -33.66732033963729, and the loss is: 21.806476995545996\n"
     ]
    }
   ],
   "source": [
    "k, b = train_by_gradient_descend(it=10000, lr=0.03)"
   ]
  },
  {
   "cell_type": "code",
   "execution_count": 78,
   "metadata": {
    "collapsed": false
   },
   "outputs": [
    {
     "name": "stdout",
     "output_type": "stream",
     "text": [
      "When time is: 0, get current k: 0.4011542116990612, current b: 0.5641204249190361, and the loss is: 229.5545708910738\n",
      "When time is: 100, get current k: 3.520430856183183, current b: 0.8350924664961105, and the loss is: 29.56639258629181\n",
      "When time is: 200, get current k: 3.5538871643324645, current b: 0.6222729444105141, and the loss is: 29.473572149842248\n",
      "When time is: 300, get current k: 3.587142936655717, current b: 0.4107290521592616, and the loss is: 29.381861100974028\n",
      "When time is: 400, get current k: 3.6201993754935176, current b: 0.20045314373225318, and the loss is: 29.291246180313916\n",
      "When time is: 500, get current k: 3.6530576756411035, current b: -0.008562381104020477, and the loss is: 29.201714286964428\n",
      "When time is: 600, get current k: 3.6857190247321694, current b: -0.21632507702763723, and the loss is: 29.113252476609727\n",
      "When time is: 700, get current k: 3.71818460328179, current b: -0.42284245343430155, and the loss is: 29.025847959644082\n",
      "When time is: 800, get current k: 3.75045558472909, current b: -0.6281219747087654, and the loss is: 28.939488099322798\n",
      "When time is: 900, get current k: 3.782533135479658, current b: -0.8321710604946184, and the loss is: 28.8541604099353\n",
      "When time is: 1000, get current k: 3.814418414947702, current b: -1.0349970859624686, and the loss is: 28.769852554999876\n",
      "When time is: 1100, get current k: 3.8461125755979597, current b: -1.2366073820765087, and the loss is: 28.686552345480134\n",
      "When time is: 1200, get current k: 3.877616762987351, current b: -1.437009235859489, and the loss is: 28.604247738022785\n",
      "When time is: 1300, get current k: 3.908932115806381, current b: -1.6362098906560985, and the loss is: 28.522926833216395\n",
      "When time is: 1400, get current k: 3.940059765920301, current b: -1.8342165463947666, and the loss is: 28.442577873870924\n",
      "When time is: 1500, get current k: 3.9710008384100166, current b: -2.0310363598479033, and the loss is: 28.363189243318136\n",
      "When time is: 1600, get current k: 4.001756451612754, current b: -2.226676444890578, and the loss is: 28.28474946373177\n",
      "When time is: 1700, get current k: 4.0323277171624765, current b: -2.421143872757628, and the loss is: 28.20724719446839\n",
      "When time is: 1800, get current k: 4.0627157400300735, current b: -2.6144456722992557, and the loss is: 28.130671230427566\n",
      "When time is: 1900, get current k: 4.092921618563287, current b: -2.8065888302350785, and the loss is: 28.055010500431987\n",
      "When time is: 0, get current k: 0.6722078025903401, current b: 0.9660597420991447, and the loss is: 189.6818997423654\n",
      "When time is: 100, get current k: 3.3964162813004783, current b: 1.3499040024193745, and the loss is: 29.833280698166526\n",
      "When time is: 200, get current k: 3.444625892112222, current b: 1.3131210454838431, and the loss is: 29.77697065829616\n",
      "When time is: 300, get current k: 3.452054269872885, current b: 1.2699803790862185, and the loss is: 29.75780325625142\n",
      "When time is: 400, get current k: 3.4588532358441317, current b: 1.2267940090297185, and the loss is: 29.738690482829607\n",
      "When time is: 500, get current k: 3.465634577762821, current b: 1.1836580474688334, and the loss is: 29.71962361737955\n",
      "When time is: 600, get current k: 3.47240762686061, current b: 1.1405738974180513, and the loss is: 29.70060254764308\n",
      "When time is: 700, get current k: 3.479172534956292, current b: 1.0975415189184075, and the loss is: 29.681627163625507\n",
      "When time is: 800, get current k: 3.4859293139938408, current b: 1.0545608500986035, and the loss is: 29.662697355596585\n",
      "When time is: 900, get current k: 3.4926779737744402, current b: 1.0116318288270878, and the loss is: 29.643813014089787\n",
      "When time is: 1000, get current k: 3.4994185240550615, current b: 0.9687543930418713, and the loss is: 29.624974029901338\n",
      "When time is: 1100, get current k: 3.506150974580463, current b: 0.9259284807554605, and the loss is: 29.606180294090002\n",
      "When time is: 1200, get current k: 3.512875335083683, current b: 0.8831540300548512, and the loss is: 29.587431697975937\n",
      "When time is: 1300, get current k: 3.5195916152860627, current b: 0.8404309791014342, and the loss is: 29.568728133140475\n",
      "When time is: 1400, get current k: 3.526299824897265, current b: 0.7977592661309088, and the loss is: 29.55006949142536\n",
      "When time is: 1500, get current k: 3.532999973615283, current b: 0.7551388294531945, and the loss is: 29.531455664932054\n",
      "When time is: 1600, get current k: 3.539692071126456, current b: 0.712569607452339, and the loss is: 29.512886546021253\n",
      "When time is: 1700, get current k: 3.5463761271054843, current b: 0.670051538586432, and the loss is: 29.494362027312015\n",
      "When time is: 1800, get current k: 3.5530521512154434, current b: 0.6275845613875137, and the loss is: 29.475882001681597\n",
      "When time is: 1900, get current k: 3.5597201531077975, current b: 0.585168614461487, and the loss is: 29.457446362264257\n",
      "When time is: 0, get current k: 0.48429401429212937, current b: 0.7095926556526169, and the loss is: 216.4324500148345\n",
      "When time is: 100, get current k: 3.7311514598737903, current b: -0.5053261584306125, and the loss is: 28.991085164553343\n",
      "When time is: 200, get current k: 3.9834106210661737, current b: -2.1099764517981976, and the loss is: 28.331482314532046\n",
      "When time is: 300, get current k: 4.223821860514056, current b: -3.6392607167795537, and the loss is: 27.732383908847588\n",
      "When time is: 400, get current k: 4.452941642644735, current b: -5.0967186892649226, and the loss is: 27.18823995967866\n",
      "When time is: 500, get current k: 4.671300296275777, current b: -6.485723853446771, and the loss is: 26.694009571802972\n",
      "When time is: 600, get current k: 4.879403242133009, current b: -7.80949125020663, and the loss is: 26.245114244247024\n",
      "When time is: 700, get current k: 5.077732162715352, current b: -9.071084918763326, and the loss is: 25.83739545551034\n",
      "When time is: 800, get current k: 5.266746117214306, current b: -10.273424988807415, and the loss is: 25.467076139437232\n",
      "When time is: 900, get current k: 5.446882604068728, current b: -11.419294439537516, and the loss is: 25.1307256948532\n",
      "When time is: 1000, get current k: 5.618558573614313, current b: -12.51134554124317, and the loss is: 24.825228204818064\n",
      "When time is: 1100, get current k: 5.78217139317171, current b: -13.552105994344235, and the loss is: 24.5477535710824\n",
      "When time is: 1200, get current k: 5.938099766807107, current b: -14.543984780096421, and the loss is: 24.29573129634005\n",
      "When time is: 1300, get current k: 6.086704611894134, current b: -15.489277736505182, and the loss is: 24.066826671397536\n",
      "When time is: 1400, get current k: 6.228329894506114, current b: -16.39017287235424, and the loss is: 23.858919146661375\n",
      "When time is: 1500, get current k: 6.363303425572193, current b: -17.248755431648746, and the loss is: 23.67008268757814\n",
      "When time is: 1600, get current k: 6.4919376196401934, current b: -18.067012720195354, and the loss is: 23.498567932042743\n",
      "When time is: 1700, get current k: 6.614530218002491, current b: -18.846838705491198, and the loss is: 23.342785984482475\n",
      "When time is: 1800, get current k: 6.731364977858603, current b: -19.590038400568524, and the loss is: 23.201293696487127\n",
      "When time is: 1900, get current k: 6.842712329109734, current b: -20.29833204194223, and the loss is: 23.07278029762606\n",
      "When time is: 0, get current k: 0.3532323738137031, current b: 0.73778837086934, and the loss is: 232.24833231138186\n",
      "When time is: 100, get current k: 3.4927986896539136, current b: 1.0108639386374396, and the loss is: 29.64347542834097\n",
      "When time is: 200, get current k: 3.526420623670631, current b: 0.7969908508781041, and the loss is: 29.549733699652645\n",
      "When time is: 300, get current k: 3.5598410291057005, current b: 0.5843997079742844, and the loss is: 29.457112369807895\n",
      "When time is: 400, get current k: 3.5930611142524347, current b: 0.37308282606429893, and the loss is: 29.365598047827174\n",
      "When time is: 500, get current k: 3.6260820798209203, current b: 0.16303256728958804, and the loss is: 29.275177502779634\n",
      "When time is: 600, get current k: 3.6589051193242463, current b: -0.04575866042745275, and the loss is: 29.18583766187019\n",
      "When time is: 700, get current k: 3.6915314191216435, current b: -0.2532984036578844, and the loss is: 29.097565608549445\n",
      "When time is: 800, get current k: 3.7239621584613603, current b: -0.4595941637389877, and the loss is: 29.010348580646358\n",
      "When time is: 900, get current k: 3.7561985095232906, current b: -0.6646533970453904, and the loss is: 28.924173968522943\n",
      "When time is: 1000, get current k: 3.7882416374613372, current b: -0.8684835152585733, and the loss is: 28.839029313251398\n",
      "When time is: 1100, get current k: 3.8200927004455285, current b: -1.0710918856347584, and the loss is: 28.754902304812635\n",
      "When time is: 1200, get current k: 3.8517528497038773, current b: -1.27248583127119, and the loss is: 28.671780780316684\n",
      "When time is: 1300, get current k: 3.883223229563991, current b: -1.4726726313708256, and the loss is: 28.589652722244118\n",
      "When time is: 1400, get current k: 3.9145049774944343, current b: -1.6716595215054302, and the loss is: 28.508506256708547\n",
      "When time is: 1500, get current k: 3.9455992241458393, current b: -1.8694536938771058, and the loss is: 28.428329651740064\n",
      "When time is: 1600, get current k: 3.9765070933917723, current b: -2.06606229757824, and the loss is: 28.349111315588924\n",
      "When time is: 1700, get current k: 4.007229702369358, current b: -2.261492438849912, and the loss is: 28.27083979504974\n",
      "When time is: 1800, get current k: 4.037768161519656, current b: -2.4557511813387363, and the loss is: 28.193503773805464\n",
      "When time is: 1900, get current k: 4.0681235746277915, current b: -2.6488455463521694, and the loss is: 28.11709207079154\n",
      "When time is: 2000, get current k: 4.09829703886286, current b: -2.8407825131122957, and the loss is: 28.041593638579098\n",
      "When time is: 2100, get current k: 4.128289644817578, current b: -3.0315690190080757, and the loss is: 27.96699756177787\n",
      "When time is: 2200, get current k: 4.158102476547699, current b: -3.2212119598460998, and the loss is: 27.893293055458123\n",
      "When time is: 2300, get current k: 4.187736611611202, current b: -3.409718190099834, and the loss is: 27.820469463591326\n",
      "When time is: 2400, get current k: 4.2171931211072335, current b: -3.5970945231573497, and the loss is: 27.748516257509564\n",
      "When time is: 2500, get current k: 4.2464730697148285, current b: -3.783347731567614, and the loss is: 27.67742303438316\n",
      "When time is: 2600, get current k: 4.2755775157313805, current b: -3.9684845472852577, and the loss is: 27.607179515717007\n",
      "When time is: 2700, get current k: 4.304507511110906, current b: -4.152511661913902, and the loss is: 27.537775545864193\n",
      "When time is: 2800, get current k: 4.333264101502054, current b: -4.335435726948027, and the loss is: 27.469201090557917\n",
      "When time is: 2900, get current k: 4.361848326285913, current b: -4.517263354013367, and the loss is: 27.40144623546059\n",
      "When time is: 3000, get current k: 4.390261218613568, current b: -4.698001115105903, and the loss is: 27.334501184730584\n",
      "When time is: 3100, get current k: 4.418503805443446, current b: -4.877655542829382, and the loss is: 27.268356259606062\n",
      "When time is: 3200, get current k: 4.4465771075784355, current b: -5.0562331306314485, and the loss is: 27.203001897005294\n",
      "When time is: 3300, get current k: 4.474482139702784, current b: -5.233740333038337, and the loss is: 27.1384286481444\n",
      "When time is: 3400, get current k: 4.502219910418769, current b: -5.410183565888158, and the loss is: 27.07462717717117\n",
      "When time is: 3500, get current k: 4.529791422283155, current b: -5.585569206562799, and the loss is: 27.011588259815134\n",
      "When time is: 3600, get current k: 4.55719767184343, current b: -5.759903594218443, and the loss is: 26.949302782054176\n",
      "When time is: 3700, get current k: 4.584439649673825, current b: -5.933193030014665, and the loss is: 26.887761738796684\n",
      "When time is: 3800, get current k: 4.611518340411117, current b: -6.105443777342206, and the loss is: 26.826956232579814\n",
      "When time is: 3900, get current k: 4.638434722790218, current b: -6.276662062049336, and the loss is: 26.766877472282783\n",
      "When time is: 4000, get current k: 4.665189769679553, current b: -6.446854072666903, and the loss is: 26.707516771856238\n",
      "When time is: 4100, get current k: 4.691784448116214, current b: -6.616025960631989, and the loss is: 26.648865549066176\n",
      "When time is: 4200, get current k: 4.718219719340925, current b: -6.784183840510272, and the loss is: 26.590915324253313\n",
      "When time is: 4300, get current k: 4.74449653883278, current b: -6.951333790217017, and the loss is: 26.533657719106927\n",
      "When time is: 4400, get current k: 4.770615856343777, current b: -7.117481851236762, and the loss is: 26.47708445545385\n",
      "When time is: 4500, get current k: 4.796578615933143, current b: -7.282634028841668, and the loss is: 26.421187354061246\n",
      "When time is: 4600, get current k: 4.822385756001466, current b: -7.446796292308603, and the loss is: 26.365958333454405\n",
      "When time is: 4700, get current k: 4.8480382093246, current b: -7.609974575134866, and the loss is: 26.31138940874808\n",
      "When time is: 4800, get current k: 4.873536903087391, current b: -7.772174775252662, and the loss is: 26.257472690492335\n",
      "When time is: 4900, get current k: 4.89888275891718, current b: -7.933402755242286, and the loss is: 26.20420038353156\n",
      "When time is: 0, get current k: 0.5418976189236137, current b: 0.16032498633001002, and the loss is: 219.7226983912163\n",
      "When time is: 100, get current k: 3.5129185077665825, current b: 0.583913000499113, and the loss is: 29.50419923714104\n",
      "When time is: 200, get current k: 3.564746325371825, current b: 0.5486413018657796, and the loss is: 29.441645843990567\n",
      "When time is: 300, get current k: 3.572087623182087, current b: 0.5064282714088694, and the loss is: 29.423282208270873\n",
      "When time is: 400, get current k: 3.5787432240393118, current b: 0.4641595578401809, and the loss is: 29.404972903189567\n",
      "When time is: 500, get current k: 3.5853805139280546, current b: 0.42194001499983846, and the loss is: 29.386707576650085\n",
      "When time is: 600, get current k: 3.5920096710042895, current b: 0.37977118040072105, and the loss is: 29.368486120649703\n",
      "When time is: 700, get current k: 3.5986308597862235, current b: 0.33765301743624304, and the loss is: 29.3503084298175\n",
      "When time is: 800, get current k: 3.6052440922067213, current b: 0.29558546558769505, and the loss is: 29.332174399036187\n",
      "When time is: 900, get current k: 3.6118493778624403, current b: 0.25356846404408045, and the loss is: 29.314083923440975\n",
      "When time is: 1000, get current k: 3.6184467263031244, current b: 0.21160195206191437, and the loss is: 29.296036898418883\n",
      "When time is: 1100, get current k: 3.625036147066504, current b: 0.1696858689706188, and the loss is: 29.278033219608258\n",
      "When time is: 1200, get current k: 3.6316176496788426, current b: 0.127820154172519, and the loss is: 29.260072782898096\n",
      "When time is: 1300, get current k: 3.6381912436549535, current b: 0.08600474714275763, and the loss is: 29.242155484427414\n",
      "When time is: 1400, get current k: 3.6447569384982184, current b: 0.04423958742920674, and the loss is: 29.22428122058478\n",
      "When time is: 1500, get current k: 3.6513147437005973, current b: 0.0025246146523797584, and the loss is: 29.20644988800747\n",
      "When time is: 1600, get current k: 3.6578646687426466, current b: -0.039140231494654065, and the loss is: 29.188661383581206\n",
      "When time is: 1700, get current k: 3.6644067230935295, current b: -0.08075501124635871, and the loss is: 29.170915604439195\n",
      "When time is: 1800, get current k: 3.67094091621103, current b: -0.12231978476481753, and the loss is: 29.153212447961835\n",
      "When time is: 1900, get current k: 3.6774672575415686, current b: -0.16383461213982023, and the loss is: 29.135551811775944\n",
      "When time is: 2000, get current k: 3.6839857565202117, current b: -0.20529955338894906, and the loss is: 29.117933593754316\n",
      "When time is: 2100, get current k: 3.690496422570692, current b: -0.24671466845766862, and the loss is: 29.100357692014864\n",
      "When time is: 2200, get current k: 3.6969992651054144, current b: -0.2880800172194078, and the loss is: 29.08282400492036\n",
      "When time is: 2300, get current k: 3.7034942935254778, current b: -0.32939565947564986, and the loss is: 29.065332431077618\n",
      "When time is: 2400, get current k: 3.7099815172206787, current b: -0.37066165495601794, and the loss is: 29.047882869337037\n",
      "When time is: 2500, get current k: 3.716460945569536, current b: -0.4118780633183618, and the loss is: 29.030475218791928\n",
      "When time is: 2600, get current k: 3.7229325879392956, current b: -0.45304494414884233, and the loss is: 29.013109378777955\n",
      "When time is: 2700, get current k: 3.7293964536859465, current b: -0.49416235696202027, and the loss is: 28.995785248872586\n",
      "When time is: 2800, get current k: 3.735852552154239, current b: -0.5352303612009399, and the loss is: 28.978502728894476\n",
      "When time is: 2900, get current k: 3.742300892677691, current b: -0.5762490162372167, and the loss is: 28.9612617189029\n",
      "When time is: 3000, get current k: 3.7487414845786047, current b: -0.6172183813711213, and the loss is: 28.94406211919718\n",
      "When time is: 3100, get current k: 3.755174337168083, current b: -0.6581385158316673, and the loss is: 28.926903830316142\n",
      "When time is: 3200, get current k: 3.761599459746038, current b: -0.6990094787766968, and the loss is: 28.909786753037366\n",
      "When time is: 3300, get current k: 3.7680168616012075, current b: -0.7398313292929638, and the loss is: 28.89271078837693\n",
      "When time is: 3400, get current k: 3.774426552011165, current b: -0.7806041263962209, and the loss is: 28.875675837588552\n",
      "When time is: 3500, get current k: 3.7808285402423403, current b: -0.8213279290313065, and the loss is: 28.858681802163158\n",
      "When time is: 3600, get current k: 3.787222835550024, current b: -0.8620027960722261, and the loss is: 28.841728583828175\n",
      "When time is: 3700, get current k: 3.793609447178388, current b: -0.9026287863222406, and the loss is: 28.824816084547315\n",
      "When time is: 3800, get current k: 3.799988384360493, current b: -0.94320595851395, and the loss is: 28.80794420651947\n",
      "When time is: 3900, get current k: 3.8063596563183095, current b: -0.9837343713093777, and the loss is: 28.791112852178557\n",
      "When time is: 4000, get current k: 3.812723272262721, current b: -1.0242140833000557, and the loss is: 28.774321924192954\n",
      "When time is: 4100, get current k: 3.819079241393545, current b: -1.0646451530071128, and the loss is: 28.757571325464617\n",
      "When time is: 4200, get current k: 3.8254275728995455, current b: -1.1050276388813538, and the loss is: 28.7408609591288\n",
      "When time is: 4300, get current k: 3.8317682759584453, current b: -1.1453615993033472, and the loss is: 28.724190728553413\n",
      "When time is: 4400, get current k: 3.8381013597369353, current b: -1.185647092583506, and the loss is: 28.707560537338477\n",
      "When time is: 4500, get current k: 3.8444268333906915, current b: -1.225884176962178, and the loss is: 28.690970289315512\n",
      "When time is: 4600, get current k: 3.850744706064394, current b: -1.2660729106097262, and the loss is: 28.67441988854707\n",
      "When time is: 4700, get current k: 3.8570549868917268, current b: -1.3062133516266137, and the loss is: 28.657909239326077\n",
      "When time is: 4800, get current k: 3.8633576849954028, current b: -1.3463055580434828, and the loss is: 28.64143824617538\n",
      "When time is: 4900, get current k: 3.8696528094871723, current b: -1.38634958782125, and the loss is: 28.62500681384708\n",
      "When time is: 0, get current k: 0.8245756490767086, current b: 0.21134790375126733, and the loss is: 185.55724794091316\n",
      "When time is: 100, get current k: 3.811820227897849, current b: -1.0184697115271308, and the loss is: 28.776703452382687\n",
      "When time is: 200, get current k: 4.060290598045907, current b: -2.5990190579477512, and the loss is: 28.136765536147596\n",
      "When time is: 300, get current k: 4.297090995585534, current b: -4.105334331436391, and the loss is: 27.55552822745326\n",
      "When time is: 400, get current k: 4.522769527160588, current b: -5.540902103036561, and the loss is: 27.027607001897863\n",
      "When time is: 500, get current k: 4.737848556347399, current b: -6.909045189101223, and the loss is: 26.54811124995105\n",
      "When time is: 600, get current k: 4.942825912736109, current b: -8.212930342401997, and the loss is: 26.112598970835624\n",
      "When time is: 700, get current k: 5.138176044224802, current b: -9.455575582008034, and the loss is: 25.717035622275745\n",
      "When time is: 800, get current k: 5.324351115193529, current b: -10.63985717890062, and the loss is: 25.357756744900115\n",
      "When time is: 900, get current k: 5.501782053100098, current b: -11.768516313492468, and the loss is: 25.031434015056107\n",
      "When time is: 1000, get current k: 5.670879545920136, current b: -12.844165420461708, and the loss is: 24.735044411551772\n",
      "When time is: 1100, get current k: 5.832034992740127, current b: -13.869294235586342, and the loss is: 24.46584221068929\n",
      "When time is: 1200, get current k: 5.985621409703688, current b: -14.846275558575433, and the loss is: 24.221333550154785\n",
      "When time is: 1300, get current k: 6.131994293408032, current b: -15.777370745235906, and the loss is: 23.99925332612672\n",
      "When time is: 1400, get current k: 6.271492443749084, current b: -16.664734941687385, and the loss is: 23.79754420958036\n",
      "When time is: 1500, get current k: 6.404438748119778, current b: -17.510422072740184, and the loss is: 23.61433758739699\n",
      "When time is: 1600, get current k: 6.531140928776753, current b: -18.31638959598296, and the loss is: 23.447936251718485\n",
      "When time is: 1700, get current k: 6.651892255105247, current b: -19.084503032583864, and the loss is: 23.2967986771832\n",
      "When time is: 1800, get current k: 6.766972222430864, current b: -19.816540285292206, and the loss is: 23.15952474038902\n",
      "When time is: 1900, get current k: 6.876647198949451, current b: -20.5141957536358, and the loss is: 23.034842749289748\n",
      "When time is: 2000, get current k: 6.981171042272402, current b: -21.17908425583837, and the loss is: 22.921597662366985\n",
      "When time is: 2100, get current k: 7.080785687014529, current b: -21.812744766535364, and the loss is: 22.818740388440993\n",
      "When time is: 2200, get current k: 7.17572170478457, current b: -22.416643978939653, and the loss is: 22.72531806799449\n",
      "When time is: 2300, get current k: 7.266198837874438, current b: -22.99217969970181, and the loss is: 22.64046524597737\n",
      "When time is: 2400, get current k: 7.352426507882571, current b: -23.540684084323264, and the loss is: 22.56339585431746\n",
      "When time is: 2500, get current k: 7.43460430044864, current b: -24.063426720611016, and the loss is: 22.49339592986439\n",
      "When time is: 2600, get current k: 7.512922427221577, current b: -24.56161756731073, and the loss is: 22.429817000306226\n",
      "When time is: 2700, get current k: 7.587562166130242, current b: -25.036409754720438, and the loss is: 22.372070076786727\n",
      "When time is: 2800, get current k: 7.658696280975782, current b: -25.48890225376703, and the loss is: 22.319620197571385\n",
      "When time is: 2900, get current k: 7.726489421316883, current b: -25.920142419723554, and the loss is: 22.271981472215288\n",
      "When time is: 3000, get current k: 7.791098503573516, current b: -26.33112841645511, and the loss is: 22.228712580322657\n",
      "When time is: 3100, get current k: 7.852673074231277, current b: -26.72281152680449, and the loss is: 22.18941268319851\n",
      "When time is: 3200, get current k: 7.911355655987004, current b: -27.096098354465347, and the loss is: 22.153717710519285\n",
      "When time is: 3300, get current k: 7.967282077636905, current b: -27.45185292243948, and the loss is: 22.121296987621623\n",
      "When time is: 3400, get current k: 8.020581788470732, current b: -27.790898672935263, and the loss is: 22.091850172165135\n",
      "When time is: 3500, get current k: 8.071378157899716, current b: -28.114020373336313, and the loss is: 22.06510447179122\n",
      "When time is: 3600, get current k: 8.119788761011815, current b: -28.421965932652153, and the loss is: 22.04081211700162\n",
      "When time is: 3700, get current k: 8.165925650715192, current b: -28.71544813265491, and the loss is: 22.018748065846793\n",
      "When time is: 3800, get current k: 8.209895617099878, current b: -28.99514627770955, and the loss is: 21.998707919159443\n",
      "When time is: 3900, get current k: 8.251800434617932, current b: -29.261707767115986, and the loss is: 21.98050602702137\n",
      "When time is: 4000, get current k: 8.2917370976542, current b: -29.515749593602518, and the loss is: 21.963973768920884\n",
      "When time is: 4100, get current k: 8.329798045032994, current b: -29.757859771439232, and the loss is: 21.948957991669356\n",
      "When time is: 4200, get current k: 8.366071373980274, current b: -29.988598697476814, and the loss is: 21.93531959060548\n",
      "When time is: 4300, get current k: 8.400641044036641, current b: -30.208500448261056, and the loss is: 21.92293222094327\n",
      "When time is: 4400, get current k: 8.433587071393076, current b: -30.418074016225464, and the loss is: 21.911681127326812\n",
      "When time is: 4500, get current k: 8.46498571409927, current b: -30.617804487823353, and the loss is: 21.901462080748132\n",
      "When time is: 4600, get current k: 8.494909648573232, current b: -30.80815416632614, and the loss is: 21.892180412979823\n",
      "When time is: 4700, get current k: 8.523428137820709, current b: -30.989563641887123, and the loss is: 21.88375013957835\n",
      "When time is: 4800, get current k: 8.550607191753809, current b: -31.162452811347034, and the loss is: 21.87609316333249\n",
      "When time is: 4900, get current k: 8.57650971997991, current b: -31.327221850142315, and the loss is: 21.869138550778715\n"
     ]
    },
    {
     "data": {
      "image/png": "[encoded data removed]",
      "text/plain": [
       "<Figure size 1080x360 with 6 Axes>"
      ]
     },
     "metadata": {},
     "output_type": "display_data"
    }
   ],
   "source": [
    "params = [(it, lr) for it in [2000, 5000] for lr in [0.005, 0.001, 0.04]]\n",
    "fig, axes = plt.subplots(2, 3, figsize=(15, 5))  # 多图显示\n",
    "\n",
    "for axe, (it, lr) in zip(axes.flatten(), params):\n",
    "    k, b = train_by_gradient_descend(it, lr)\n",
    "    title = \"ir={it}, lr={lr}\".format(it=it, lr=lr)\n",
    "    axe.set_title(title)\n",
    "    axe.scatter(X_rm, [price(r, k, b) for r in X_rm])\n",
    "    axe.scatter(X_rm, y, color=\"red\")\n",
    "fig.tight_layout()  # tight_layout会自动调整子图参数，使之填充整个图像区域"
   ]
  },
  {
   "cell_type": "markdown",
   "metadata": {},
   "source": [
    "## Try different Loss function and learning rate. "
   ]
  },
  {
   "cell_type": "markdown",
   "metadata": {},
   "source": [
    "- For example, you can change the loss function: $Loss = \\frac{1}{n} \\sum({y_i - \\hat{y_i}})^2$ $to$ $Loss = \\frac{1}{n} \\sum(|{y_i - \\hat{y_i}}|)$. And you can change the learning rate and observe the performance."
   ]
  },
  {
   "cell_type": "code",
   "execution_count": 17,
   "metadata": {
    "collapsed": true
   },
   "outputs": [],
   "source": [
    "def mean_absolute_error(y, y_hat):\n",
    "    return np.abs(y_hat - y).sum() / y.size"
   ]
  },
  {
   "cell_type": "code",
   "execution_count": 18,
   "metadata": {
    "collapsed": true
   },
   "outputs": [],
   "source": [
    "def supervised_direction(scalar, loss_func):\n",
    "    min_loss = float(\"inf\")\n",
    "    trying_times = 2000\n",
    "    \n",
    "    best_k = np.random.random() * 200 - 100\n",
    "    best_b = np.random.random() * 200 - 100\n",
    "    \n",
    "    direction = [\n",
    "        (+1, -1),\n",
    "        (+1, +1),\n",
    "        (-1, -1),\n",
    "        (-1, +1)\n",
    "    ]\n",
    "    \n",
    "    next_direction = random.choice(direction)\n",
    "    \n",
    "    for i in range(trying_times):\n",
    "        k_direction, b_direction = next_direction\n",
    "        current_k, current_b = best_k + scalar * k_direction, best_b + scalar * b_direction\n",
    "        price_by_k_and_b = [price(r, current_k, current_b) for r in X_rm]\n",
    "        current_loss = loss_func(y, price_by_k_and_b)\n",
    "        \n",
    "        if current_loss < min_loss:\n",
    "            best_k, best_b = current_k, current_b\n",
    "            min_loss = current_loss\n",
    "            \n",
    "            if i % 100 == 0:\n",
    "                print(\"When time is: {time}, get best_k: {k} best_b: {b}, and the loss is: {loss}\".format(time=i, k=best_k, b=best_b, loss=min_loss))\n",
    "        else:\n",
    "            next_direction = random.choice(direction)\n",
    "    return best_k, best_b"
   ]
  },
  {
   "cell_type": "code",
   "execution_count": 19,
   "metadata": {
    "collapsed": false
   },
   "outputs": [
    {
     "name": "stdout",
     "output_type": "stream",
     "text": [
      "When time is: 0, get best_k: 43.408858418450514 best_b: 84.26129653580546, and the loss is: 56269.340566670944\n",
      "When time is: 100, get best_k: 42.91385841845026 best_b: 84.756296535805, and the loss is: 55389.34139810535\n",
      "When time is: 200, get best_k: 42.413858418450005 best_b: 85.25629653580455, and the loss is: 54507.522837935416\n",
      "When time is: 300, get best_k: 41.91385841844975 best_b: 85.7562965358041, and the loss is: 53632.80929172161\n",
      "When time is: 400, get best_k: 41.41385841844949 best_b: 86.25629653580364, and the loss is: 52765.20075946374\n",
      "When time is: 500, get best_k: 40.91385841844924 best_b: 86.75629653580319, and the loss is: 51904.69724116202\n",
      "When time is: 600, get best_k: 40.41385841844898 best_b: 87.25629653580273, and the loss is: 51051.298736816156\n",
      "When time is: 700, get best_k: 39.913858418448726 best_b: 87.75629653580228, and the loss is: 50205.005246426445\n",
      "When time is: 800, get best_k: 39.41385841844847 best_b: 88.25629653580182, and the loss is: 49365.81676999281\n",
      "When time is: 900, get best_k: 38.913858418448214 best_b: 88.75629653580137, and the loss is: 48533.733307515206\n",
      "When time is: 1000, get best_k: 38.41385841844796 best_b: 89.25629653580091, and the loss is: 47708.754858993576\n",
      "When time is: 1100, get best_k: 37.9138584184477 best_b: 89.75629653580046, and the loss is: 46890.88142442801\n",
      "When time is: 1200, get best_k: 37.41385841844745 best_b: 90.2562965358, and the loss is: 46080.11300381857\n",
      "When time is: 1300, get best_k: 36.91385841844719 best_b: 90.75629653579955, and the loss is: 45276.449597164996\n",
      "When time is: 1400, get best_k: 36.413858418446935 best_b: 91.2562965357991, and the loss is: 44479.891204467625\n",
      "When time is: 1500, get best_k: 35.91385841844668 best_b: 91.75629653579864, and the loss is: 43690.43782572616\n",
      "When time is: 1600, get best_k: 35.413858418446424 best_b: 92.25629653579819, and the loss is: 42908.08946094083\n",
      "When time is: 1700, get best_k: 34.91385841844617 best_b: 92.75629653579773, and the loss is: 42132.846110111495\n",
      "When time is: 1800, get best_k: 34.41385841844591 best_b: 93.25629653579728, and the loss is: 41364.70777323817\n",
      "When time is: 1900, get best_k: 33.913858418445656 best_b: 93.75629653579682, and the loss is: 40603.67445032095\n",
      "When time is: 0, get best_k: 68.7381458746129 best_b: 82.49103068123081, and the loss is: 121906.47716585267\n",
      "When time is: 100, get best_k: 67.7581458746124 best_b: 83.47103068123131, and the loss is: 119343.53724837564\n",
      "When time is: 200, get best_k: 66.75814587461188 best_b: 84.47103068123182, and the loss is: 116756.4282898893\n",
      "When time is: 300, get best_k: 65.75814587461137 best_b: 85.47103068123234, and the loss is: 114197.73938722727\n",
      "When time is: 400, get best_k: 64.75814587461086 best_b: 86.47103068123285, and the loss is: 111667.47054038936\n",
      "When time is: 500, get best_k: 63.75814587461053 best_b: 87.47103068123336, and the loss is: 109165.62174937605\n",
      "When time is: 600, get best_k: 62.758145874610726 best_b: 88.47103068123387, and the loss is: 106692.19301418845\n",
      "When time is: 700, get best_k: 61.758145874610925 best_b: 89.47103068123438, and the loss is: 104247.1843348249\n",
      "When time is: 800, get best_k: 60.758145874611124 best_b: 90.4710306812349, and the loss is: 101830.59571128538\n",
      "When time is: 900, get best_k: 59.75814587461132 best_b: 91.4710306812354, and the loss is: 99442.42714357038\n",
      "When time is: 1000, get best_k: 58.75814587461152 best_b: 92.47103068123592, and the loss is: 97082.67863167888\n",
      "When time is: 1100, get best_k: 57.75814587461172 best_b: 93.47103068123643, and the loss is: 94751.35017561165\n",
      "When time is: 1200, get best_k: 56.75814587461192 best_b: 94.47103068123694, and the loss is: 92448.44177536885\n",
      "When time is: 1300, get best_k: 55.75814587461212 best_b: 95.47103068123745, and the loss is: 90173.95343094977\n",
      "When time is: 1400, get best_k: 54.75814587461232 best_b: 96.47103068123796, and the loss is: 87927.8851423549\n",
      "When time is: 1500, get best_k: 53.75814587461252 best_b: 97.47103068123847, and the loss is: 85710.2369095841\n",
      "When time is: 1600, get best_k: 52.758145874612715 best_b: 98.47103068123899, and the loss is: 83521.00873263738\n",
      "When time is: 1700, get best_k: 51.758145874612914 best_b: 99.4710306812395, and the loss is: 81360.20061151484\n",
      "When time is: 1800, get best_k: 50.75814587461311 best_b: 100.47103068124001, and the loss is: 79227.8125462163\n",
      "When time is: 1900, get best_k: 49.75814587461331 best_b: 101.47103068124052, and the loss is: 77123.84453674189\n",
      "When time is: 0, get best_k: -11.721476204902807 best_b: 81.09473061581319, and the loss is: 242.67629868242173\n",
      "When time is: 100, get best_k: -8.561476204902874 best_b: 77.77473061581267, and the loss is: 99.69258333064538\n",
      "When time is: 400, get best_k: -7.921476204902886 best_b: 73.61473061581202, and the loss is: 94.03526356204088\n",
      "When time is: 800, get best_k: -7.041476204902885 best_b: 68.3347306158112, and the loss is: 87.2016651050308\n",
      "When time is: 900, get best_k: -6.921476204902885 best_b: 67.01473061581099, and the loss is: 85.53444733314097\n",
      "When time is: 1100, get best_k: -6.441476204902885 best_b: 64.5347306158106, and the loss is: 82.47320125004777\n",
      "When time is: 1800, get best_k: -5.241476204902884 best_b: 56.774730615810675, and the loss is: 73.32995965680993\n",
      "When time is: 1900, get best_k: -5.081476204902883 best_b: 55.6547306158107, and the loss is: 72.06316487330189\n",
      "When time is: 0, get best_k: 16.138489378113835 best_b: 73.59322769828714, and the loss is: 152.48492667978206\n",
      "When time is: 100, get best_k: 15.643489378113806 best_b: 73.09822769828759, and the loss is: 148.87903265804326\n",
      "When time is: 200, get best_k: 15.143489378113728 best_b: 72.59822769828804, and the loss is: 145.2367154643673\n",
      "When time is: 300, get best_k: 14.64348937811365 best_b: 72.0982276982885, and the loss is: 141.59439827069139\n",
      "When time is: 400, get best_k: 14.143489378113571 best_b: 71.59822769828895, and the loss is: 137.95208107701544\n",
      "When time is: 500, get best_k: 13.643489378113493 best_b: 71.0982276982894, and the loss is: 134.30976388333954\n",
      "When time is: 600, get best_k: 13.143489378113415 best_b: 70.59822769828986, and the loss is: 130.6674466896636\n",
      "When time is: 700, get best_k: 12.643489378113337 best_b: 70.09822769829032, and the loss is: 127.02512949598768\n",
      "When time is: 800, get best_k: 12.143489378113259 best_b: 69.59822769829077, and the loss is: 123.38281230231176\n",
      "When time is: 900, get best_k: 11.64348937811318 best_b: 69.09822769829123, and the loss is: 119.74049510863583\n",
      "When time is: 1000, get best_k: 11.143489378113102 best_b: 68.59822769829168, and the loss is: 116.09817791495989\n",
      "When time is: 1100, get best_k: 10.643489378113024 best_b: 68.09822769829213, and the loss is: 112.45586072128398\n",
      "When time is: 1200, get best_k: 10.143489378112946 best_b: 67.59822769829259, and the loss is: 108.81354352760803\n",
      "When time is: 1300, get best_k: 9.643489378112868 best_b: 67.09822769829304, and the loss is: 105.17122633393213\n",
      "When time is: 1400, get best_k: 9.14348937811279 best_b: 66.5982276982935, and the loss is: 101.52890914025622\n",
      "When time is: 1500, get best_k: 8.643489378112712 best_b: 66.09822769829395, and the loss is: 97.88659194658027\n",
      "When time is: 1600, get best_k: 8.143489378112633 best_b: 65.59822769829441, and the loss is: 94.24427475290435\n",
      "When time is: 1700, get best_k: 7.643489378112619 best_b: 65.09822769829486, and the loss is: 90.60195755922882\n",
      "When time is: 1800, get best_k: 7.14348937811263 best_b: 64.59822769829532, and the loss is: 86.95964036555345\n",
      "When time is: 1900, get best_k: 6.6434893781126405 best_b: 64.09822769829577, and the loss is: 83.31732317187809\n",
      "When time is: 0, get best_k: 4.426919917038896 best_b: 34.76615267358009, and the loss is: 40.05491949014455\n",
      "When time is: 100, get best_k: 3.4369199170389173 best_b: 35.75615267357989, and the loss is: 34.82313144666621\n",
      "When time is: 200, get best_k: 2.4369199170389386 best_b: 36.75615267357969, and the loss is: 29.542972772115707\n",
      "When time is: 300, get best_k: 1.4369199170389473 best_b: 37.75615267357949, and the loss is: 24.350287182863827\n",
      "When time is: 400, get best_k: 0.4369199170389464 best_b: 38.756152673579294, and the loss is: 19.629964372461455\n",
      "When time is: 500, get best_k: -0.5630800829610542 best_b: 39.756152673579095, and the loss is: 15.23140861829276\n",
      "When time is: 600, get best_k: -1.563080082961055 best_b: 40.756152673578896, and the loss is: 11.536580084159155\n",
      "When time is: 700, get best_k: -2.563080082961043 best_b: 41.7561526735787, and the loss is: 8.83118872931933\n",
      "When time is: 800, get best_k: -3.4330800829610246 best_b: 42.566152673578536, and the loss is: 7.8459150141459535\n",
      "When time is: 900, get best_k: -3.4030800829610253 best_b: 42.2361526735786, and the loss is: 7.824167495472347\n",
      "When time is: 1100, get best_k: -3.2130800829610293 best_b: 41.18615267357881, and the loss is: 7.754102845270562\n",
      "When time is: 1200, get best_k: -3.1130800829610314 best_b: 40.54615267357894, and the loss is: 7.711535297166677\n",
      "When time is: 1300, get best_k: -3.0530800829610327 best_b: 40.206152673579005, and the loss is: 7.689104571497476\n",
      "When time is: 1500, get best_k: -2.9330800829610353 best_b: 39.48615267357915, and the loss is: 7.64172500366786\n",
      "When time is: 0, get best_k: 53.29787213501772 best_b: -47.235217466030434, and the loss is: 265.18961620226946\n",
      "When time is: 100, get best_k: 49.337872135017804 best_b: -51.19521746603035, and the loss is: 236.34246402835703\n",
      "When time is: 200, get best_k: 45.33787213501789 best_b: -55.195217466030265, and the loss is: 207.2039264789505\n",
      "When time is: 300, get best_k: 41.337872135017975 best_b: -59.19521746603018, and the loss is: 178.065388929544\n",
      "When time is: 400, get best_k: 37.33787213501806 best_b: -63.195217466030094, and the loss is: 148.9268513801375\n",
      "When time is: 500, get best_k: 33.337872135018145 best_b: -67.19521746603057, and the loss is: 119.78831383073047\n",
      "When time is: 600, get best_k: 29.33787213501823 best_b: -71.1952174660312, and the loss is: 90.64977628132324\n",
      "When time is: 700, get best_k: 25.337872135018316 best_b: -75.19521746603182, and the loss is: 61.562156013345636\n",
      "When time is: 800, get best_k: 21.3378721350184 best_b: -79.19521746603245, and the loss is: 32.70889679109433\n",
      "When time is: 900, get best_k: 17.337872135018486 best_b: -83.19521746603307, and the loss is: 6.641796938014666\n"
     ]
    },
    {
     "data": {
      "image/png": "[encoded data removed]",
      "text/plain": [
       "<Figure size 1080x360 with 6 Axes>"
      ]
     },
     "metadata": {},
     "output_type": "display_data"
    }
   ],
   "source": [
    "params = [(loss, lr) for loss in [mean_squared_error, mean_absolute_error] for lr in [0.005, 0.01, 0.04]]\n",
    "fig, axes = plt.subplots(2, 3, figsize=(15, 5))\n",
    "\n",
    "for axe, (loss, lr) in zip(axes.flatten(), params):\n",
    "    k, b = supervised_direction(lr, loss)  # 函数的返回值就是k, b\n",
    "    title = \"loss_func={loss_func}, lr={lr}\".format(loss_func=loss.__name__, lr=lr)  # 如果不加__name__，则返回的就是<function mean_squared_error at 0x0000016C23D08AE8>\n",
    "    axe.set_title(title)\n",
    "    axe.scatter(X_rm, [price(r, k, b) for r in X_rm])\n",
    "    axe.scatter(X_rm, y, color=\"red\")\n",
    "fig.tight_layout()"
   ]
  },
  {
   "cell_type": "markdown",
   "metadata": {},
   "source": [
    "# Answer following questions:\n",
    "\n",
    "\n",
    "## Why do we need machine learning methods instead of creating a complicated formula ?\n"
   ]
  },
  {
   "cell_type": "markdown",
   "metadata": {},
   "source": [
    "- 复杂的公式会随着数据的改变需要我们人为地进行修改，而且当关系复杂到一定程度时，我们很难通过观察找到其中的关系。\n",
    "- 机器学习方法基于数据驱动，它会随着数据的改变而自发学得对应的复杂关系。"
   ]
  },
  {
   "cell_type": "markdown",
   "metadata": {},
   "source": [
    "## Wha't's the disadvantages of the 1st Random Choosen methods in our course ? "
   ]
  },
  {
   "cell_type": "markdown",
   "metadata": {},
   "source": [
    "- 毫无方向性。如果搜索次数不够多，随机值范围不好，很难得到好结果。"
   ]
  },
  {
   "cell_type": "markdown",
   "metadata": {},
   "source": [
    "## Is the 2nd method supervised direction better than 1st one?  What's the disadvantages of the 2nd supversied directin method ? "
   ]
  },
  {
   "cell_type": "markdown",
   "metadata": {},
   "source": [
    "- 比第一种方法更好。因为它有一定的方向性，当参数向损失更小的方向更新时，则继续保持这个正确的方向，否则随机给出一个方向。\n",
    "- 第二种方法的缺点是只有4个方向，极有可能无法选择到最好的方向。"
   ]
  },
  {
   "cell_type": "markdown",
   "metadata": {},
   "source": [
    "## Why do we use Derivative / Gredient to fit a target function ? "
   ]
  },
  {
   "cell_type": "markdown",
   "metadata": {},
   "source": [
    "- 负梯度方向是函数下降最快的方向。"
   ]
  },
  {
   "cell_type": "markdown",
   "metadata": {},
   "source": [
    "## In the words 'Gredient Descent', what's the Gredient and what's the Descent ?"
   ]
  },
  {
   "cell_type": "markdown",
   "metadata": {},
   "source": [
    "- 梯度是损失函数对参数的偏导数，下降代表了按照梯度的负方向。"
   ]
  },
  {
   "cell_type": "markdown",
   "metadata": {},
   "source": [
    "## What's the advantages of the 3rd gradient descent method compared to the previous methods ?"
   ]
  },
  {
   "cell_type": "markdown",
   "metadata": {},
   "source": [
    "- 这种方法有了明确的方向，并且每一次都朝着损失函数变小的方向更新。"
   ]
  },
  {
   "cell_type": "markdown",
   "metadata": {},
   "source": [
    "## Using the simple words to describe: What's the machine leanring."
   ]
  },
  {
   "cell_type": "markdown",
   "metadata": {},
   "source": [
    "- 输入$x、y$以及学习方法后，输出$x与y$之间的对应关系。"
   ]
  },
  {
   "cell_type": "markdown",
   "metadata": {},
   "source": [
    "# Finish the search problem"
   ]
  },
  {
   "cell_type": "markdown",
   "metadata": {},
   "source": [
    "## Beijing Subway System"
   ]
  },
  {
   "cell_type": "markdown",
   "metadata": {},
   "source": [
    "- Please using the search policy to implement an agent. This agent receives two input, one is @param start station and the other is @param destination. Your agent should give the optimal route based on Beijing Subway system. "
   ]
  },
  {
   "cell_type": "markdown",
   "metadata": {},
   "source": [
    "<img src=\"timg.jpg\", width=800, height=800>"
   ]
  },
  {
   "cell_type": "markdown",
   "metadata": {},
   "source": [
    "### Dataflow"
   ]
  },
  {
   "cell_type": "markdown",
   "metadata": {},
   "source": [
    "#### Get data from Webpage."
   ]
  },
  {
   "cell_type": "markdown",
   "metadata": {},
   "source": [
    "> a.\tGet web page source from: [baike](https://baike.baidu.com/item/%E5%8C%97%E4%BA%AC%E5%9C%B0%E9%93%81/408485)\n",
    "\n",
    "> b.\tYou may need @package [requests](https://2.python-requests.org/en/master/) page to get the response via url\n",
    "\n",
    "> c.\tYou may need save the page source to file system.\n",
    "\n",
    "> d.\tThe target of this step is to get station information of all the subway lines;\n",
    "\n",
    "> e.\tYou may need install @package [beautiful soup](https://www.crummy.com/software/BeautifulSoup/bs4/doc/) to get the url information, or just use > Regular Expression to get the url.  Our recommendation is that using the Regular Expression and BeautiflSoup both. \n",
    "\n",
    "> f.\tYou may need BFS to get all the related page url from one url. \n",
    "Question: Why do we use BFS to traverse web page (or someone said, build a web spider)?  Can DFS do this job? which is better? "
   ]
  },
  {
   "cell_type": "markdown",
   "metadata": {},
   "source": [
    "#### Preprocessing data from page source"
   ]
  },
  {
   "cell_type": "markdown",
   "metadata": {},
   "source": [
    "> a.\tBased on the page source gotten from url. You may need some more preprocessing of the page. \n",
    "\n",
    "> b.\tthe Regular Expression you may need to process the text information.\n",
    "\n",
    "> c.\tYou may need @package networkx, @package matplotlib to visualize data. \n",
    "\n",
    "> d.\tYou should build a dictionary or graph which could represent the connection information of Beijing subway routes. \n",
    "\n",
    "> e.\tYou may need the defaultdict, set data structures to implement this procedure. "
   ]
  },
  {
   "cell_type": "markdown",
   "metadata": {},
   "source": [
    "### Build the search agent"
   ]
  },
  {
   "cell_type": "markdown",
   "metadata": {},
   "source": [
    "\n",
    "> Build the search agent based on the graph we build.\n",
    "\n",
    "> For example, when you run: **search('奥体中心', '天安门')**\n",
    "\n",
    "> You need get the result: **奥体中心 -> A -> B -> C -> ... -> 天安门**"
   ]
  },
  {
   "cell_type": "markdown",
   "metadata": {},
   "source": [
    "## Shanghai Subway System"
   ]
  },
  {
   "cell_type": "markdown",
   "metadata": {},
   "source": [
    "### Dataflow"
   ]
  },
  {
   "cell_type": "markdown",
   "metadata": {},
   "source": [
    "- 从上海地铁百度百科爬取数据"
   ]
  },
  {
   "cell_type": "markdown",
   "metadata": {},
   "source": [
    "<img src=\"正则表达式2.png\">"
   ]
  },
  {
   "cell_type": "markdown",
   "metadata": {},
   "source": [
    "#### Get data from Webpage"
   ]
  },
  {
   "cell_type": "code",
   "execution_count": 1,
   "metadata": {
    "collapsed": true
   },
   "outputs": [],
   "source": [
    "from bs4 import BeautifulSoup as bs\n",
    "import requests\n",
    "import re"
   ]
  },
  {
   "cell_type": "code",
   "execution_count": 2,
   "metadata": {
    "collapsed": true
   },
   "outputs": [],
   "source": [
    "sh_metro_url = \"https://baike.baidu.com/item/%E4%B8%8A%E6%B5%B7%E5%9C%B0%E9%93%81/1273732?fr=aladdin\"\n",
    "headers = {\n",
    "    'accept': 'text/html,application/xhtml+xml,application/xml;q=0.9,image/webp,image/apng,*/*;q=0.8,application/signed-exchange;v=b3',\n",
    "    'user-agent': 'Mozilla/5.0 (Windows NT 10.0; Win64; x64) AppleWebKit/537.36 (KHTML, like Gecko) Chrome/75.0.3770.100 Safari/537.36',\n",
    "    'connection': 'keep-alive',\n",
    "    'host': 'baike.baidu.com',\n",
    "    'accept-encoding': 'gzip, deflate, br',\n",
    "    'accept-language': 'zh-CN,zh;q=0.9,en;q=0.8',\n",
    "    'upgrade-insecure-requests': '1'\n",
    "}"
   ]
  },
  {
   "cell_type": "code",
   "execution_count": 3,
   "metadata": {
    "collapsed": false
   },
   "outputs": [
    {
     "ename": "ConnectionError",
     "evalue": "('Connection aborted.', OSError(\"(10054, 'WSAECONNRESET')\",))",
     "output_type": "error",
     "traceback": [
      "\u001b[0;31m---------------------------------------------------------------------------\u001b[0m",
      "\u001b[0;31mOSError\u001b[0m                                   Traceback (most recent call last)",
      "\u001b[0;32mC:\\Program Files\\Anaconda3\\lib\\site-packages\\requests\\packages\\urllib3\\connectionpool.py\u001b[0m in \u001b[0;36murlopen\u001b[0;34m(self, method, url, body, headers, retries, redirect, assert_same_host, timeout, pool_timeout, release_conn, chunked, body_pos, **response_kw)\u001b[0m\n\u001b[1;32m    599\u001b[0m                                                   \u001b[0mbody\u001b[0m\u001b[1;33m=\u001b[0m\u001b[0mbody\u001b[0m\u001b[1;33m,\u001b[0m \u001b[0mheaders\u001b[0m\u001b[1;33m=\u001b[0m\u001b[0mheaders\u001b[0m\u001b[1;33m,\u001b[0m\u001b[1;33m\u001b[0m\u001b[0m\n\u001b[0;32m--> 600\u001b[0;31m                                                   chunked=chunked)\n\u001b[0m\u001b[1;32m    601\u001b[0m \u001b[1;33m\u001b[0m\u001b[0m\n",
      "\u001b[0;32mC:\\Program Files\\Anaconda3\\lib\\site-packages\\requests\\packages\\urllib3\\connectionpool.py\u001b[0m in \u001b[0;36m_make_request\u001b[0;34m(self, conn, method, url, timeout, chunked, **httplib_request_kw)\u001b[0m\n\u001b[1;32m    385\u001b[0m                     \u001b[1;31m# otherwise it looks like a programming error was the cause.\u001b[0m\u001b[1;33m\u001b[0m\u001b[1;33m\u001b[0m\u001b[0m\n\u001b[0;32m--> 386\u001b[0;31m                     \u001b[0msix\u001b[0m\u001b[1;33m.\u001b[0m\u001b[0mraise_from\u001b[0m\u001b[1;33m(\u001b[0m\u001b[0me\u001b[0m\u001b[1;33m,\u001b[0m \u001b[1;32mNone\u001b[0m\u001b[1;33m)\u001b[0m\u001b[1;33m\u001b[0m\u001b[0m\n\u001b[0m\u001b[1;32m    387\u001b[0m         \u001b[1;32mexcept\u001b[0m \u001b[1;33m(\u001b[0m\u001b[0mSocketTimeout\u001b[0m\u001b[1;33m,\u001b[0m \u001b[0mBaseSSLError\u001b[0m\u001b[1;33m,\u001b[0m \u001b[0mSocketError\u001b[0m\u001b[1;33m)\u001b[0m \u001b[1;32mas\u001b[0m \u001b[0me\u001b[0m\u001b[1;33m:\u001b[0m\u001b[1;33m\u001b[0m\u001b[0m\n",
      "\u001b[0;32mC:\\Program Files\\Anaconda3\\lib\\site-packages\\requests\\packages\\urllib3\\packages\\six.py\u001b[0m in \u001b[0;36mraise_from\u001b[0;34m(value, from_value)\u001b[0m\n",
      "\u001b[0;32mC:\\Program Files\\Anaconda3\\lib\\site-packages\\requests\\packages\\urllib3\\connectionpool.py\u001b[0m in \u001b[0;36m_make_request\u001b[0;34m(self, conn, method, url, timeout, chunked, **httplib_request_kw)\u001b[0m\n\u001b[1;32m    381\u001b[0m                 \u001b[1;32mtry\u001b[0m\u001b[1;33m:\u001b[0m\u001b[1;33m\u001b[0m\u001b[0m\n\u001b[0;32m--> 382\u001b[0;31m                     \u001b[0mhttplib_response\u001b[0m \u001b[1;33m=\u001b[0m \u001b[0mconn\u001b[0m\u001b[1;33m.\u001b[0m\u001b[0mgetresponse\u001b[0m\u001b[1;33m(\u001b[0m\u001b[1;33m)\u001b[0m\u001b[1;33m\u001b[0m\u001b[0m\n\u001b[0m\u001b[1;32m    383\u001b[0m                 \u001b[1;32mexcept\u001b[0m \u001b[0mException\u001b[0m \u001b[1;32mas\u001b[0m \u001b[0me\u001b[0m\u001b[1;33m:\u001b[0m\u001b[1;33m\u001b[0m\u001b[0m\n",
      "\u001b[0;32mC:\\Program Files\\Anaconda3\\lib\\http\\client.py\u001b[0m in \u001b[0;36mgetresponse\u001b[0;34m(self)\u001b[0m\n\u001b[1;32m   1196\u001b[0m             \u001b[1;32mtry\u001b[0m\u001b[1;33m:\u001b[0m\u001b[1;33m\u001b[0m\u001b[0m\n\u001b[0;32m-> 1197\u001b[0;31m                 \u001b[0mresponse\u001b[0m\u001b[1;33m.\u001b[0m\u001b[0mbegin\u001b[0m\u001b[1;33m(\u001b[0m\u001b[1;33m)\u001b[0m\u001b[1;33m\u001b[0m\u001b[0m\n\u001b[0m\u001b[1;32m   1198\u001b[0m             \u001b[1;32mexcept\u001b[0m \u001b[0mConnectionError\u001b[0m\u001b[1;33m:\u001b[0m\u001b[1;33m\u001b[0m\u001b[0m\n",
      "\u001b[0;32mC:\\Program Files\\Anaconda3\\lib\\http\\client.py\u001b[0m in \u001b[0;36mbegin\u001b[0;34m(self)\u001b[0m\n\u001b[1;32m    296\u001b[0m         \u001b[1;32mwhile\u001b[0m \u001b[1;32mTrue\u001b[0m\u001b[1;33m:\u001b[0m\u001b[1;33m\u001b[0m\u001b[0m\n\u001b[0;32m--> 297\u001b[0;31m             \u001b[0mversion\u001b[0m\u001b[1;33m,\u001b[0m \u001b[0mstatus\u001b[0m\u001b[1;33m,\u001b[0m \u001b[0mreason\u001b[0m \u001b[1;33m=\u001b[0m \u001b[0mself\u001b[0m\u001b[1;33m.\u001b[0m\u001b[0m_read_status\u001b[0m\u001b[1;33m(\u001b[0m\u001b[1;33m)\u001b[0m\u001b[1;33m\u001b[0m\u001b[0m\n\u001b[0m\u001b[1;32m    298\u001b[0m             \u001b[1;32mif\u001b[0m \u001b[0mstatus\u001b[0m \u001b[1;33m!=\u001b[0m \u001b[0mCONTINUE\u001b[0m\u001b[1;33m:\u001b[0m\u001b[1;33m\u001b[0m\u001b[0m\n",
      "\u001b[0;32mC:\\Program Files\\Anaconda3\\lib\\http\\client.py\u001b[0m in \u001b[0;36m_read_status\u001b[0;34m(self)\u001b[0m\n\u001b[1;32m    257\u001b[0m     \u001b[1;32mdef\u001b[0m \u001b[0m_read_status\u001b[0m\u001b[1;33m(\u001b[0m\u001b[0mself\u001b[0m\u001b[1;33m)\u001b[0m\u001b[1;33m:\u001b[0m\u001b[1;33m\u001b[0m\u001b[0m\n\u001b[0;32m--> 258\u001b[0;31m         \u001b[0mline\u001b[0m \u001b[1;33m=\u001b[0m \u001b[0mstr\u001b[0m\u001b[1;33m(\u001b[0m\u001b[0mself\u001b[0m\u001b[1;33m.\u001b[0m\u001b[0mfp\u001b[0m\u001b[1;33m.\u001b[0m\u001b[0mreadline\u001b[0m\u001b[1;33m(\u001b[0m\u001b[0m_MAXLINE\u001b[0m \u001b[1;33m+\u001b[0m \u001b[1;36m1\u001b[0m\u001b[1;33m)\u001b[0m\u001b[1;33m,\u001b[0m \u001b[1;34m\"iso-8859-1\"\u001b[0m\u001b[1;33m)\u001b[0m\u001b[1;33m\u001b[0m\u001b[0m\n\u001b[0m\u001b[1;32m    259\u001b[0m         \u001b[1;32mif\u001b[0m \u001b[0mlen\u001b[0m\u001b[1;33m(\u001b[0m\u001b[0mline\u001b[0m\u001b[1;33m)\u001b[0m \u001b[1;33m>\u001b[0m \u001b[0m_MAXLINE\u001b[0m\u001b[1;33m:\u001b[0m\u001b[1;33m\u001b[0m\u001b[0m\n",
      "\u001b[0;32mC:\\Program Files\\Anaconda3\\lib\\socket.py\u001b[0m in \u001b[0;36mreadinto\u001b[0;34m(self, b)\u001b[0m\n\u001b[1;32m    574\u001b[0m             \u001b[1;32mtry\u001b[0m\u001b[1;33m:\u001b[0m\u001b[1;33m\u001b[0m\u001b[0m\n\u001b[0;32m--> 575\u001b[0;31m                 \u001b[1;32mreturn\u001b[0m \u001b[0mself\u001b[0m\u001b[1;33m.\u001b[0m\u001b[0m_sock\u001b[0m\u001b[1;33m.\u001b[0m\u001b[0mrecv_into\u001b[0m\u001b[1;33m(\u001b[0m\u001b[0mb\u001b[0m\u001b[1;33m)\u001b[0m\u001b[1;33m\u001b[0m\u001b[0m\n\u001b[0m\u001b[1;32m    576\u001b[0m             \u001b[1;32mexcept\u001b[0m \u001b[0mtimeout\u001b[0m\u001b[1;33m:\u001b[0m\u001b[1;33m\u001b[0m\u001b[0m\n",
      "\u001b[0;32mC:\\Program Files\\Anaconda3\\lib\\site-packages\\requests\\packages\\urllib3\\contrib\\pyopenssl.py\u001b[0m in \u001b[0;36mrecv_into\u001b[0;34m(self, *args, **kwargs)\u001b[0m\n\u001b[1;32m    281\u001b[0m             \u001b[1;32melse\u001b[0m\u001b[1;33m:\u001b[0m\u001b[1;33m\u001b[0m\u001b[0m\n\u001b[0;32m--> 282\u001b[0;31m                 \u001b[1;32mraise\u001b[0m \u001b[0mSocketError\u001b[0m\u001b[1;33m(\u001b[0m\u001b[0mstr\u001b[0m\u001b[1;33m(\u001b[0m\u001b[0me\u001b[0m\u001b[1;33m)\u001b[0m\u001b[1;33m)\u001b[0m\u001b[1;33m\u001b[0m\u001b[0m\n\u001b[0m\u001b[1;32m    283\u001b[0m         \u001b[1;32mexcept\u001b[0m \u001b[0mOpenSSL\u001b[0m\u001b[1;33m.\u001b[0m\u001b[0mSSL\u001b[0m\u001b[1;33m.\u001b[0m\u001b[0mZeroReturnError\u001b[0m \u001b[1;32mas\u001b[0m \u001b[0me\u001b[0m\u001b[1;33m:\u001b[0m\u001b[1;33m\u001b[0m\u001b[0m\n",
      "\u001b[0;31mOSError\u001b[0m: (10054, 'WSAECONNRESET')",
      "\nDuring handling of the above exception, another exception occurred:\n",
      "\u001b[0;31mProtocolError\u001b[0m                             Traceback (most recent call last)",
      "\u001b[0;32mC:\\Program Files\\Anaconda3\\lib\\site-packages\\requests\\adapters.py\u001b[0m in \u001b[0;36msend\u001b[0;34m(self, request, stream, timeout, verify, cert, proxies)\u001b[0m\n\u001b[1;32m    437\u001b[0m                     \u001b[0mretries\u001b[0m\u001b[1;33m=\u001b[0m\u001b[0mself\u001b[0m\u001b[1;33m.\u001b[0m\u001b[0mmax_retries\u001b[0m\u001b[1;33m,\u001b[0m\u001b[1;33m\u001b[0m\u001b[0m\n\u001b[0;32m--> 438\u001b[0;31m                     \u001b[0mtimeout\u001b[0m\u001b[1;33m=\u001b[0m\u001b[0mtimeout\u001b[0m\u001b[1;33m\u001b[0m\u001b[0m\n\u001b[0m\u001b[1;32m    439\u001b[0m                 )\n",
      "\u001b[0;32mC:\\Program Files\\Anaconda3\\lib\\site-packages\\requests\\packages\\urllib3\\connectionpool.py\u001b[0m in \u001b[0;36murlopen\u001b[0;34m(self, method, url, body, headers, retries, redirect, assert_same_host, timeout, pool_timeout, release_conn, chunked, body_pos, **response_kw)\u001b[0m\n\u001b[1;32m    648\u001b[0m             retries = retries.increment(method, url, error=e, _pool=self,\n\u001b[0;32m--> 649\u001b[0;31m                                         _stacktrace=sys.exc_info()[2])\n\u001b[0m\u001b[1;32m    650\u001b[0m             \u001b[0mretries\u001b[0m\u001b[1;33m.\u001b[0m\u001b[0msleep\u001b[0m\u001b[1;33m(\u001b[0m\u001b[1;33m)\u001b[0m\u001b[1;33m\u001b[0m\u001b[0m\n",
      "\u001b[0;32mC:\\Program Files\\Anaconda3\\lib\\site-packages\\requests\\packages\\urllib3\\util\\retry.py\u001b[0m in \u001b[0;36mincrement\u001b[0;34m(self, method, url, response, error, _pool, _stacktrace)\u001b[0m\n\u001b[1;32m    356\u001b[0m             \u001b[1;32mif\u001b[0m \u001b[0mread\u001b[0m \u001b[1;32mis\u001b[0m \u001b[1;32mFalse\u001b[0m \u001b[1;32mor\u001b[0m \u001b[1;32mnot\u001b[0m \u001b[0mself\u001b[0m\u001b[1;33m.\u001b[0m\u001b[0m_is_method_retryable\u001b[0m\u001b[1;33m(\u001b[0m\u001b[0mmethod\u001b[0m\u001b[1;33m)\u001b[0m\u001b[1;33m:\u001b[0m\u001b[1;33m\u001b[0m\u001b[0m\n\u001b[0;32m--> 357\u001b[0;31m                 \u001b[1;32mraise\u001b[0m \u001b[0msix\u001b[0m\u001b[1;33m.\u001b[0m\u001b[0mreraise\u001b[0m\u001b[1;33m(\u001b[0m\u001b[0mtype\u001b[0m\u001b[1;33m(\u001b[0m\u001b[0merror\u001b[0m\u001b[1;33m)\u001b[0m\u001b[1;33m,\u001b[0m \u001b[0merror\u001b[0m\u001b[1;33m,\u001b[0m \u001b[0m_stacktrace\u001b[0m\u001b[1;33m)\u001b[0m\u001b[1;33m\u001b[0m\u001b[0m\n\u001b[0m\u001b[1;32m    358\u001b[0m             \u001b[1;32melif\u001b[0m \u001b[0mread\u001b[0m \u001b[1;32mis\u001b[0m \u001b[1;32mnot\u001b[0m \u001b[1;32mNone\u001b[0m\u001b[1;33m:\u001b[0m\u001b[1;33m\u001b[0m\u001b[0m\n",
      "\u001b[0;32mC:\\Program Files\\Anaconda3\\lib\\site-packages\\requests\\packages\\urllib3\\packages\\six.py\u001b[0m in \u001b[0;36mreraise\u001b[0;34m(tp, value, tb)\u001b[0m\n\u001b[1;32m    684\u001b[0m         \u001b[1;32mif\u001b[0m \u001b[0mvalue\u001b[0m\u001b[1;33m.\u001b[0m\u001b[0m__traceback__\u001b[0m \u001b[1;32mis\u001b[0m \u001b[1;32mnot\u001b[0m \u001b[0mtb\u001b[0m\u001b[1;33m:\u001b[0m\u001b[1;33m\u001b[0m\u001b[0m\n\u001b[0;32m--> 685\u001b[0;31m             \u001b[1;32mraise\u001b[0m \u001b[0mvalue\u001b[0m\u001b[1;33m.\u001b[0m\u001b[0mwith_traceback\u001b[0m\u001b[1;33m(\u001b[0m\u001b[0mtb\u001b[0m\u001b[1;33m)\u001b[0m\u001b[1;33m\u001b[0m\u001b[0m\n\u001b[0m\u001b[1;32m    686\u001b[0m         \u001b[1;32mraise\u001b[0m \u001b[0mvalue\u001b[0m\u001b[1;33m\u001b[0m\u001b[0m\n",
      "\u001b[0;32mC:\\Program Files\\Anaconda3\\lib\\site-packages\\requests\\packages\\urllib3\\connectionpool.py\u001b[0m in \u001b[0;36murlopen\u001b[0;34m(self, method, url, body, headers, retries, redirect, assert_same_host, timeout, pool_timeout, release_conn, chunked, body_pos, **response_kw)\u001b[0m\n\u001b[1;32m    599\u001b[0m                                                   \u001b[0mbody\u001b[0m\u001b[1;33m=\u001b[0m\u001b[0mbody\u001b[0m\u001b[1;33m,\u001b[0m \u001b[0mheaders\u001b[0m\u001b[1;33m=\u001b[0m\u001b[0mheaders\u001b[0m\u001b[1;33m,\u001b[0m\u001b[1;33m\u001b[0m\u001b[0m\n\u001b[0;32m--> 600\u001b[0;31m                                                   chunked=chunked)\n\u001b[0m\u001b[1;32m    601\u001b[0m \u001b[1;33m\u001b[0m\u001b[0m\n",
      "\u001b[0;32mC:\\Program Files\\Anaconda3\\lib\\site-packages\\requests\\packages\\urllib3\\connectionpool.py\u001b[0m in \u001b[0;36m_make_request\u001b[0;34m(self, conn, method, url, timeout, chunked, **httplib_request_kw)\u001b[0m\n\u001b[1;32m    385\u001b[0m                     \u001b[1;31m# otherwise it looks like a programming error was the cause.\u001b[0m\u001b[1;33m\u001b[0m\u001b[1;33m\u001b[0m\u001b[0m\n\u001b[0;32m--> 386\u001b[0;31m                     \u001b[0msix\u001b[0m\u001b[1;33m.\u001b[0m\u001b[0mraise_from\u001b[0m\u001b[1;33m(\u001b[0m\u001b[0me\u001b[0m\u001b[1;33m,\u001b[0m \u001b[1;32mNone\u001b[0m\u001b[1;33m)\u001b[0m\u001b[1;33m\u001b[0m\u001b[0m\n\u001b[0m\u001b[1;32m    387\u001b[0m         \u001b[1;32mexcept\u001b[0m \u001b[1;33m(\u001b[0m\u001b[0mSocketTimeout\u001b[0m\u001b[1;33m,\u001b[0m \u001b[0mBaseSSLError\u001b[0m\u001b[1;33m,\u001b[0m \u001b[0mSocketError\u001b[0m\u001b[1;33m)\u001b[0m \u001b[1;32mas\u001b[0m \u001b[0me\u001b[0m\u001b[1;33m:\u001b[0m\u001b[1;33m\u001b[0m\u001b[0m\n",
      "\u001b[0;32mC:\\Program Files\\Anaconda3\\lib\\site-packages\\requests\\packages\\urllib3\\packages\\six.py\u001b[0m in \u001b[0;36mraise_from\u001b[0;34m(value, from_value)\u001b[0m\n",
      "\u001b[0;32mC:\\Program Files\\Anaconda3\\lib\\site-packages\\requests\\packages\\urllib3\\connectionpool.py\u001b[0m in \u001b[0;36m_make_request\u001b[0;34m(self, conn, method, url, timeout, chunked, **httplib_request_kw)\u001b[0m\n\u001b[1;32m    381\u001b[0m                 \u001b[1;32mtry\u001b[0m\u001b[1;33m:\u001b[0m\u001b[1;33m\u001b[0m\u001b[0m\n\u001b[0;32m--> 382\u001b[0;31m                     \u001b[0mhttplib_response\u001b[0m \u001b[1;33m=\u001b[0m \u001b[0mconn\u001b[0m\u001b[1;33m.\u001b[0m\u001b[0mgetresponse\u001b[0m\u001b[1;33m(\u001b[0m\u001b[1;33m)\u001b[0m\u001b[1;33m\u001b[0m\u001b[0m\n\u001b[0m\u001b[1;32m    383\u001b[0m                 \u001b[1;32mexcept\u001b[0m \u001b[0mException\u001b[0m \u001b[1;32mas\u001b[0m \u001b[0me\u001b[0m\u001b[1;33m:\u001b[0m\u001b[1;33m\u001b[0m\u001b[0m\n",
      "\u001b[0;32mC:\\Program Files\\Anaconda3\\lib\\http\\client.py\u001b[0m in \u001b[0;36mgetresponse\u001b[0;34m(self)\u001b[0m\n\u001b[1;32m   1196\u001b[0m             \u001b[1;32mtry\u001b[0m\u001b[1;33m:\u001b[0m\u001b[1;33m\u001b[0m\u001b[0m\n\u001b[0;32m-> 1197\u001b[0;31m                 \u001b[0mresponse\u001b[0m\u001b[1;33m.\u001b[0m\u001b[0mbegin\u001b[0m\u001b[1;33m(\u001b[0m\u001b[1;33m)\u001b[0m\u001b[1;33m\u001b[0m\u001b[0m\n\u001b[0m\u001b[1;32m   1198\u001b[0m             \u001b[1;32mexcept\u001b[0m \u001b[0mConnectionError\u001b[0m\u001b[1;33m:\u001b[0m\u001b[1;33m\u001b[0m\u001b[0m\n",
      "\u001b[0;32mC:\\Program Files\\Anaconda3\\lib\\http\\client.py\u001b[0m in \u001b[0;36mbegin\u001b[0;34m(self)\u001b[0m\n\u001b[1;32m    296\u001b[0m         \u001b[1;32mwhile\u001b[0m \u001b[1;32mTrue\u001b[0m\u001b[1;33m:\u001b[0m\u001b[1;33m\u001b[0m\u001b[0m\n\u001b[0;32m--> 297\u001b[0;31m             \u001b[0mversion\u001b[0m\u001b[1;33m,\u001b[0m \u001b[0mstatus\u001b[0m\u001b[1;33m,\u001b[0m \u001b[0mreason\u001b[0m \u001b[1;33m=\u001b[0m \u001b[0mself\u001b[0m\u001b[1;33m.\u001b[0m\u001b[0m_read_status\u001b[0m\u001b[1;33m(\u001b[0m\u001b[1;33m)\u001b[0m\u001b[1;33m\u001b[0m\u001b[0m\n\u001b[0m\u001b[1;32m    298\u001b[0m             \u001b[1;32mif\u001b[0m \u001b[0mstatus\u001b[0m \u001b[1;33m!=\u001b[0m \u001b[0mCONTINUE\u001b[0m\u001b[1;33m:\u001b[0m\u001b[1;33m\u001b[0m\u001b[0m\n",
      "\u001b[0;32mC:\\Program Files\\Anaconda3\\lib\\http\\client.py\u001b[0m in \u001b[0;36m_read_status\u001b[0;34m(self)\u001b[0m\n\u001b[1;32m    257\u001b[0m     \u001b[1;32mdef\u001b[0m \u001b[0m_read_status\u001b[0m\u001b[1;33m(\u001b[0m\u001b[0mself\u001b[0m\u001b[1;33m)\u001b[0m\u001b[1;33m:\u001b[0m\u001b[1;33m\u001b[0m\u001b[0m\n\u001b[0;32m--> 258\u001b[0;31m         \u001b[0mline\u001b[0m \u001b[1;33m=\u001b[0m \u001b[0mstr\u001b[0m\u001b[1;33m(\u001b[0m\u001b[0mself\u001b[0m\u001b[1;33m.\u001b[0m\u001b[0mfp\u001b[0m\u001b[1;33m.\u001b[0m\u001b[0mreadline\u001b[0m\u001b[1;33m(\u001b[0m\u001b[0m_MAXLINE\u001b[0m \u001b[1;33m+\u001b[0m \u001b[1;36m1\u001b[0m\u001b[1;33m)\u001b[0m\u001b[1;33m,\u001b[0m \u001b[1;34m\"iso-8859-1\"\u001b[0m\u001b[1;33m)\u001b[0m\u001b[1;33m\u001b[0m\u001b[0m\n\u001b[0m\u001b[1;32m    259\u001b[0m         \u001b[1;32mif\u001b[0m \u001b[0mlen\u001b[0m\u001b[1;33m(\u001b[0m\u001b[0mline\u001b[0m\u001b[1;33m)\u001b[0m \u001b[1;33m>\u001b[0m \u001b[0m_MAXLINE\u001b[0m\u001b[1;33m:\u001b[0m\u001b[1;33m\u001b[0m\u001b[0m\n",
      "\u001b[0;32mC:\\Program Files\\Anaconda3\\lib\\socket.py\u001b[0m in \u001b[0;36mreadinto\u001b[0;34m(self, b)\u001b[0m\n\u001b[1;32m    574\u001b[0m             \u001b[1;32mtry\u001b[0m\u001b[1;33m:\u001b[0m\u001b[1;33m\u001b[0m\u001b[0m\n\u001b[0;32m--> 575\u001b[0;31m                 \u001b[1;32mreturn\u001b[0m \u001b[0mself\u001b[0m\u001b[1;33m.\u001b[0m\u001b[0m_sock\u001b[0m\u001b[1;33m.\u001b[0m\u001b[0mrecv_into\u001b[0m\u001b[1;33m(\u001b[0m\u001b[0mb\u001b[0m\u001b[1;33m)\u001b[0m\u001b[1;33m\u001b[0m\u001b[0m\n\u001b[0m\u001b[1;32m    576\u001b[0m             \u001b[1;32mexcept\u001b[0m \u001b[0mtimeout\u001b[0m\u001b[1;33m:\u001b[0m\u001b[1;33m\u001b[0m\u001b[0m\n",
      "\u001b[0;32mC:\\Program Files\\Anaconda3\\lib\\site-packages\\requests\\packages\\urllib3\\contrib\\pyopenssl.py\u001b[0m in \u001b[0;36mrecv_into\u001b[0;34m(self, *args, **kwargs)\u001b[0m\n\u001b[1;32m    281\u001b[0m             \u001b[1;32melse\u001b[0m\u001b[1;33m:\u001b[0m\u001b[1;33m\u001b[0m\u001b[0m\n\u001b[0;32m--> 282\u001b[0;31m                 \u001b[1;32mraise\u001b[0m \u001b[0mSocketError\u001b[0m\u001b[1;33m(\u001b[0m\u001b[0mstr\u001b[0m\u001b[1;33m(\u001b[0m\u001b[0me\u001b[0m\u001b[1;33m)\u001b[0m\u001b[1;33m)\u001b[0m\u001b[1;33m\u001b[0m\u001b[0m\n\u001b[0m\u001b[1;32m    283\u001b[0m         \u001b[1;32mexcept\u001b[0m \u001b[0mOpenSSL\u001b[0m\u001b[1;33m.\u001b[0m\u001b[0mSSL\u001b[0m\u001b[1;33m.\u001b[0m\u001b[0mZeroReturnError\u001b[0m \u001b[1;32mas\u001b[0m \u001b[0me\u001b[0m\u001b[1;33m:\u001b[0m\u001b[1;33m\u001b[0m\u001b[0m\n",
      "\u001b[0;31mProtocolError\u001b[0m: ('Connection aborted.', OSError(\"(10054, 'WSAECONNRESET')\",))",
      "\nDuring handling of the above exception, another exception occurred:\n",
      "\u001b[0;31mConnectionError\u001b[0m                           Traceback (most recent call last)",
      "\u001b[0;32m<ipython-input-3-ad6dd1feb79c>\u001b[0m in \u001b[0;36m<module>\u001b[0;34m()\u001b[0m\n\u001b[1;32m      1\u001b[0m \u001b[1;31m# 获取页面数据\u001b[0m\u001b[1;33m\u001b[0m\u001b[1;33m\u001b[0m\u001b[0m\n\u001b[0;32m----> 2\u001b[0;31m \u001b[0mpage\u001b[0m \u001b[1;33m=\u001b[0m \u001b[0mrequests\u001b[0m\u001b[1;33m.\u001b[0m\u001b[0mget\u001b[0m\u001b[1;33m(\u001b[0m\u001b[0msh_metro_url\u001b[0m\u001b[1;33m,\u001b[0m \u001b[0mheaders\u001b[0m\u001b[1;33m=\u001b[0m\u001b[0mheaders\u001b[0m\u001b[1;33m)\u001b[0m\u001b[1;33m\u001b[0m\u001b[0m\n\u001b[0m",
      "\u001b[0;32mC:\\Program Files\\Anaconda3\\lib\\site-packages\\requests\\api.py\u001b[0m in \u001b[0;36mget\u001b[0;34m(url, params, **kwargs)\u001b[0m\n\u001b[1;32m     70\u001b[0m \u001b[1;33m\u001b[0m\u001b[0m\n\u001b[1;32m     71\u001b[0m     \u001b[0mkwargs\u001b[0m\u001b[1;33m.\u001b[0m\u001b[0msetdefault\u001b[0m\u001b[1;33m(\u001b[0m\u001b[1;34m'allow_redirects'\u001b[0m\u001b[1;33m,\u001b[0m \u001b[1;32mTrue\u001b[0m\u001b[1;33m)\u001b[0m\u001b[1;33m\u001b[0m\u001b[0m\n\u001b[0;32m---> 72\u001b[0;31m     \u001b[1;32mreturn\u001b[0m \u001b[0mrequest\u001b[0m\u001b[1;33m(\u001b[0m\u001b[1;34m'get'\u001b[0m\u001b[1;33m,\u001b[0m \u001b[0murl\u001b[0m\u001b[1;33m,\u001b[0m \u001b[0mparams\u001b[0m\u001b[1;33m=\u001b[0m\u001b[0mparams\u001b[0m\u001b[1;33m,\u001b[0m \u001b[1;33m**\u001b[0m\u001b[0mkwargs\u001b[0m\u001b[1;33m)\u001b[0m\u001b[1;33m\u001b[0m\u001b[0m\n\u001b[0m\u001b[1;32m     73\u001b[0m \u001b[1;33m\u001b[0m\u001b[0m\n\u001b[1;32m     74\u001b[0m \u001b[1;33m\u001b[0m\u001b[0m\n",
      "\u001b[0;32mC:\\Program Files\\Anaconda3\\lib\\site-packages\\requests\\api.py\u001b[0m in \u001b[0;36mrequest\u001b[0;34m(method, url, **kwargs)\u001b[0m\n\u001b[1;32m     56\u001b[0m     \u001b[1;31m# cases, and look like a memory leak in others.\u001b[0m\u001b[1;33m\u001b[0m\u001b[1;33m\u001b[0m\u001b[0m\n\u001b[1;32m     57\u001b[0m     \u001b[1;32mwith\u001b[0m \u001b[0msessions\u001b[0m\u001b[1;33m.\u001b[0m\u001b[0mSession\u001b[0m\u001b[1;33m(\u001b[0m\u001b[1;33m)\u001b[0m \u001b[1;32mas\u001b[0m \u001b[0msession\u001b[0m\u001b[1;33m:\u001b[0m\u001b[1;33m\u001b[0m\u001b[0m\n\u001b[0;32m---> 58\u001b[0;31m         \u001b[1;32mreturn\u001b[0m \u001b[0msession\u001b[0m\u001b[1;33m.\u001b[0m\u001b[0mrequest\u001b[0m\u001b[1;33m(\u001b[0m\u001b[0mmethod\u001b[0m\u001b[1;33m=\u001b[0m\u001b[0mmethod\u001b[0m\u001b[1;33m,\u001b[0m \u001b[0murl\u001b[0m\u001b[1;33m=\u001b[0m\u001b[0murl\u001b[0m\u001b[1;33m,\u001b[0m \u001b[1;33m**\u001b[0m\u001b[0mkwargs\u001b[0m\u001b[1;33m)\u001b[0m\u001b[1;33m\u001b[0m\u001b[0m\n\u001b[0m\u001b[1;32m     59\u001b[0m \u001b[1;33m\u001b[0m\u001b[0m\n\u001b[1;32m     60\u001b[0m \u001b[1;33m\u001b[0m\u001b[0m\n",
      "\u001b[0;32mC:\\Program Files\\Anaconda3\\lib\\site-packages\\requests\\sessions.py\u001b[0m in \u001b[0;36mrequest\u001b[0;34m(self, method, url, params, data, headers, cookies, files, auth, timeout, allow_redirects, proxies, hooks, stream, verify, cert, json)\u001b[0m\n\u001b[1;32m    516\u001b[0m         }\n\u001b[1;32m    517\u001b[0m         \u001b[0msend_kwargs\u001b[0m\u001b[1;33m.\u001b[0m\u001b[0mupdate\u001b[0m\u001b[1;33m(\u001b[0m\u001b[0msettings\u001b[0m\u001b[1;33m)\u001b[0m\u001b[1;33m\u001b[0m\u001b[0m\n\u001b[0;32m--> 518\u001b[0;31m         \u001b[0mresp\u001b[0m \u001b[1;33m=\u001b[0m \u001b[0mself\u001b[0m\u001b[1;33m.\u001b[0m\u001b[0msend\u001b[0m\u001b[1;33m(\u001b[0m\u001b[0mprep\u001b[0m\u001b[1;33m,\u001b[0m \u001b[1;33m**\u001b[0m\u001b[0msend_kwargs\u001b[0m\u001b[1;33m)\u001b[0m\u001b[1;33m\u001b[0m\u001b[0m\n\u001b[0m\u001b[1;32m    519\u001b[0m \u001b[1;33m\u001b[0m\u001b[0m\n\u001b[1;32m    520\u001b[0m         \u001b[1;32mreturn\u001b[0m \u001b[0mresp\u001b[0m\u001b[1;33m\u001b[0m\u001b[0m\n",
      "\u001b[0;32mC:\\Program Files\\Anaconda3\\lib\\site-packages\\requests\\sessions.py\u001b[0m in \u001b[0;36msend\u001b[0;34m(self, request, **kwargs)\u001b[0m\n\u001b[1;32m    637\u001b[0m \u001b[1;33m\u001b[0m\u001b[0m\n\u001b[1;32m    638\u001b[0m         \u001b[1;31m# Send the request\u001b[0m\u001b[1;33m\u001b[0m\u001b[1;33m\u001b[0m\u001b[0m\n\u001b[0;32m--> 639\u001b[0;31m         \u001b[0mr\u001b[0m \u001b[1;33m=\u001b[0m \u001b[0madapter\u001b[0m\u001b[1;33m.\u001b[0m\u001b[0msend\u001b[0m\u001b[1;33m(\u001b[0m\u001b[0mrequest\u001b[0m\u001b[1;33m,\u001b[0m \u001b[1;33m**\u001b[0m\u001b[0mkwargs\u001b[0m\u001b[1;33m)\u001b[0m\u001b[1;33m\u001b[0m\u001b[0m\n\u001b[0m\u001b[1;32m    640\u001b[0m \u001b[1;33m\u001b[0m\u001b[0m\n\u001b[1;32m    641\u001b[0m         \u001b[1;31m# Total elapsed time of the request (approximately)\u001b[0m\u001b[1;33m\u001b[0m\u001b[1;33m\u001b[0m\u001b[0m\n",
      "\u001b[0;32mC:\\Program Files\\Anaconda3\\lib\\site-packages\\requests\\adapters.py\u001b[0m in \u001b[0;36msend\u001b[0;34m(self, request, stream, timeout, verify, cert, proxies)\u001b[0m\n\u001b[1;32m    486\u001b[0m \u001b[1;33m\u001b[0m\u001b[0m\n\u001b[1;32m    487\u001b[0m         \u001b[1;32mexcept\u001b[0m \u001b[1;33m(\u001b[0m\u001b[0mProtocolError\u001b[0m\u001b[1;33m,\u001b[0m \u001b[0msocket\u001b[0m\u001b[1;33m.\u001b[0m\u001b[0merror\u001b[0m\u001b[1;33m)\u001b[0m \u001b[1;32mas\u001b[0m \u001b[0merr\u001b[0m\u001b[1;33m:\u001b[0m\u001b[1;33m\u001b[0m\u001b[0m\n\u001b[0;32m--> 488\u001b[0;31m             \u001b[1;32mraise\u001b[0m \u001b[0mConnectionError\u001b[0m\u001b[1;33m(\u001b[0m\u001b[0merr\u001b[0m\u001b[1;33m,\u001b[0m \u001b[0mrequest\u001b[0m\u001b[1;33m=\u001b[0m\u001b[0mrequest\u001b[0m\u001b[1;33m)\u001b[0m\u001b[1;33m\u001b[0m\u001b[0m\n\u001b[0m\u001b[1;32m    489\u001b[0m \u001b[1;33m\u001b[0m\u001b[0m\n\u001b[1;32m    490\u001b[0m         \u001b[1;32mexcept\u001b[0m \u001b[0mMaxRetryError\u001b[0m \u001b[1;32mas\u001b[0m \u001b[0me\u001b[0m\u001b[1;33m:\u001b[0m\u001b[1;33m\u001b[0m\u001b[0m\n",
      "\u001b[0;31mConnectionError\u001b[0m: ('Connection aborted.', OSError(\"(10054, 'WSAECONNRESET')\",))"
     ]
    }
   ],
   "source": [
    "# 获取页面数据\n",
    "page = requests.get(sh_metro_url, headers=headers)"
   ]
  },
  {
   "cell_type": "code",
   "execution_count": null,
   "metadata": {
    "collapsed": false
   },
   "outputs": [],
   "source": [
    "content = page.content.decode(\"utf-8\")  # content包含要匹配的链接"
   ]
  },
  {
   "cell_type": "code",
   "execution_count": null,
   "metadata": {
    "collapsed": false
   },
   "outputs": [],
   "source": [
    "page.status_code  # 返回http协议的状态码，200表示服务器已成功处理请求"
   ]
  },
  {
   "cell_type": "markdown",
   "metadata": {},
   "source": [
    "#### Preprocessing data from page source"
   ]
  },
  {
   "cell_type": "code",
   "execution_count": 140,
   "metadata": {
    "collapsed": false
   },
   "outputs": [],
   "source": [
    "# soup = bs(content)"
   ]
  },
  {
   "cell_type": "code",
   "execution_count": 13,
   "metadata": {
    "collapsed": true
   },
   "outputs": [],
   "source": [
    "# 匹配正则表达式，打开要爬取的网址，查看网页源码，搜索要爬取的信息，找到类似如下关键句\n",
    "# <a target=_blank href=\"/item/%E4%B8%8A%E6%B5%B7%E5%9C%B0%E9%93%811%E5%8F%B7%E7%BA%BF/12092650\" data-lemmaid=\"12092650\">上海地铁1号线</a>\n",
    "# ()是为了提取匹配的字符串，表达式中有几个()就有几个相应的匹配字符串\n",
    "# []是定义匹配的字符范围\n",
    "line_pattern = re.compile(pattern=r'<a target=_blank href=\"(/item/[\\d\\w%]+/\\d+)\" data-lemmaid=\"\\d+\">(上海[\\w\\d]+线)</a>')"
   ]
  },
  {
   "cell_type": "code",
   "execution_count": 14,
   "metadata": {
    "collapsed": false
   },
   "outputs": [],
   "source": [
    "all_lines = {}  # 空字典"
   ]
  },
  {
   "cell_type": "code",
   "execution_count": 15,
   "metadata": {
    "collapsed": false
   },
   "outputs": [],
   "source": [
    "for link, line in line_pattern.findall(content):\n",
    "    if line in all_lines:\n",
    "        continue\n",
    "    all_lines[line] = \"https://baike.baidu.com\" + link"
   ]
  },
  {
   "cell_type": "code",
   "execution_count": 16,
   "metadata": {
    "collapsed": false,
    "scrolled": true
   },
   "outputs": [
    {
     "data": {
      "text/plain": [
       "{'上海地铁10号线': 'https://baike.baidu.com/item/%E4%B8%8A%E6%B5%B7%E5%9C%B0%E9%93%8110%E5%8F%B7%E7%BA%BF/12419281',\n",
       " '上海地铁11号线': 'https://baike.baidu.com/item/%E4%B8%8A%E6%B5%B7%E5%9C%B0%E9%93%8111%E5%8F%B7%E7%BA%BF/22948326',\n",
       " '上海地铁12号线': 'https://baike.baidu.com/item/%E4%B8%8A%E6%B5%B7%E5%9C%B0%E9%93%8112%E5%8F%B7%E7%BA%BF/12062373',\n",
       " '上海地铁13号线': 'https://baike.baidu.com/item/%E4%B8%8A%E6%B5%B7%E5%9C%B0%E9%93%8113%E5%8F%B7%E7%BA%BF/22948511',\n",
       " '上海地铁16号线': 'https://baike.baidu.com/item/%E4%B8%8A%E6%B5%B7%E5%9C%B0%E9%93%8116%E5%8F%B7%E7%BA%BF/12025028',\n",
       " '上海地铁17号线': 'https://baike.baidu.com/item/%E4%B8%8A%E6%B5%B7%E5%9C%B0%E9%93%8117%E5%8F%B7%E7%BA%BF/22948512',\n",
       " '上海地铁1号线': 'https://baike.baidu.com/item/%E4%B8%8A%E6%B5%B7%E5%9C%B0%E9%93%811%E5%8F%B7%E7%BA%BF/12092650',\n",
       " '上海地铁2号线': 'https://baike.baidu.com/item/%E4%B8%8A%E6%B5%B7%E5%9C%B0%E9%93%812%E5%8F%B7%E7%BA%BF/22947836',\n",
       " '上海地铁3号线': 'https://baike.baidu.com/item/%E4%B8%8A%E6%B5%B7%E5%9C%B0%E9%93%813%E5%8F%B7%E7%BA%BF/22947837',\n",
       " '上海地铁4号线': 'https://baike.baidu.com/item/%E4%B8%8A%E6%B5%B7%E5%9C%B0%E9%93%814%E5%8F%B7%E7%BA%BF/6310090',\n",
       " '上海地铁5号线': 'https://baike.baidu.com/item/%E4%B8%8A%E6%B5%B7%E5%9C%B0%E9%93%815%E5%8F%B7%E7%BA%BF/22947838',\n",
       " '上海地铁6号线': 'https://baike.baidu.com/item/%E4%B8%8A%E6%B5%B7%E5%9C%B0%E9%93%816%E5%8F%B7%E7%BA%BF/4316051',\n",
       " '上海地铁7号线': 'https://baike.baidu.com/item/%E4%B8%8A%E6%B5%B7%E5%9C%B0%E9%93%817%E5%8F%B7%E7%BA%BF/538923',\n",
       " '上海地铁8号线': 'https://baike.baidu.com/item/%E4%B8%8A%E6%B5%B7%E5%9C%B0%E9%93%818%E5%8F%B7%E7%BA%BF/12520383',\n",
       " '上海地铁9号线': 'https://baike.baidu.com/item/%E4%B8%8A%E6%B5%B7%E5%9C%B0%E9%93%819%E5%8F%B7%E7%BA%BF/12423895',\n",
       " '上海地铁浦江线': 'https://baike.baidu.com/item/%E4%B8%8A%E6%B5%B7%E5%9C%B0%E9%93%81%E6%B5%A6%E6%B1%9F%E7%BA%BF/22948539',\n",
       " '上海磁浮列车示范运营线': 'https://baike.baidu.com/item/%E4%B8%8A%E6%B5%B7%E7%A3%81%E6%B5%AE%E5%88%97%E8%BD%A6%E7%A4%BA%E8%8C%83%E8%BF%90%E8%90%A5%E7%BA%BF/22948540'}"
      ]
     },
     "execution_count": 16,
     "metadata": {},
     "output_type": "execute_result"
    }
   ],
   "source": [
    "all_lines"
   ]
  },
  {
   "cell_type": "code",
   "execution_count": 17,
   "metadata": {
    "collapsed": true
   },
   "outputs": [],
   "source": [
    "first_line = requests.get(all_lines[\"上海地铁5号线\"], headers=headers)"
   ]
  },
  {
   "cell_type": "code",
   "execution_count": 18,
   "metadata": {
    "collapsed": false
   },
   "outputs": [
    {
     "data": {
      "text/plain": [
       "200"
      ]
     },
     "execution_count": 18,
     "metadata": {},
     "output_type": "execute_result"
    }
   ],
   "source": [
    "first_line.status_code  # 200表示页面响应需求"
   ]
  },
  {
   "cell_type": "code",
   "execution_count": 19,
   "metadata": {
    "collapsed": true
   },
   "outputs": [],
   "source": [
    "c = first_line.content.decode(\"utf-8\")"
   ]
  },
  {
   "cell_type": "code",
   "execution_count": 20,
   "metadata": {
    "collapsed": false
   },
   "outputs": [
    {
     "name": "stderr",
     "output_type": "stream",
     "text": [
      "C:\\Users\\JeremySun\\Anaconda3\\lib\\site-packages\\bs4\\__init__.py:181: UserWarning: No parser was explicitly specified, so I'm using the best available HTML parser for this system (\"lxml\"). This usually isn't a problem, but if you run this code on another system, or in a different virtual environment, it may use a different parser and behave differently.\n",
      "\n",
      "The code that caused this warning is on line 193 of the file C:\\Users\\JeremySun\\Anaconda3\\lib\\runpy.py. To get rid of this warning, change code that looks like this:\n",
      "\n",
      " BeautifulSoup([your markup])\n",
      "\n",
      "to this:\n",
      "\n",
      " BeautifulSoup([your markup], \"lxml\")\n",
      "\n",
      "  markup_type=markup_type))\n"
     ]
    }
   ],
   "source": [
    "soup = bs(c)"
   ]
  },
  {
   "cell_type": "code",
   "execution_count": 21,
   "metadata": {
    "collapsed": true
   },
   "outputs": [],
   "source": [
    "station_pattern = re.compile(r'<td.+>([\\w\\d]+站)')"
   ]
  },
  {
   "cell_type": "code",
   "execution_count": 22,
   "metadata": {
    "collapsed": true
   },
   "outputs": [],
   "source": [
    "def get_stations(soup):\n",
    "    stations = []\n",
    "    for h3 in soup.find_all(\"h3\"):\n",
    "        if h3.contents[-1] != \"车站列表\":\n",
    "            continue\n",
    "        par = h3.parent\n",
    "        for sib in par.next_siblings:\n",
    "            if sib.name == \"table\":\n",
    "                for s in sib.children:\n",
    "                    if s.contents:\n",
    "                        stat = str(s.contents[0])\n",
    "                        mat = station_pattern.search(stat)\n",
    "                        if mat and len(mat.group(1)) < 10 and mat.group(1) != \"车站\":\n",
    "                            stations.append(mat.group(1))\n",
    "                return stations"
   ]
  },
  {
   "cell_type": "code",
   "execution_count": 23,
   "metadata": {
    "collapsed": false,
    "scrolled": true
   },
   "outputs": [
    {
     "data": {
      "text/plain": [
       "['莘庄站',\n",
       " '春申路站',\n",
       " '银都路站',\n",
       " '颛桥站',\n",
       " '北桥站',\n",
       " '剑川路站',\n",
       " '东川路站',\n",
       " '江川路站',\n",
       " '西渡站',\n",
       " '萧塘站',\n",
       " '奉浦大道站',\n",
       " '环城东路站',\n",
       " '望园路站',\n",
       " '金海湖站',\n",
       " '奉贤新城站',\n",
       " '金平路站',\n",
       " '华宁路站',\n",
       " '文井路站',\n",
       " '闵行开发区站']"
      ]
     },
     "execution_count": 23,
     "metadata": {},
     "output_type": "execute_result"
    }
   ],
   "source": [
    "get_stations(soup=soup)  # 提取出站点"
   ]
  },
  {
   "cell_type": "code",
   "execution_count": 24,
   "metadata": {
    "collapsed": true
   },
   "outputs": [],
   "source": [
    "from collections import defaultdict"
   ]
  },
  {
   "cell_type": "code",
   "execution_count": 25,
   "metadata": {
    "collapsed": true
   },
   "outputs": [],
   "source": [
    "def get_all_stations(lines):\n",
    "    all_stations = defaultdict(list)\n",
    "    for line, url in lines.items():\n",
    "        resp = requests.get(url, headers=headers)\n",
    "        contents = resp.content.decode(\"utf-8\")\n",
    "        soup = bs(contents)\n",
    "        stations = get_stations(soup)\n",
    "        all_stations[line].extend(stations)\n",
    "    return all_stations"
   ]
  },
  {
   "cell_type": "code",
   "execution_count": 26,
   "metadata": {
    "collapsed": false
   },
   "outputs": [
    {
     "name": "stderr",
     "output_type": "stream",
     "text": [
      "C:\\Users\\JeremySun\\Anaconda3\\lib\\site-packages\\bs4\\__init__.py:181: UserWarning: No parser was explicitly specified, so I'm using the best available HTML parser for this system (\"lxml\"). This usually isn't a problem, but if you run this code on another system, or in a different virtual environment, it may use a different parser and behave differently.\n",
      "\n",
      "The code that caused this warning is on line 193 of the file C:\\Users\\JeremySun\\Anaconda3\\lib\\runpy.py. To get rid of this warning, change code that looks like this:\n",
      "\n",
      " BeautifulSoup([your markup])\n",
      "\n",
      "to this:\n",
      "\n",
      " BeautifulSoup([your markup], \"lxml\")\n",
      "\n",
      "  markup_type=markup_type))\n"
     ]
    }
   ],
   "source": [
    "all_stations = get_all_stations(all_lines)"
   ]
  },
  {
   "cell_type": "code",
   "execution_count": 27,
   "metadata": {
    "collapsed": false
   },
   "outputs": [
    {
     "data": {
      "text/plain": [
       "defaultdict(list,\n",
       "            {'上海地铁10号线': ['航中路站',\n",
       "              '紫藤路站',\n",
       "              '龙柏新村站',\n",
       "              '虹桥火车站站',\n",
       "              '虹桥2号航站楼站',\n",
       "              '虹桥1号航站楼站',\n",
       "              '上海动物园站',\n",
       "              '龙溪路站',\n",
       "              '水城路站',\n",
       "              '伊犁路站',\n",
       "              '宋园路站',\n",
       "              '虹桥路站',\n",
       "              '交通大学站',\n",
       "              '上海图书馆站',\n",
       "              '陕西南路站',\n",
       "              '新天地站',\n",
       "              '老西门站',\n",
       "              '豫园站',\n",
       "              '南京东路站',\n",
       "              '天潼路站',\n",
       "              '四川北路站',\n",
       "              '海伦路站',\n",
       "              '邮电新村站',\n",
       "              '四平路站',\n",
       "              '同济大学站',\n",
       "              '国权路站',\n",
       "              '五角场站',\n",
       "              '江湾体育场站',\n",
       "              '三门路站',\n",
       "              '殷高东路站',\n",
       "              '新江湾城站'],\n",
       "             '上海地铁11号线': ['花桥站',\n",
       "              '光明路站',\n",
       "              '兆丰路站',\n",
       "              '安亭站',\n",
       "              '上海汽车城站',\n",
       "              '昌吉东路站',\n",
       "              '上海赛车场站',\n",
       "              '嘉定北站',\n",
       "              '嘉定西站',\n",
       "              '白银路站',\n",
       "              '嘉定新城站',\n",
       "              '马陆站',\n",
       "              '陈翔路站',\n",
       "              '南翔站',\n",
       "              '桃浦新村站',\n",
       "              '武威路站',\n",
       "              '祁连山路站',\n",
       "              '李子园站',\n",
       "              '上海西站站',\n",
       "              '真如站',\n",
       "              '枫桥路站',\n",
       "              '曹杨路站',\n",
       "              '隆德路站',\n",
       "              '江苏路站',\n",
       "              '交通大学站',\n",
       "              '徐家汇站',\n",
       "              '上海游泳馆站',\n",
       "              '龙华站',\n",
       "              '云锦路站',\n",
       "              '龙耀路站',\n",
       "              '东方体育中心站',\n",
       "              '三林站',\n",
       "              '三林东站',\n",
       "              '浦三路站',\n",
       "              '御桥站',\n",
       "              '罗山路站',\n",
       "              '秀沿路站',\n",
       "              '康新公路站',\n",
       "              '迪士尼站'],\n",
       "             '上海地铁12号线': ['七莘路站',\n",
       "              '虹莘路站',\n",
       "              '顾戴路站',\n",
       "              '东兰路站',\n",
       "              '虹梅路站',\n",
       "              '虹漕路站',\n",
       "              '桂林公园站',\n",
       "              '漕宝路站',\n",
       "              '龙漕路站',\n",
       "              '龙华站',\n",
       "              '龙华中路站',\n",
       "              '大木桥路站',\n",
       "              '嘉善路站',\n",
       "              '陕西南路站',\n",
       "              '南京西路站',\n",
       "              '汉中路站',\n",
       "              '曲阜路站',\n",
       "              '天潼路站',\n",
       "              '国际客运中心站',\n",
       "              '提篮桥站',\n",
       "              '大连路站',\n",
       "              '江浦公园站',\n",
       "              '宁国路站',\n",
       "              '隆昌路站',\n",
       "              '爱国路站',\n",
       "              '复兴岛站',\n",
       "              '东陆路站',\n",
       "              '巨峰路站',\n",
       "              '杨高北路站',\n",
       "              '金京路站',\n",
       "              '申江路站',\n",
       "              '金海路站'],\n",
       "             '上海地铁13号线': ['金运路站',\n",
       "              '金沙江西路站',\n",
       "              '丰庄站',\n",
       "              '祁连山南路站',\n",
       "              '真北路站',\n",
       "              '大渡河路站',\n",
       "              '金沙江路站',\n",
       "              '隆德路站',\n",
       "              '武宁路站',\n",
       "              '长寿路站',\n",
       "              '江宁路站',\n",
       "              '汉中路站',\n",
       "              '自然博物馆站',\n",
       "              '南京西路站',\n",
       "              '淮海中路站',\n",
       "              '新天地站',\n",
       "              '马当路站',\n",
       "              '世博会博物馆站',\n",
       "              '世博大道站',\n",
       "              '长清路站',\n",
       "              '成山路站',\n",
       "              '东明路站',\n",
       "              '华鹏路站',\n",
       "              '下南路站',\n",
       "              '北蔡站',\n",
       "              '陈春路站',\n",
       "              '莲溪路站',\n",
       "              '华夏中路站',\n",
       "              '中科路站',\n",
       "              '学林路站',\n",
       "              '张江路站'],\n",
       "             '上海地铁16号线': ['滴水湖站',\n",
       "              '临港大道站',\n",
       "              '书院站',\n",
       "              '惠南东站',\n",
       "              '惠南站',\n",
       "              '野生动物园站',\n",
       "              '新场站',\n",
       "              '航头东站',\n",
       "              '鹤沙航城站',\n",
       "              '周浦东站',\n",
       "              '罗山路站',\n",
       "              '华夏中路站',\n",
       "              '龙阳路站'],\n",
       "             '上海地铁17号线': ['虹桥火车站',\n",
       "              '诸光路站',\n",
       "              '蟠龙路站',\n",
       "              '徐盈路站',\n",
       "              '徐泾北城站',\n",
       "              '嘉松中路站',\n",
       "              '赵巷站',\n",
       "              '汇金路站',\n",
       "              '青浦新城站',\n",
       "              '漕盈路站',\n",
       "              '淀山湖大道站',\n",
       "              '朱家角站',\n",
       "              '东方绿舟站'],\n",
       "             '上海地铁1号线': ['莘庄站',\n",
       "              '外环路站',\n",
       "              '莲花路站',\n",
       "              '锦江乐园站',\n",
       "              '上海南站站',\n",
       "              '漕宝路站',\n",
       "              '上海体育馆站',\n",
       "              '徐家汇站',\n",
       "              '衡山路站',\n",
       "              '常熟路站',\n",
       "              '陕西南路站',\n",
       "              '黄陂南路站',\n",
       "              '人民广场站',\n",
       "              '新闸路站',\n",
       "              '汉中路站',\n",
       "              '上海火车站站',\n",
       "              '中山北路站',\n",
       "              '延长路站',\n",
       "              '上海马戏城站',\n",
       "              '汶水路站',\n",
       "              '彭浦新村站',\n",
       "              '共康路站',\n",
       "              '通河新村站',\n",
       "              '呼兰路站',\n",
       "              '共富新村站',\n",
       "              '宝安公路站',\n",
       "              '友谊西路站',\n",
       "              '富锦路站'],\n",
       "             '上海地铁2号线': ['浦东国际机场站',\n",
       "              '海天三路站',\n",
       "              '远东大道站',\n",
       "              '凌空路站',\n",
       "              '川沙站',\n",
       "              '华夏东路站',\n",
       "              '创新中路站',\n",
       "              '唐镇站',\n",
       "              '广兰路站',\n",
       "              '金科路站',\n",
       "              '张江高科站',\n",
       "              '龙阳路站',\n",
       "              '世纪公园站',\n",
       "              '上海科技馆站',\n",
       "              '世纪大道站',\n",
       "              '东昌路站',\n",
       "              '陆家嘴站',\n",
       "              '南京东路站',\n",
       "              '人民广场站',\n",
       "              '南京西路站',\n",
       "              '静安寺站',\n",
       "              '江苏路站',\n",
       "              '中山公园站',\n",
       "              '娄山关路站',\n",
       "              '威宁路站',\n",
       "              '北新泾站',\n",
       "              '淞虹路站',\n",
       "              '虹桥2号航站楼站',\n",
       "              '虹桥火车站站',\n",
       "              '徐泾东站'],\n",
       "             '上海地铁3号线': ['上海南站站',\n",
       "              '石龙路站',\n",
       "              '龙漕路站',\n",
       "              '漕溪路站',\n",
       "              '宜山路站',\n",
       "              '虹桥路站',\n",
       "              '延安西路站',\n",
       "              '中山公园站',\n",
       "              '金沙江路站',\n",
       "              '曹杨路站',\n",
       "              '镇坪路站',\n",
       "              '中潭路站',\n",
       "              '上海火车站站',\n",
       "              '宝山路站',\n",
       "              '东宝兴路站',\n",
       "              '虹口足球场站',\n",
       "              '赤峰路站',\n",
       "              '大柏树站',\n",
       "              '江湾镇站',\n",
       "              '殷高西路站',\n",
       "              '长江南路站',\n",
       "              '淞发路站',\n",
       "              '张华浜站',\n",
       "              '淞滨路站',\n",
       "              '水产路站',\n",
       "              '宝杨路站',\n",
       "              '友谊路站',\n",
       "              '铁力路站',\n",
       "              '江杨北路站'],\n",
       "             '上海地铁4号线': ['宜山路站',\n",
       "              '上海体育馆站',\n",
       "              '上海体育场站',\n",
       "              '东安路站',\n",
       "              '大木桥路站',\n",
       "              '鲁班路站',\n",
       "              '西藏南路站',\n",
       "              '南浦大桥站',\n",
       "              '塘桥站',\n",
       "              '蓝村路站',\n",
       "              '浦电路站',\n",
       "              '世纪大道站',\n",
       "              '浦东大道站',\n",
       "              '杨树浦路站',\n",
       "              '大连路站',\n",
       "              '临平路站',\n",
       "              '海伦路站',\n",
       "              '宝山路站',\n",
       "              '上海火车站站',\n",
       "              '中潭路站',\n",
       "              '镇坪路站',\n",
       "              '曹杨路站',\n",
       "              '金沙江路站',\n",
       "              '中山公园站',\n",
       "              '延安西路站',\n",
       "              '虹桥路站',\n",
       "              '宜山路站'],\n",
       "             '上海地铁5号线': ['莘庄站',\n",
       "              '春申路站',\n",
       "              '银都路站',\n",
       "              '颛桥站',\n",
       "              '北桥站',\n",
       "              '剑川路站',\n",
       "              '东川路站',\n",
       "              '江川路站',\n",
       "              '西渡站',\n",
       "              '萧塘站',\n",
       "              '奉浦大道站',\n",
       "              '环城东路站',\n",
       "              '望园路站',\n",
       "              '金海湖站',\n",
       "              '奉贤新城站',\n",
       "              '金平路站',\n",
       "              '华宁路站',\n",
       "              '文井路站',\n",
       "              '闵行开发区站'],\n",
       "             '上海地铁6号线': ['东方体育中心站',\n",
       "              '灵岩南路站',\n",
       "              '上南路站',\n",
       "              '华夏西路站',\n",
       "              '高青路站',\n",
       "              '东明路站',\n",
       "              '高科西路站',\n",
       "              '临沂新村站',\n",
       "              '上海儿童医学中心站',\n",
       "              '蓝村路站',\n",
       "              '浦电路站',\n",
       "              '世纪大道站',\n",
       "              '源深体育中心站',\n",
       "              '民生路站',\n",
       "              '北洋泾路站',\n",
       "              '德平路站',\n",
       "              '云山路站',\n",
       "              '金桥路站',\n",
       "              '博兴路站',\n",
       "              '五莲路站',\n",
       "              '巨峰路站',\n",
       "              '东靖路站',\n",
       "              '五洲大道站',\n",
       "              '洲海路站',\n",
       "              '外高桥保税区南站',\n",
       "              '航津路站',\n",
       "              '外高桥保税区北站',\n",
       "              '港城路站'],\n",
       "             '上海地铁7号线': ['美兰湖站',\n",
       "              '罗南新村站',\n",
       "              '潘广路站',\n",
       "              '刘行站',\n",
       "              '顾村公园站',\n",
       "              '祁华路站',\n",
       "              '上海大学站',\n",
       "              '南陈路站',\n",
       "              '上大路站',\n",
       "              '场中路站',\n",
       "              '大场镇站',\n",
       "              '行知路站',\n",
       "              '大华三路站',\n",
       "              '新村路站',\n",
       "              '岚皋路站',\n",
       "              '镇坪路站',\n",
       "              '长寿路站',\n",
       "              '昌平路站',\n",
       "              '静安寺站',\n",
       "              '常熟路站',\n",
       "              '肇嘉浜路站',\n",
       "              '东安路站',\n",
       "              '龙华中路站',\n",
       "              '后滩站',\n",
       "              '长清路站',\n",
       "              '耀华路站',\n",
       "              '云台路站',\n",
       "              '高科西路站',\n",
       "              '杨高南路站',\n",
       "              '锦绣路站',\n",
       "              '芳华路站',\n",
       "              '龙阳路站',\n",
       "              '花木路站'],\n",
       "             '上海地铁8号线': ['沈杜公路站',\n",
       "              '联航路站',\n",
       "              '江月路站',\n",
       "              '浦江镇站',\n",
       "              '芦恒路站',\n",
       "              '凌兆新村站',\n",
       "              '东方体育中心站',\n",
       "              '杨思站',\n",
       "              '成山路站',\n",
       "              '耀华路站',\n",
       "              '中华艺术宫站',\n",
       "              '西藏南路站',\n",
       "              '陆家浜路站',\n",
       "              '老西门站',\n",
       "              '大世界站',\n",
       "              '人民广场站',\n",
       "              '曲阜路站',\n",
       "              '中兴路站',\n",
       "              '西藏北路站',\n",
       "              '虹口足球场站',\n",
       "              '曲阳路站',\n",
       "              '四平路站',\n",
       "              '鞍山新村站',\n",
       "              '江浦路站',\n",
       "              '黄兴路站',\n",
       "              '延吉中路站',\n",
       "              '黄兴公园站',\n",
       "              '翔殷路站',\n",
       "              '嫩江路站',\n",
       "              '市光路站'],\n",
       "             '上海地铁9号线': ['曹路站',\n",
       "              '民雷路站',\n",
       "              '顾唐路站',\n",
       "              '金海路站',\n",
       "              '金吉路站',\n",
       "              '金桥站',\n",
       "              '台儿庄路站',\n",
       "              '蓝天路站',\n",
       "              '芳甸路站',\n",
       "              '杨高中路站',\n",
       "              '世纪大道站',\n",
       "              '商城路站',\n",
       "              '小南门站',\n",
       "              '陆家浜路站',\n",
       "              '马当路站',\n",
       "              '打浦桥站',\n",
       "              '嘉善路站',\n",
       "              '肇嘉浜路站',\n",
       "              '徐家汇站',\n",
       "              '宜山路站',\n",
       "              '桂林路站',\n",
       "              '漕河泾开发区站',\n",
       "              '合川路站',\n",
       "              '星中路站',\n",
       "              '七宝站',\n",
       "              '中春路站',\n",
       "              '九亭站',\n",
       "              '泗泾站',\n",
       "              '佘山站',\n",
       "              '洞泾站',\n",
       "              '松江大学城站',\n",
       "              '松江新城站',\n",
       "              '松江体育中心站',\n",
       "              '醉白池站',\n",
       "              '松江南站站'],\n",
       "             '上海地铁浦江线': ['沈杜公路站', '三鲁公路站', '闵瑞路站', '浦航路站', '东城一路站', '汇臻路站'],\n",
       "             '上海磁浮列车示范运营线': ['龙阳路站', '浦东国际机场站']})"
      ]
     },
     "execution_count": 27,
     "metadata": {},
     "output_type": "execute_result"
    }
   ],
   "source": [
    "all_stations"
   ]
  },
  {
   "cell_type": "code",
   "execution_count": 28,
   "metadata": {
    "collapsed": false
   },
   "outputs": [
    {
     "name": "stdout",
     "output_type": "stream",
     "text": [
      "上海地铁3号线一共有29个站\n",
      "上海地铁17号线一共有13个站\n",
      "上海地铁1号线一共有28个站\n",
      "上海地铁12号线一共有32个站\n",
      "上海地铁6号线一共有28个站\n",
      "上海地铁16号线一共有13个站\n",
      "上海地铁4号线一共有27个站\n",
      "上海地铁10号线一共有31个站\n",
      "上海地铁7号线一共有33个站\n",
      "上海地铁11号线一共有39个站\n",
      "上海地铁13号线一共有31个站\n",
      "上海地铁2号线一共有30个站\n",
      "上海地铁9号线一共有35个站\n",
      "上海地铁5号线一共有19个站\n",
      "上海磁浮列车示范运营线一共有2个站\n",
      "上海地铁浦江线一共有6个站\n",
      "上海地铁8号线一共有30个站\n"
     ]
    }
   ],
   "source": [
    "for line, stations in all_stations.items():\n",
    "    print(\"{line}一共有{stations}个站\".format(line=line, stations=len(stations)))"
   ]
  },
  {
   "cell_type": "markdown",
   "metadata": {},
   "source": [
    "- **说明**\n",
    "    - 4号线为环线\n",
    "    - 11号站陈翔路站尚未开通"
   ]
  },
  {
   "cell_type": "code",
   "execution_count": 29,
   "metadata": {
    "collapsed": false
   },
   "outputs": [
    {
     "data": {
      "text/plain": [
       "['莘庄站',\n",
       " '春申路站',\n",
       " '银都路站',\n",
       " '颛桥站',\n",
       " '北桥站',\n",
       " '剑川路站',\n",
       " '东川路站',\n",
       " '江川路站',\n",
       " '西渡站',\n",
       " '萧塘站',\n",
       " '奉浦大道站',\n",
       " '环城东路站',\n",
       " '望园路站',\n",
       " '金海湖站',\n",
       " '奉贤新城站',\n",
       " '金平路站',\n",
       " '华宁路站',\n",
       " '文井路站',\n",
       " '闵行开发区站']"
      ]
     },
     "execution_count": 29,
     "metadata": {},
     "output_type": "execute_result"
    }
   ],
   "source": [
    "all_stations[\"上海地铁5号线\"]"
   ]
  },
  {
   "cell_type": "code",
   "execution_count": 30,
   "metadata": {
    "collapsed": false
   },
   "outputs": [
    {
     "data": {
      "text/plain": [
       "['宜山路站',\n",
       " '上海体育馆站',\n",
       " '上海体育场站',\n",
       " '东安路站',\n",
       " '大木桥路站',\n",
       " '鲁班路站',\n",
       " '西藏南路站',\n",
       " '南浦大桥站',\n",
       " '塘桥站',\n",
       " '蓝村路站',\n",
       " '浦电路站',\n",
       " '世纪大道站',\n",
       " '浦东大道站',\n",
       " '杨树浦路站',\n",
       " '大连路站',\n",
       " '临平路站',\n",
       " '海伦路站',\n",
       " '宝山路站',\n",
       " '上海火车站站',\n",
       " '中潭路站',\n",
       " '镇坪路站',\n",
       " '曹杨路站',\n",
       " '金沙江路站',\n",
       " '中山公园站',\n",
       " '延安西路站',\n",
       " '虹桥路站',\n",
       " '宜山路站']"
      ]
     },
     "execution_count": 30,
     "metadata": {},
     "output_type": "execute_result"
    }
   ],
   "source": [
    "# all_stations[\"上海地铁4号线\"].pop()\n",
    "all_stations[\"上海地铁4号线\"]"
   ]
  },
  {
   "cell_type": "code",
   "execution_count": 31,
   "metadata": {
    "collapsed": false
   },
   "outputs": [
    {
     "data": {
      "text/plain": [
       "['花桥站',\n",
       " '光明路站',\n",
       " '兆丰路站',\n",
       " '安亭站',\n",
       " '上海汽车城站',\n",
       " '昌吉东路站',\n",
       " '上海赛车场站',\n",
       " '嘉定北站',\n",
       " '嘉定西站',\n",
       " '白银路站',\n",
       " '嘉定新城站',\n",
       " '马陆站',\n",
       " '陈翔路站',\n",
       " '南翔站',\n",
       " '桃浦新村站',\n",
       " '武威路站',\n",
       " '祁连山路站',\n",
       " '李子园站',\n",
       " '上海西站站',\n",
       " '真如站',\n",
       " '枫桥路站',\n",
       " '曹杨路站',\n",
       " '隆德路站',\n",
       " '江苏路站',\n",
       " '交通大学站',\n",
       " '徐家汇站',\n",
       " '上海游泳馆站',\n",
       " '龙华站',\n",
       " '云锦路站',\n",
       " '龙耀路站',\n",
       " '东方体育中心站',\n",
       " '三林站',\n",
       " '三林东站',\n",
       " '浦三路站',\n",
       " '御桥站',\n",
       " '罗山路站',\n",
       " '秀沿路站',\n",
       " '康新公路站',\n",
       " '迪士尼站']"
      ]
     },
     "execution_count": 31,
     "metadata": {},
     "output_type": "execute_result"
    }
   ],
   "source": [
    "# all_stations[\"上海地铁11号线\"].remove(\"陈翔路站\")\n",
    "all_stations[\"上海地铁11号线\"]"
   ]
  },
  {
   "cell_type": "markdown",
   "metadata": {},
   "source": [
    "- 处理支线"
   ]
  },
  {
   "cell_type": "code",
   "execution_count": 32,
   "metadata": {
    "collapsed": false
   },
   "outputs": [
    {
     "data": {
      "text/plain": [
       "['莘庄站',\n",
       " '春申路站',\n",
       " '银都路站',\n",
       " '颛桥站',\n",
       " '北桥站',\n",
       " '剑川路站',\n",
       " '东川路站',\n",
       " '江川路站',\n",
       " '西渡站',\n",
       " '萧塘站',\n",
       " '奉浦大道站',\n",
       " '环城东路站',\n",
       " '望园路站',\n",
       " '金海湖站',\n",
       " '奉贤新城站',\n",
       " '金平路站',\n",
       " '华宁路站',\n",
       " '文井路站',\n",
       " '闵行开发区站']"
      ]
     },
     "execution_count": 32,
     "metadata": {},
     "output_type": "execute_result"
    }
   ],
   "source": [
    "# 处理5号线支线\n",
    "all_stations[\"上海地铁5号线主线\"] = all_stations[\"上海地铁5号线\"][:15]\n",
    "all_stations[\"上海地铁5号线支线\"] = all_stations[\"上海地铁5号线\"][15:]\n",
    "all_stations.pop(\"上海地铁5号线\")"
   ]
  },
  {
   "cell_type": "code",
   "execution_count": 33,
   "metadata": {
    "collapsed": false
   },
   "outputs": [
    {
     "data": {
      "text/plain": [
       "['航中路站',\n",
       " '紫藤路站',\n",
       " '龙柏新村站',\n",
       " '虹桥火车站站',\n",
       " '虹桥2号航站楼站',\n",
       " '虹桥1号航站楼站',\n",
       " '上海动物园站',\n",
       " '龙溪路站',\n",
       " '水城路站',\n",
       " '伊犁路站',\n",
       " '宋园路站',\n",
       " '虹桥路站',\n",
       " '交通大学站',\n",
       " '上海图书馆站',\n",
       " '陕西南路站',\n",
       " '新天地站',\n",
       " '老西门站',\n",
       " '豫园站',\n",
       " '南京东路站',\n",
       " '天潼路站',\n",
       " '四川北路站',\n",
       " '海伦路站',\n",
       " '邮电新村站',\n",
       " '四平路站',\n",
       " '同济大学站',\n",
       " '国权路站',\n",
       " '五角场站',\n",
       " '江湾体育场站',\n",
       " '三门路站',\n",
       " '殷高东路站',\n",
       " '新江湾城站']"
      ]
     },
     "execution_count": 33,
     "metadata": {},
     "output_type": "execute_result"
    }
   ],
   "source": [
    "# 处理10号线支线\n",
    "all_stations[\"上海地铁10号线主线\"] = all_stations[\"上海地铁10号线\"][3:]\n",
    "all_stations[\"上海地铁10号线支线\"] = all_stations[\"上海地铁10号线\"][:3] + [all_stations[\"上海地铁10号线\"][7]]\n",
    "all_stations.pop(\"上海地铁10号线\")"
   ]
  },
  {
   "cell_type": "code",
   "execution_count": 34,
   "metadata": {
    "collapsed": false
   },
   "outputs": [
    {
     "data": {
      "text/plain": [
       "['花桥站',\n",
       " '光明路站',\n",
       " '兆丰路站',\n",
       " '安亭站',\n",
       " '上海汽车城站',\n",
       " '昌吉东路站',\n",
       " '上海赛车场站',\n",
       " '嘉定北站',\n",
       " '嘉定西站',\n",
       " '白银路站',\n",
       " '嘉定新城站',\n",
       " '马陆站',\n",
       " '陈翔路站',\n",
       " '南翔站',\n",
       " '桃浦新村站',\n",
       " '武威路站',\n",
       " '祁连山路站',\n",
       " '李子园站',\n",
       " '上海西站站',\n",
       " '真如站',\n",
       " '枫桥路站',\n",
       " '曹杨路站',\n",
       " '隆德路站',\n",
       " '江苏路站',\n",
       " '交通大学站',\n",
       " '徐家汇站',\n",
       " '上海游泳馆站',\n",
       " '龙华站',\n",
       " '云锦路站',\n",
       " '龙耀路站',\n",
       " '东方体育中心站',\n",
       " '三林站',\n",
       " '三林东站',\n",
       " '浦三路站',\n",
       " '御桥站',\n",
       " '罗山路站',\n",
       " '秀沿路站',\n",
       " '康新公路站',\n",
       " '迪士尼站']"
      ]
     },
     "execution_count": 34,
     "metadata": {},
     "output_type": "execute_result"
    }
   ],
   "source": [
    "# 处理11号线支线\n",
    "all_stations[\"上海地铁11号线主线\"] = all_stations[\"上海地铁11号线\"][7:]\n",
    "all_stations[\"上海地铁11号线支线\"] = all_stations[\"上海地铁11号线\"][:7] + [all_stations[\"上海地铁11号线\"][10]]\n",
    "all_stations.pop(\"上海地铁11号线\")"
   ]
  },
  {
   "cell_type": "code",
   "execution_count": 35,
   "metadata": {
    "collapsed": false
   },
   "outputs": [
    {
     "name": "stdout",
     "output_type": "stream",
     "text": [
      "上海地铁1号线一共有28个站\n",
      "上海地铁5号线主线一共有15个站\n",
      "上海地铁6号线一共有28个站\n",
      "上海地铁9号线一共有35个站\n",
      "上海地铁7号线一共有33个站\n",
      "上海地铁10号线主线一共有28个站\n",
      "上海地铁13号线一共有31个站\n",
      "上海地铁2号线一共有30个站\n",
      "上海地铁10号线支线一共有4个站\n",
      "上海地铁5号线支线一共有4个站\n",
      "上海地铁浦江线一共有6个站\n",
      "上海地铁8号线一共有30个站\n",
      "上海地铁3号线一共有29个站\n",
      "上海地铁17号线一共有13个站\n",
      "上海地铁12号线一共有32个站\n",
      "上海地铁16号线一共有13个站\n",
      "上海地铁4号线一共有27个站\n",
      "上海地铁11号线支线一共有8个站\n",
      "上海地铁11号线主线一共有32个站\n",
      "上海磁浮列车示范运营线一共有2个站\n"
     ]
    }
   ],
   "source": [
    "for line, stations in all_stations.items():\n",
    "    print(\"{line}一共有{stations}个站\".format(line=line, stations=len(stations)))"
   ]
  },
  {
   "cell_type": "code",
   "execution_count": 37,
   "metadata": {
    "collapsed": true
   },
   "outputs": [],
   "source": [
    "# 获取经纬度\n",
    "long_lat_url = \"http://service.shmetro.com/skin/js/pca.js\""
   ]
  },
  {
   "cell_type": "code",
   "execution_count": 38,
   "metadata": {
    "collapsed": false
   },
   "outputs": [],
   "source": [
    "resp = requests.get(url=long_lat_url, headers=headers)"
   ]
  },
  {
   "cell_type": "code",
   "execution_count": 39,
   "metadata": {
    "collapsed": false
   },
   "outputs": [
    {
     "data": {
      "text/plain": [
       "200"
      ]
     },
     "execution_count": 39,
     "metadata": {},
     "output_type": "execute_result"
    }
   ],
   "source": [
    "resp.status_code"
   ]
  },
  {
   "cell_type": "code",
   "execution_count": 41,
   "metadata": {
    "collapsed": false
   },
   "outputs": [],
   "source": [
    "stations_long_lat = resp.content.decode(\"utf-8\")"
   ]
  },
  {
   "cell_type": "code",
   "execution_count": 42,
   "metadata": {
    "collapsed": true
   },
   "outputs": [],
   "source": [
    "long_lat_pat = re.compile(r'var gis = \\{(.*?)\\}', re.S)\n",
    "station_pat = re.compile(r'var stations = \\{(.*?)\\}', re.S)"
   ]
  },
  {
   "cell_type": "code",
   "execution_count": 50,
   "metadata": {
    "collapsed": false
   },
   "outputs": [],
   "source": [
    "long_lat = long_lat_pat.findall(stations_long_lat)\n",
    "stations = station_pat.findall(stations_long_lat)"
   ]
  },
  {
   "cell_type": "code",
   "execution_count": 51,
   "metadata": {
    "collapsed": false
   },
   "outputs": [
    {
     "data": {
      "text/plain": [
       "{'\\n\"0721': '美兰湖',\n",
       " '0111': '莘庄',\n",
       " '0112': '外环路',\n",
       " '0113': '莲花路',\n",
       " '0114': '锦江乐园',\n",
       " '0115': '上海南站',\n",
       " '0116': '漕宝路',\n",
       " '0117': '上海体育馆',\n",
       " '0118': '徐家汇',\n",
       " '0119': '衡山路',\n",
       " '0120': '常熟路',\n",
       " '0121': '陕西南路',\n",
       " '0122': '黄陂南路',\n",
       " '0123': '人民广场',\n",
       " '0124': '新闸路',\n",
       " '0125': '汉中路',\n",
       " '0126': '上海火车站',\n",
       " '0127': '中山北路',\n",
       " '0128': '延长路',\n",
       " '0129': '上海马戏城',\n",
       " '0130': '汶水路',\n",
       " '0131': '彭浦新村',\n",
       " '0132': '共康路',\n",
       " '0133': '通河新村',\n",
       " '0134': '呼兰路',\n",
       " '0135': '共富新村',\n",
       " '0136': '宝安公路',\n",
       " '0137': '友谊西路',\n",
       " '0138': '富锦路',\n",
       " '0234': '徐泾东',\n",
       " '0235': '虹桥火车站',\n",
       " '0236': '虹桥2号航站楼',\n",
       " '0237': '淞虹路',\n",
       " '0238': '北新泾',\n",
       " '0239': '威宁路',\n",
       " '0240': '娄山关路',\n",
       " '0241': '中山公园',\n",
       " '0242': '江苏路',\n",
       " '0243': '静安寺',\n",
       " '0244': '南京西路',\n",
       " '0245': '人民广场',\n",
       " '0246': '南京东路',\n",
       " '0247': '陆家嘴',\n",
       " '0248': '东昌路',\n",
       " '0249': '世纪大道',\n",
       " '0250': '上海科技馆',\n",
       " '0251': '世纪公园',\n",
       " '0252': '龙阳路',\n",
       " '0253': '张江高科',\n",
       " '0254': '金科路',\n",
       " '0255': '广兰路',\n",
       " '0256': '唐镇',\n",
       " '0257': '创新中路',\n",
       " '0258': '华夏东路',\n",
       " '0259': '川沙',\n",
       " '0260': '凌空路',\n",
       " '0261': '远东大道',\n",
       " '0262': '海天三路',\n",
       " '0263': '浦东国际机场',\n",
       " '0311': '上海南站',\n",
       " '0312': '石龙路',\n",
       " '0313': '龙漕路',\n",
       " '0314': '漕溪路',\n",
       " '0315': '宜山路',\n",
       " '0316': '虹桥路',\n",
       " '0317': '延安西路',\n",
       " '0318': '中山公园',\n",
       " '0319': '金沙江路',\n",
       " '0320': '曹杨路',\n",
       " '0321': '镇坪路',\n",
       " '0322': '中潭路',\n",
       " '0323': '上海火车站',\n",
       " '0324': '宝山路',\n",
       " '0325': '东宝兴路',\n",
       " '0326': '虹口足球场',\n",
       " '0327': '赤峰路',\n",
       " '0328': '大柏树',\n",
       " '0329': '江湾镇',\n",
       " '0330': '殷高西路',\n",
       " '0331': '长江南路',\n",
       " '0332': '淞发路',\n",
       " '0333': '张华浜',\n",
       " '0334': '淞滨路',\n",
       " '0335': '水产路',\n",
       " '0336': '宝杨路',\n",
       " '0337': '友谊路',\n",
       " '0338': '铁力路',\n",
       " '0339': '江杨北路',\n",
       " '0401': '上海体育馆',\n",
       " '0402': '宜山路',\n",
       " '0403': '虹桥路',\n",
       " '0404': '延安西路',\n",
       " '0405': '中山公园',\n",
       " '0406': '金沙江路',\n",
       " '0407': '曹杨路',\n",
       " '0408': '镇坪路',\n",
       " '0409': '中潭路',\n",
       " '0410': '上海火车站',\n",
       " '0411': '宝山路',\n",
       " '0412': '海伦路',\n",
       " '0413': '临平路',\n",
       " '0414': '大连路',\n",
       " '0415': '杨树浦路',\n",
       " '0416': '浦东大道',\n",
       " '0417': '世纪大道',\n",
       " '0418': '浦电路',\n",
       " '0419': '蓝村路',\n",
       " '0420': '塘桥',\n",
       " '0421': '南浦大桥',\n",
       " '0422': '西藏南路',\n",
       " '0423': '鲁班路',\n",
       " '0424': '大木桥路',\n",
       " '0425': '东安路',\n",
       " '0426': '上海体育场',\n",
       " '0501': '莘庄',\n",
       " '0502': '春申路',\n",
       " '0503': '银都路',\n",
       " '0505': '颛桥',\n",
       " '0507': '北桥',\n",
       " '0508': '剑川路',\n",
       " '0509': '东川路',\n",
       " '0510': '金平路',\n",
       " '0511': '华宁路',\n",
       " '0512': '文井路',\n",
       " '0513': '闵行开发区',\n",
       " '0531': '江川路',\n",
       " '0532': '西渡',\n",
       " '0533': '萧塘',\n",
       " '0534': '奉浦大道',\n",
       " '0535': '环城东路',\n",
       " '0536': '望园路',\n",
       " '0537': '金海湖',\n",
       " '0538': '奉贤新城',\n",
       " '0621': '东方体育中心',\n",
       " '0622': '灵岩南路',\n",
       " '0623': '上南路',\n",
       " '0624': '华夏西路',\n",
       " '0625': '高青路',\n",
       " '0626': '东明路',\n",
       " '0627': '高科西路',\n",
       " '0628': '临沂新村',\n",
       " '0629': '上海儿童医学中心',\n",
       " '0630': '蓝村路',\n",
       " '0631': '浦电路',\n",
       " '0632': '世纪大道',\n",
       " '0633': '源深体育中心',\n",
       " '0634': '民生路',\n",
       " '0635': '北洋泾路',\n",
       " '0636': '德平路',\n",
       " '0637': '云山路',\n",
       " '0638': '金桥路',\n",
       " '0639': '博兴路',\n",
       " '0640': '五莲路',\n",
       " '0641': '巨峰路',\n",
       " '0642': '东靖路',\n",
       " '0643': '五洲大道',\n",
       " '0644': '洲海路',\n",
       " '0645': '外高桥保税区南站',\n",
       " '0646': '航津路',\n",
       " '0647': '外高桥保税区北站',\n",
       " '0648': '港城路',\n",
       " '0722': '罗南新村',\n",
       " '0723': '潘广路',\n",
       " '0724': '刘行',\n",
       " '0725': '顾村公园',\n",
       " '0726': '祁华路',\n",
       " '0727': '上海大学',\n",
       " '0728': '南陈路',\n",
       " '0729': '上大路',\n",
       " '0730': '场中路',\n",
       " '0731': '大场镇',\n",
       " '0732': '行知路',\n",
       " '0733': '大华三路',\n",
       " '0734': '新村路',\n",
       " '0735': '岚皋路',\n",
       " '0736': '镇坪路',\n",
       " '0737': '长寿路',\n",
       " '0738': '昌平路',\n",
       " '0739': '静安寺',\n",
       " '0740': '常熟路',\n",
       " '0741': '肇嘉浜路',\n",
       " '0742': '东安路',\n",
       " '0743': '龙华中路',\n",
       " '0744': '后滩',\n",
       " '0745': '长清路',\n",
       " '0746': '耀华路',\n",
       " '0747': '云台路',\n",
       " '0748': '高科西路',\n",
       " '0749': '杨高南路',\n",
       " '0750': '锦绣路',\n",
       " '0751': '芳华路',\n",
       " '0752': '龙阳路',\n",
       " '0753': '花木路',\n",
       " '0820': '沈杜公路',\n",
       " '0821': '联航路',\n",
       " '0822': '江月路',\n",
       " '0823': '浦江镇',\n",
       " '0824': '芦恒路',\n",
       " '0825': '凌兆新村',\n",
       " '0826': '东方体育中心',\n",
       " '0827': '杨思',\n",
       " '0828': '成山路',\n",
       " '0829': '耀华路',\n",
       " '0830': '中华艺术宫',\n",
       " '0831': '西藏南路',\n",
       " '0832': '陆家浜路',\n",
       " '0833': '老西门',\n",
       " '0834': '大世界',\n",
       " '0835': '人民广场',\n",
       " '0836': '曲阜路',\n",
       " '0837': '中兴路',\n",
       " '0838': '西藏北路',\n",
       " '0839': '虹口足球场',\n",
       " '0840': '曲阳路',\n",
       " '0841': '四平路',\n",
       " '0842': '鞍山新村',\n",
       " '0843': '江浦路',\n",
       " '0844': '黄兴路',\n",
       " '0845': '延吉中路',\n",
       " '0846': '黄兴公园',\n",
       " '0847': '翔殷路',\n",
       " '0848': '嫩江路',\n",
       " '0849': '市光路',\n",
       " '0918': '松江南站',\n",
       " '0919': '醉白池',\n",
       " '0920': '松江体育中心',\n",
       " '0921': '松江新城',\n",
       " '0922': '松江大学城',\n",
       " '0923': '洞泾',\n",
       " '0924': '佘山',\n",
       " '0925': '泗泾',\n",
       " '0926': '九亭',\n",
       " '0927': '中春路',\n",
       " '0928': '七宝',\n",
       " '0929': '星中路',\n",
       " '0930': '合川路',\n",
       " '0931': '漕河泾开发区',\n",
       " '0932': '桂林路',\n",
       " '0933': '宜山路',\n",
       " '0934': '徐家汇',\n",
       " '0935': '肇嘉浜路',\n",
       " '0936': '嘉善路',\n",
       " '0937': '打浦桥',\n",
       " '0938': '马当路',\n",
       " '0939': '陆家浜路',\n",
       " '0940': '小南门',\n",
       " '0941': '商城路',\n",
       " '0942': '世纪大道',\n",
       " '0943': '杨高中路',\n",
       " '0944': '芳甸路',\n",
       " '0945': '蓝天路',\n",
       " '0946': '台儿庄路',\n",
       " '0947': '金桥',\n",
       " '0948': '金吉路',\n",
       " '0949': '金海路',\n",
       " '0950': '顾唐路',\n",
       " '0951': '民雷路',\n",
       " '0952': '曹路',\n",
       " '1018': '航中路',\n",
       " '1019': '紫藤路',\n",
       " '1020': '龙柏新村',\n",
       " '1041': '虹桥火车站',\n",
       " '1042': '虹桥2号航站楼',\n",
       " '1043': '虹桥1号航站楼',\n",
       " '1044': '上海动物园',\n",
       " '1045': '龙溪路',\n",
       " '1046': '水城路',\n",
       " '1047': '伊犁路',\n",
       " '1048': '宋园路',\n",
       " '1049': '虹桥路',\n",
       " '1050': '交通大学',\n",
       " '1051': '上海图书馆',\n",
       " '1052': '陕西南路',\n",
       " '1053': '新天地',\n",
       " '1054': '老西门',\n",
       " '1055': '豫园',\n",
       " '1056': '南京东路',\n",
       " '1057': '天潼路',\n",
       " '1058': '四川北路',\n",
       " '1059': '海伦路',\n",
       " '1060': '邮电新村',\n",
       " '1061': '四平路',\n",
       " '1062': '同济大学',\n",
       " '1063': '国权路',\n",
       " '1064': '五角场',\n",
       " '1065': '江湾体育场',\n",
       " '1066': '三门路',\n",
       " '1067': '殷高东路',\n",
       " '1068': '新江湾城',\n",
       " '1114': '花桥',\n",
       " '1115': '光明路',\n",
       " '1116': '兆丰路',\n",
       " '1117': '安亭',\n",
       " '1118': '上海汽车城',\n",
       " '1119': '昌吉东路',\n",
       " '1120': '上海赛车场',\n",
       " '1131': '嘉定北',\n",
       " '1132': '嘉定西',\n",
       " '1133': '白银路',\n",
       " '1134': '嘉定新城',\n",
       " '1135': '马陆',\n",
       " '1137': '南翔',\n",
       " '1138': '桃浦新村',\n",
       " '1139': '武威路',\n",
       " '1140': '祁连山路',\n",
       " '1141': '李子园',\n",
       " '1142': '上海西站',\n",
       " '1143': '真如',\n",
       " '1144': '枫桥路',\n",
       " '1145': '曹杨路',\n",
       " '1146': '隆德路',\n",
       " '1147': '江苏路',\n",
       " '1148': '交通大学',\n",
       " '1149': '徐家汇',\n",
       " '1150': '上海游泳馆',\n",
       " '1151': '龙华',\n",
       " '1152': '云锦路',\n",
       " '1153': '龙耀路',\n",
       " '1154': '东方体育中心',\n",
       " '1155': '三林',\n",
       " '1156': '三林东',\n",
       " '1157': '浦三路',\n",
       " '1158': '（预留车站）',\n",
       " '1159': '御桥',\n",
       " '1160': '罗山路',\n",
       " '1161': '秀沿路',\n",
       " '1162': '康新公路',\n",
       " '1163': '迪士尼',\n",
       " '1220': '七莘路',\n",
       " '1221': '虹莘路',\n",
       " '1222': '顾戴路',\n",
       " '1223': '东兰路',\n",
       " '1224': '虹梅路',\n",
       " '1225': '虹漕路',\n",
       " '1226': '桂林公园',\n",
       " '1227': '漕宝路',\n",
       " '1228': '龙漕路',\n",
       " '1229': '龙华',\n",
       " '1230': '龙华中路',\n",
       " '1231': '大木桥路',\n",
       " '1232': '嘉善路',\n",
       " '1233': '陕西南路',\n",
       " '1234': '南京西路',\n",
       " '1235': '汉中路',\n",
       " '1236': '曲阜路',\n",
       " '1237': '天潼路',\n",
       " '1238': '国际客运中心',\n",
       " '1239': '提篮桥',\n",
       " '1240': '大连路',\n",
       " '1241': '江浦公园',\n",
       " '1242': '宁国路',\n",
       " '1243': '隆昌路',\n",
       " '1244': '爱国路',\n",
       " '1245': '复兴岛',\n",
       " '1246': '东陆路',\n",
       " '1247': '巨峰路',\n",
       " '1248': '杨高北路',\n",
       " '1249': '金京路',\n",
       " '1250': '申江路',\n",
       " '1251': '金海路',\n",
       " '1321': '金运路',\n",
       " '1322': '金沙江西路',\n",
       " '1323': '丰庄',\n",
       " '1324': '祁连山南路',\n",
       " '1325': '真北路',\n",
       " '1326': '大渡河路',\n",
       " '1327': '金沙江路',\n",
       " '1328': '隆德路',\n",
       " '1329': '武宁路',\n",
       " '1330': '长寿路',\n",
       " '1331': '江宁路',\n",
       " '1332': '汉中路',\n",
       " '1333': '自然博物馆',\n",
       " '1334': '南京西路',\n",
       " '1335': '淮海中路',\n",
       " '1336': '新天地',\n",
       " '1337': '马当路',\n",
       " '1338': '世博会博物馆',\n",
       " '1339': '世博大道',\n",
       " '1340': '长清路',\n",
       " '1341': '成山路',\n",
       " '1342': '东明路',\n",
       " '1343': '华鹏路',\n",
       " '1344': '下南路',\n",
       " '1345': '北蔡',\n",
       " '1346': '陈春路',\n",
       " '1347': '莲溪路',\n",
       " '1348': '华夏中路',\n",
       " '1349': '中科路',\n",
       " '1350': '学林路',\n",
       " '1351': '张江路',\n",
       " '1621': '龙阳路',\n",
       " '1622': '华夏中路',\n",
       " '1623': '罗山路',\n",
       " '1624': '周浦东',\n",
       " '1625': '鹤沙航城',\n",
       " '1626': '航头东',\n",
       " '1627': '新场',\n",
       " '1628': '野生动物园',\n",
       " '1629': '惠南',\n",
       " '1630': '惠南东',\n",
       " '1631': '书院',\n",
       " '1632': '临港大道',\n",
       " '1633': '滴水湖',\n",
       " '1721': '虹桥火车站',\n",
       " '1722': '诸光路',\n",
       " '1723': '蟠龙路',\n",
       " '1724': '徐盈路',\n",
       " '1725': '徐泾北城',\n",
       " '1726': '嘉松中路',\n",
       " '1727': '赵巷',\n",
       " '1728': '汇金路',\n",
       " '1729': '青浦新城',\n",
       " '1730': '漕盈路',\n",
       " '1731': '淀山湖大道',\n",
       " '1732': '朱家角',\n",
       " '1733': '东方绿舟',\n",
       " '4101': '沈杜公路',\n",
       " '4102': '三鲁公路',\n",
       " '4103': '闵瑞路',\n",
       " '4104': '浦航路',\n",
       " '4105': '东城一路',\n",
       " '4106': '汇臻路'}"
      ]
     },
     "execution_count": 51,
     "metadata": {},
     "output_type": "execute_result"
    }
   ],
   "source": [
    "id_name_map = {}\n",
    "for item in stations[0].split(\",\"):\n",
    "    id_, name = item.split(':')\n",
    "    id_name_map[id_[1: -1]] = name[1: -1]\n",
    "id_name_map"
   ]
  },
  {
   "cell_type": "code",
   "execution_count": 61,
   "metadata": {
    "collapsed": true
   },
   "outputs": [],
   "source": [
    "lo_la_pat = re.compile(r'\"(\\d+)\":\"(\\d+\\.\\d+),(\\d+\\.\\d+)\"')  # 双引号内不要加空格"
   ]
  },
  {
   "cell_type": "code",
   "execution_count": 62,
   "metadata": {
    "collapsed": false
   },
   "outputs": [
    {
     "data": {
      "text/plain": [
       "{'0111': (121.391832, 31.116809),\n",
       " '0112': (121.399814, 31.126929),\n",
       " '0113': (121.409334, 31.136734),\n",
       " '0114': (121.42068, 31.148312),\n",
       " '0115': (121.43627, 31.161142),\n",
       " '0116': (121.44187, 31.175383),\n",
       " '0117': (121.442801, 31.188348),\n",
       " '0118': (121.444749, 31.199152),\n",
       " '0119': (121.453247, 31.211777),\n",
       " '0120': (121.457719, 31.219937),\n",
       " '0121': (121.466688, 31.223492),\n",
       " '0122': (121.479798, 31.228753),\n",
       " '0123': (121.48085, 31.23868),\n",
       " '0124': (121.474802, 31.244699),\n",
       " '0125': (121.465, 31.247808),\n",
       " '0126': (121.462366, 31.253608),\n",
       " '0127': (121.465616, 31.265275),\n",
       " '0128': (121.461893, 31.27806),\n",
       " '0129': (121.458503, 31.285845),\n",
       " '0130': (121.456458, 31.29917),\n",
       " '0131': (121.455097, 31.312943),\n",
       " '0132': (121.453464, 31.325355),\n",
       " '0133': (121.447817, 31.337798),\n",
       " '0134': (121.444185, 31.345991),\n",
       " '0135': (121.440458, 31.361557),\n",
       " '0136': (121.437357, 31.376207),\n",
       " '0137': (121.434336, 31.38774),\n",
       " '0138': (121.43103, 31.398683),\n",
       " '0234': (121.307524, 31.195431),\n",
       " '0235': (121.32795, 31.1991),\n",
       " '0236': (121.334373, 31.19958),\n",
       " '0237': (121.365797, 31.223998),\n",
       " '0238': (121.380478, 31.222334),\n",
       " '0239': (121.393671, 31.220485),\n",
       " '0240': (121.410818, 31.216959),\n",
       " '0241': (121.424336, 31.224615),\n",
       " '0242': (121.43882, 31.226025),\n",
       " '0243': (121.452711, 31.229553),\n",
       " '0244': (121.46678, 31.23614),\n",
       " '0245': (121.480166, 31.239445),\n",
       " '0246': (121.490265, 31.243034),\n",
       " '0247': (121.509075, 31.243319),\n",
       " '0248': (121.521058, 31.239393),\n",
       " '0249': (121.533264, 31.235004),\n",
       " '0250': (121.550621, 31.225524),\n",
       " '0251': (121.557067, 31.216069),\n",
       " '0252': (121.563803, 31.209437),\n",
       " '0253': (121.594061, 31.207879),\n",
       " '0254': (121.608797, 31.209985),\n",
       " '0255': (121.627183, 31.216662),\n",
       " '0256': (121.662625, 31.219828),\n",
       " '0257': (121.680961, 31.219405),\n",
       " '0258': (121.687295, 31.203168),\n",
       " '0259': (121.704572, 31.192896),\n",
       " '0260': (121.728838, 31.198286),\n",
       " '0261': (121.76216, 31.205201),\n",
       " '0262': (121.803326, 31.175116),\n",
       " '0263': (121.813395, 31.155029),\n",
       " '0311': (121.437159, 31.159648),\n",
       " '0312': (121.44963, 31.164304),\n",
       " '0313': (121.450802, 31.175724),\n",
       " '0314': (121.444739, 31.182978),\n",
       " '0315': (121.433798, 31.192584),\n",
       " '0316': (121.428032, 31.20317),\n",
       " '0317': (121.423584, 31.215865),\n",
       " '0318': (121.422883, 31.224276),\n",
       " '0319': (121.419507, 31.237991),\n",
       " '0320': (121.424183, 31.244839),\n",
       " '0321': (121.436805, 31.253),\n",
       " '0322': (121.447452, 31.261022),\n",
       " '0323': (121.464746, 31.255935),\n",
       " '0324': (121.483032, 31.257464),\n",
       " '0325': (121.486639, 31.265746),\n",
       " '0326': (121.485807, 31.276632),\n",
       " '0327': (121.48899, 31.287038),\n",
       " '0328': (121.489614, 31.295096),\n",
       " '0329': (121.491552, 31.311026),\n",
       " '0330': (121.491579, 31.325399),\n",
       " '0331': (121.498185, 31.337669),\n",
       " '0332': (121.50714, 31.350804),\n",
       " '0333': (121.505406, 31.363662),\n",
       " '0334': (121.49951, 31.376604),\n",
       " '0335': (121.494571, 31.387466),\n",
       " '0336': (121.486126, 31.401287),\n",
       " '0337': (121.48254, 31.40993),\n",
       " '0338': (121.46856, 31.414137),\n",
       " '0339': (121.446217, 31.414218),\n",
       " '0401': (121.443402, 31.188814),\n",
       " '0402': (121.433798, 31.192584),\n",
       " '0403': (121.428032, 31.20317),\n",
       " '0404': (121.423584, 31.215865),\n",
       " '0405': (121.422883, 31.224276),\n",
       " '0406': (121.419507, 31.237991),\n",
       " '0407': (121.424183, 31.244839),\n",
       " '0408': (121.436805, 31.253),\n",
       " '0409': (121.447452, 31.261022),\n",
       " '0410': (121.46396, 31.255155),\n",
       " '0411': (121.483032, 31.257464),\n",
       " '0412': (121.495445, 31.264649),\n",
       " '0413': (121.507604, 31.26658),\n",
       " '0414': (121.519375, 31.26358),\n",
       " '0415': (121.523944, 31.257681),\n",
       " '0416': (121.526211, 31.246166),\n",
       " '0417': (121.532323, 31.235423),\n",
       " '0418': (121.536985, 31.227528),\n",
       " '0419': (121.534433, 31.217603),\n",
       " '0420': (121.52581, 31.215231),\n",
       " '0421': (121.506336, 31.214285),\n",
       " '0422': (121.496122, 31.207672),\n",
       " '0423': (121.480988, 31.20494),\n",
       " '0424': (121.470148, 31.200335),\n",
       " '0425': (121.461154, 31.197304),\n",
       " '0426': (121.450248, 31.19218),\n",
       " '0501': (121.391832, 31.116809),\n",
       " '0502': (121.392332, 31.103958),\n",
       " '0503': (121.396745, 31.095036),\n",
       " '0505': (121.408264, 31.072997),\n",
       " '0507': (121.416485, 31.051134),\n",
       " '0508': (121.42282, 31.032955),\n",
       " '0509': (121.426326, 31.024468),\n",
       " '0510': (121.416554, 31.017141),\n",
       " '0511': (121.401635, 31.013066),\n",
       " '0512': (121.387319, 31.009198),\n",
       " '0513': (121.376495, 31.006315),\n",
       " '0621': (121.487012, 31.159351),\n",
       " '0622': (121.50168, 31.154367),\n",
       " '0623': (121.512956, 31.154788),\n",
       " '0624': (121.521145, 31.15557),\n",
       " '0625': (121.52227, 31.165247),\n",
       " '0626': (121.517488, 31.17825),\n",
       " '0627': (121.516396, 31.191286),\n",
       " '0628': (121.52308, 31.198949),\n",
       " '0629': (121.52979, 31.209399),\n",
       " '0630': (121.534433, 31.217603),\n",
       " '0631': (121.536985, 31.227528),\n",
       " '0632': (121.532323, 31.235423),\n",
       " '0633': (121.540892, 31.239044),\n",
       " '0634': (121.549481, 31.241974),\n",
       " '0635': (121.559229, 31.245588),\n",
       " '0636': (121.57006, 31.251371),\n",
       " '0637': (121.579756, 31.256909),\n",
       " '0638': (121.588374, 31.263292),\n",
       " '0639': (121.593488, 31.270327),\n",
       " '0640': (121.59454, 31.278007),\n",
       " '0641': (121.594976, 31.286704),\n",
       " '0642': (121.595327, 31.296804),\n",
       " '0643': (121.595846, 31.308625),\n",
       " '0644': (121.595922, 31.318355),\n",
       " '0645': (121.608989, 31.327117),\n",
       " '0646': (121.600539, 31.341305),\n",
       " '0647': (121.593445, 31.353883),\n",
       " '0648': (121.581148, 31.359297),\n",
       " '0721': (121.356426, 31.407854),\n",
       " '0722': (121.364185, 31.394383),\n",
       " '0723': (121.362293, 31.370197),\n",
       " '0724': (121.368889, 31.363427),\n",
       " '0725': (121.379313, 31.350576),\n",
       " '0727': (121.395296, 31.326259),\n",
       " '0728': (121.405224, 31.327225),\n",
       " '0729': (121.414775, 31.321458),\n",
       " '0730': (121.420162, 31.309963),\n",
       " '0731': (121.422947, 31.29971),\n",
       " '0732': (121.428059, 31.291225),\n",
       " '0733': (121.429477, 31.280191),\n",
       " '0734': (121.429033, 31.270157),\n",
       " '0735': (121.428339, 31.262583),\n",
       " '0736': (121.436805, 31.253),\n",
       " '0737': (121.444739, 31.246256),\n",
       " '0738': (121.448574, 31.240781),\n",
       " '0739': (121.45378, 31.229694),\n",
       " '0740': (121.456628, 31.219964),\n",
       " '0741': (121.456463, 31.205392),\n",
       " '0742': (121.461154, 31.197304),\n",
       " '0743': (121.463379, 31.191311),\n",
       " '0744': (121.480035, 31.177884),\n",
       " '0745': (121.492522, 31.180277),\n",
       " '0746': (121.501124, 31.184085),\n",
       " '0747': (121.506916, 31.1874),\n",
       " '0748': (121.516396, 31.191286),\n",
       " '0749': (121.530936, 31.193539),\n",
       " '0750': (121.546398, 31.193767),\n",
       " '0751': (121.556478, 31.199531),\n",
       " '0752': (121.563888, 31.209599),\n",
       " '0753': (121.569074, 31.218236),\n",
       " '0820': (121.518803, 31.06706),\n",
       " '0821': (121.51713, 31.079655),\n",
       " '0822': (121.515133, 31.089988),\n",
       " '0823': (121.512891, 31.102197),\n",
       " '0824': (121.504377, 31.124907),\n",
       " '0825': (121.496279, 31.146696),\n",
       " '0826': (121.487012, 31.159351),\n",
       " '0827': (121.50029, 31.16671),\n",
       " '0828': (121.502631, 31.176999),\n",
       " '0829': (121.501124, 31.184085),\n",
       " '0830': (121.500749, 31.19134),\n",
       " '0831': (121.496122, 31.207672),\n",
       " '0832': (121.492716, 31.217413),\n",
       " '0833': (121.489485, 31.224674),\n",
       " '0834': (121.485885, 31.233127),\n",
       " '0835': (121.481738, 31.238695),\n",
       " '0836': (121.478026, 31.248251),\n",
       " '0837': (121.475411, 31.259035),\n",
       " '0838': (121.47525, 31.2694),\n",
       " '0839': (121.485948, 31.275811),\n",
       " '0840': (121.497039, 31.282122),\n",
       " '0841': (121.507823, 31.280577),\n",
       " '0842': (121.516066, 31.278923),\n",
       " '0843': (121.524804, 31.280818),\n",
       " '0844': (121.534441, 31.284573),\n",
       " '0845': (121.541374, 31.294899),\n",
       " '0846': (121.539677, 31.301934),\n",
       " '0847': (121.538481, 31.311023),\n",
       " '0848': (121.53857, 31.321523),\n",
       " '0849': (121.538527, 31.328516),\n",
       " '0918': (121.237677, 30.990955),\n",
       " '0919': (121.235829, 31.006987),\n",
       " '0920': (121.237126, 31.022049),\n",
       " '0921': (121.237244, 31.03603),\n",
       " '0922': (121.239238, 31.059984),\n",
       " '0923': (121.237014, 31.090393),\n",
       " '0924': (121.236257, 31.110609),\n",
       " '0925': (121.267259, 31.123976),\n",
       " '0926': (121.325378, 31.143844),\n",
       " '0927': (121.344742, 31.155955),\n",
       " '0928': (121.356047, 31.161397),\n",
       " '0929': (121.375571, 31.163862),\n",
       " '0930': (121.391169, 31.172226),\n",
       " '0931': (121.403837, 31.176123),\n",
       " '0932': (121.424997, 31.180998),\n",
       " '0933': (121.43409, 31.19119),\n",
       " '0934': (121.443046, 31.201727),\n",
       " '0935': (121.456221, 31.205776),\n",
       " '0936': (121.467219, 31.208945),\n",
       " '0937': (121.475402, 31.212073),\n",
       " '0938': (121.483036, 31.215011),\n",
       " '0939': (121.492716, 31.217413),\n",
       " '0940': (121.504895, 31.222656),\n",
       " '0941': (121.52289, 31.236125),\n",
       " '0942': (121.532323, 31.235423),\n",
       " '0943': (121.555022, 31.233791),\n",
       " '1018': (121.361249, 31.171619),\n",
       " '1019': (121.37097, 31.175533),\n",
       " '1020': (121.37699, 31.182886),\n",
       " '1041': (121.32795, 31.1991),\n",
       " '1042': (121.334373, 31.19958),\n",
       " '1043': (121.3539, 31.197476),\n",
       " '1044': (121.373597, 31.196049),\n",
       " '1045': (121.386467, 31.199878),\n",
       " '1046': (121.398444, 31.205074),\n",
       " '1047': (121.410671, 31.204634),\n",
       " '1048': (121.417552, 31.202784),\n",
       " '1049': (121.428754, 31.202859),\n",
       " '1050': (121.440554, 31.208208),\n",
       " '1051': (121.450434, 31.213992),\n",
       " '1052': (121.464494, 31.220991),\n",
       " '1053': (121.48116, 31.222033),\n",
       " '1054': (121.489485, 31.224674),\n",
       " '1055': (121.4939, 31.234005),\n",
       " '1056': (121.490893, 31.24483),\n",
       " '1057': (121.488739, 31.250301),\n",
       " '1058': (121.489997, 31.257185),\n",
       " '1059': (121.495112, 31.264919),\n",
       " '1060': (121.50058, 31.273946),\n",
       " '1061': (121.508339, 31.28089),\n",
       " '1062': (121.51305, 31.288214),\n",
       " '1063': (121.516743, 31.295352),\n",
       " '1064': (121.521091, 31.303618),\n",
       " '1065': (121.520633, 31.308746),\n",
       " '1066': (121.514701, 31.318613),\n",
       " '1067': (121.513177, 31.327743),\n",
       " '1068': (121.513188, 31.334451),\n",
       " '1114': (121.108972, 31.304981),\n",
       " '1115': (121.123995, 31.302118),\n",
       " '1116': (121.156828, 31.294652),\n",
       " '1117': (121.168602, 31.294335),\n",
       " '1118': (121.18725, 31.291581),\n",
       " '1119': (121.206771, 31.29994),\n",
       " '1120': (121.232625, 31.337944),\n",
       " '1131': (121.24401, 31.397409),\n",
       " '1132': (121.234426, 31.383195),\n",
       " '1133': (121.251801, 31.351371),\n",
       " '1134': (121.26104, 31.335744),\n",
       " '1135': (121.28343, 31.325402),\n",
       " '1137': (121.329748, 31.303357),\n",
       " '1138': (121.355937, 31.287647),\n",
       " '1139': (121.371318, 31.282825),\n",
       " '1140': (121.382499, 31.277205),\n",
       " '1141': (121.396412, 31.274596),\n",
       " '1142': (121.410075, 31.268278),\n",
       " '1143': (121.413834, 31.256497),\n",
       " '1144': (121.41754, 31.248068),\n",
       " '1145': (121.4241, 31.244107),\n",
       " '1146': (121.430091, 31.236727),\n",
       " '1147': (121.4371, 31.226732),\n",
       " '1148': (121.441394, 31.208906),\n",
       " '1149': (121.442314, 31.201202),\n",
       " '1150': (121.448026, 31.185365),\n",
       " '1151': (121.459229, 31.179259),\n",
       " '1152': (121.464914, 31.17265),\n",
       " '1153': (121.466, 31.166117),\n",
       " '1154': (121.487012, 31.159351),\n",
       " '1155': (121.517551, 31.148698),\n",
       " '1156': (121.529691, 31.152393),\n",
       " '1157': (121.54554, 31.157148),\n",
       " '1159': (121.577365, 31.164663),\n",
       " '1160': (121.599723, 31.159221),\n",
       " '1321': (121.326035, 31.247368),\n",
       " '1322': (121.34169, 31.2474),\n",
       " '1323': (121.362183, 31.248367),\n",
       " '1324': (121.374143, 31.243169),\n",
       " '1325': (121.388887, 31.237862),\n",
       " '1327': (121.418989, 31.237245),\n",
       " '1623': (121.599723, 31.159221)}"
      ]
     },
     "execution_count": 62,
     "metadata": {},
     "output_type": "execute_result"
    }
   ],
   "source": [
    "id_long_lat_map = {}\n",
    "for id_, long, lat in lo_la_pat.findall(long_lat[0]):\n",
    "    id_long_lat_map[id_] = (float(long), float(lat))\n",
    "id_long_lat_map"
   ]
  },
  {
   "cell_type": "code",
   "execution_count": 63,
   "metadata": {
    "collapsed": false
   },
   "outputs": [
    {
     "data": {
      "text/plain": [
       "(423, 313)"
      ]
     },
     "execution_count": 63,
     "metadata": {},
     "output_type": "execute_result"
    }
   ],
   "source": [
    "len(id_name_map), len(id_long_lat_map)"
   ]
  },
  {
   "cell_type": "code",
   "execution_count": 69,
   "metadata": {
    "collapsed": false
   },
   "outputs": [],
   "source": [
    "station_coordinates = defaultdict(tuple)\n",
    "for id_, name in id_name_map.items():\n",
    "    if id_ not in id_long_lat_map:\n",
    "        continue\n",
    "    station_coordinates[name + \"站\"] = id_long_lat_map[id_]"
   ]
  },
  {
   "cell_type": "code",
   "execution_count": 70,
   "metadata": {
    "collapsed": false
   },
   "outputs": [
    {
     "data": {
      "text/plain": [
       "defaultdict(tuple,\n",
       "            {'七宝站': (121.356047, 31.161397),\n",
       "             '三林东站': (121.529691, 31.152393),\n",
       "             '三林站': (121.517551, 31.148698),\n",
       "             '三门路站': (121.514701, 31.318613),\n",
       "             '上南路站': (121.512956, 31.154788),\n",
       "             '上大路站': (121.414775, 31.321458),\n",
       "             '上海体育场站': (121.450248, 31.19218),\n",
       "             '上海体育馆站': (121.443402, 31.188814),\n",
       "             '上海儿童医学中心站': (121.52979, 31.209399),\n",
       "             '上海动物园站': (121.373597, 31.196049),\n",
       "             '上海南站站': (121.43627, 31.161142),\n",
       "             '上海图书馆站': (121.450434, 31.213992),\n",
       "             '上海大学站': (121.395296, 31.326259),\n",
       "             '上海汽车城站': (121.18725, 31.291581),\n",
       "             '上海游泳馆站': (121.448026, 31.185365),\n",
       "             '上海火车站站': (121.464746, 31.255935),\n",
       "             '上海科技馆站': (121.550621, 31.225524),\n",
       "             '上海西站站': (121.410075, 31.268278),\n",
       "             '上海赛车场站': (121.232625, 31.337944),\n",
       "             '上海马戏城站': (121.458503, 31.285845),\n",
       "             '世纪公园站': (121.557067, 31.216069),\n",
       "             '世纪大道站': (121.532323, 31.235423),\n",
       "             '东安路站': (121.461154, 31.197304),\n",
       "             '东宝兴路站': (121.486639, 31.265746),\n",
       "             '东川路站': (121.426326, 31.024468),\n",
       "             '东方体育中心站': (121.487012, 31.159351),\n",
       "             '东昌路站': (121.521058, 31.239393),\n",
       "             '东明路站': (121.517488, 31.17825),\n",
       "             '东靖路站': (121.595327, 31.296804),\n",
       "             '中兴路站': (121.475411, 31.259035),\n",
       "             '中华艺术宫站': (121.500749, 31.19134),\n",
       "             '中山公园站': (121.422883, 31.224276),\n",
       "             '中山北路站': (121.465616, 31.265275),\n",
       "             '中春路站': (121.344742, 31.155955),\n",
       "             '中潭路站': (121.447452, 31.261022),\n",
       "             '丰庄站': (121.362183, 31.248367),\n",
       "             '临平路站': (121.507604, 31.26658),\n",
       "             '临沂新村站': (121.52308, 31.198949),\n",
       "             '九亭站': (121.325378, 31.143844),\n",
       "             '云台路站': (121.506916, 31.1874),\n",
       "             '云山路站': (121.579756, 31.256909),\n",
       "             '云锦路站': (121.464914, 31.17265),\n",
       "             '五洲大道站': (121.595846, 31.308625),\n",
       "             '五莲路站': (121.59454, 31.278007),\n",
       "             '五角场站': (121.521091, 31.303618),\n",
       "             '交通大学站': (121.441394, 31.208906),\n",
       "             '人民广场站': (121.480166, 31.239445),\n",
       "             '伊犁路站': (121.410671, 31.204634),\n",
       "             '佘山站': (121.236257, 31.110609),\n",
       "             '兆丰路站': (121.156828, 31.294652),\n",
       "             '光明路站': (121.123995, 31.302118),\n",
       "             '共富新村站': (121.440458, 31.361557),\n",
       "             '共康路站': (121.453464, 31.325355),\n",
       "             '凌兆新村站': (121.496279, 31.146696),\n",
       "             '凌空路站': (121.728838, 31.198286),\n",
       "             '刘行站': (121.368889, 31.363427),\n",
       "             '创新中路站': (121.680961, 31.219405),\n",
       "             '剑川路站': (121.42282, 31.032955),\n",
       "             '北新泾站': (121.380478, 31.222334),\n",
       "             '北桥站': (121.416485, 31.051134),\n",
       "             '北洋泾路站': (121.559229, 31.245588),\n",
       "             '华夏东路站': (121.687295, 31.203168),\n",
       "             '华夏西路站': (121.521145, 31.15557),\n",
       "             '华宁路站': (121.401635, 31.013066),\n",
       "             '南京东路站': (121.490265, 31.243034),\n",
       "             '南京西路站': (121.46678, 31.23614),\n",
       "             '南浦大桥站': (121.506336, 31.214285),\n",
       "             '南翔站': (121.329748, 31.303357),\n",
       "             '南陈路站': (121.405224, 31.327225),\n",
       "             '博兴路站': (121.593488, 31.270327),\n",
       "             '友谊西路站': (121.434336, 31.38774),\n",
       "             '友谊路站': (121.48254, 31.40993),\n",
       "             '合川路站': (121.391169, 31.172226),\n",
       "             '同济大学站': (121.51305, 31.288214),\n",
       "             '后滩站': (121.480035, 31.177884),\n",
       "             '呼兰路站': (121.444185, 31.345991),\n",
       "             '唐镇站': (121.662625, 31.219828),\n",
       "             '商城路站': (121.52289, 31.236125),\n",
       "             '嘉善路站': (121.467219, 31.208945),\n",
       "             '嘉定北站': (121.24401, 31.397409),\n",
       "             '嘉定新城站': (121.26104, 31.335744),\n",
       "             '嘉定西站': (121.234426, 31.383195),\n",
       "             '四川北路站': (121.489997, 31.257185),\n",
       "             '四平路站': (121.508339, 31.28089),\n",
       "             '国权路站': (121.516743, 31.295352),\n",
       "             '场中路站': (121.420162, 31.309963),\n",
       "             '塘桥站': (121.52581, 31.215231),\n",
       "             '外环路站': (121.399814, 31.126929),\n",
       "             '外高桥保税区北站站': (121.593445, 31.353883),\n",
       "             '外高桥保税区南站站': (121.608989, 31.327117),\n",
       "             '大世界站': (121.485885, 31.233127),\n",
       "             '大华三路站': (121.429477, 31.280191),\n",
       "             '大场镇站': (121.422947, 31.29971),\n",
       "             '大木桥路站': (121.470148, 31.200335),\n",
       "             '大柏树站': (121.489614, 31.295096),\n",
       "             '大连路站': (121.519375, 31.26358),\n",
       "             '天潼路站': (121.488739, 31.250301),\n",
       "             '威宁路站': (121.393671, 31.220485),\n",
       "             '娄山关路站': (121.410818, 31.216959),\n",
       "             '嫩江路站': (121.53857, 31.321523),\n",
       "             '安亭站': (121.168602, 31.294335),\n",
       "             '宋园路站': (121.417552, 31.202784),\n",
       "             '宜山路站': (121.433798, 31.192584),\n",
       "             '宝安公路站': (121.437357, 31.376207),\n",
       "             '宝山路站': (121.483032, 31.257464),\n",
       "             '宝杨路站': (121.486126, 31.401287),\n",
       "             '富锦路站': (121.43103, 31.398683),\n",
       "             '小南门站': (121.504895, 31.222656),\n",
       "             '岚皋路站': (121.428339, 31.262583),\n",
       "             '川沙站': (121.704572, 31.192896),\n",
       "             '巨峰路站': (121.594976, 31.286704),\n",
       "             '市光路站': (121.538527, 31.328516),\n",
       "             '常熟路站': (121.457719, 31.219937),\n",
       "             '广兰路站': (121.627183, 31.216662),\n",
       "             '延吉中路站': (121.541374, 31.294899),\n",
       "             '延安西路站': (121.423584, 31.215865),\n",
       "             '延长路站': (121.461893, 31.27806),\n",
       "             '张华浜站': (121.505406, 31.363662),\n",
       "             '张江高科站': (121.594061, 31.207879),\n",
       "             '彭浦新村站': (121.455097, 31.312943),\n",
       "             '徐家汇站': (121.444749, 31.199152),\n",
       "             '徐泾东站': (121.307524, 31.195431),\n",
       "             '御桥站': (121.577365, 31.164663),\n",
       "             '德平路站': (121.57006, 31.251371),\n",
       "             '成山路站': (121.502631, 31.176999),\n",
       "             '打浦桥站': (121.475402, 31.212073),\n",
       "             '文井路站': (121.387319, 31.009198),\n",
       "             '新天地站': (121.48116, 31.222033),\n",
       "             '新村路站': (121.429033, 31.270157),\n",
       "             '新江湾城站': (121.513188, 31.334451),\n",
       "             '新闸路站': (121.474802, 31.244699),\n",
       "             '昌吉东路站': (121.206771, 31.29994),\n",
       "             '昌平路站': (121.448574, 31.240781),\n",
       "             '星中路站': (121.375571, 31.163862),\n",
       "             '春申路站': (121.392332, 31.103958),\n",
       "             '曲阜路站': (121.478026, 31.248251),\n",
       "             '曲阳路站': (121.497039, 31.282122),\n",
       "             '曹杨路站': (121.424183, 31.244839),\n",
       "             '李子园站': (121.396412, 31.274596),\n",
       "             '杨思站': (121.50029, 31.16671),\n",
       "             '杨树浦路站': (121.523944, 31.257681),\n",
       "             '杨高中路站': (121.555022, 31.233791),\n",
       "             '杨高南路站': (121.530936, 31.193539),\n",
       "             '松江体育中心站': (121.237126, 31.022049),\n",
       "             '松江南站站': (121.237677, 30.990955),\n",
       "             '松江大学城站': (121.239238, 31.059984),\n",
       "             '松江新城站': (121.237244, 31.03603),\n",
       "             '枫桥路站': (121.41754, 31.248068),\n",
       "             '桂林路站': (121.424997, 31.180998),\n",
       "             '桃浦新村站': (121.355937, 31.287647),\n",
       "             '武威路站': (121.371318, 31.282825),\n",
       "             '殷高东路站': (121.513177, 31.327743),\n",
       "             '殷高西路站': (121.491579, 31.325399),\n",
       "             '民生路站': (121.549481, 31.241974),\n",
       "             '水产路站': (121.494571, 31.387466),\n",
       "             '水城路站': (121.398444, 31.205074),\n",
       "             '汉中路站': (121.465, 31.247808),\n",
       "             '江月路站': (121.515133, 31.089988),\n",
       "             '江杨北路站': (121.446217, 31.414218),\n",
       "             '江浦路站': (121.524804, 31.280818),\n",
       "             '江湾体育场站': (121.520633, 31.308746),\n",
       "             '江湾镇站': (121.491552, 31.311026),\n",
       "             '江苏路站': (121.4371, 31.226732),\n",
       "             '汶水路站': (121.456458, 31.29917),\n",
       "             '沈杜公路站': (121.518803, 31.06706),\n",
       "             '泗泾站': (121.267259, 31.123976),\n",
       "             '洞泾站': (121.237014, 31.090393),\n",
       "             '洲海路站': (121.595922, 31.318355),\n",
       "             '浦三路站': (121.54554, 31.157148),\n",
       "             '浦东国际机场站': (121.813395, 31.155029),\n",
       "             '浦东大道站': (121.526211, 31.246166),\n",
       "             '浦江镇站': (121.512891, 31.102197),\n",
       "             '浦电路站': (121.536985, 31.227528),\n",
       "             '海伦路站': (121.495112, 31.264919),\n",
       "             '海天三路站': (121.803326, 31.175116),\n",
       "             '淞发路站': (121.50714, 31.350804),\n",
       "             '淞滨路站': (121.49951, 31.376604),\n",
       "             '淞虹路站': (121.365797, 31.223998),\n",
       "             '港城路站': (121.581148, 31.359297),\n",
       "             '源深体育中心站': (121.540892, 31.239044),\n",
       "             '漕宝路站': (121.44187, 31.175383),\n",
       "             '漕河泾开发区站': (121.403837, 31.176123),\n",
       "             '漕溪路站': (121.444739, 31.182978),\n",
       "             '潘广路站': (121.362293, 31.370197),\n",
       "             '灵岩南路站': (121.50168, 31.154367),\n",
       "             '白银路站': (121.251801, 31.351371),\n",
       "             '真北路站': (121.388887, 31.237862),\n",
       "             '真如站': (121.413834, 31.256497),\n",
       "             '石龙路站': (121.44963, 31.164304),\n",
       "             '祁连山南路站': (121.374143, 31.243169),\n",
       "             '祁连山路站': (121.382499, 31.277205),\n",
       "             '紫藤路站': (121.37097, 31.175533),\n",
       "             '罗南新村站': (121.364185, 31.394383),\n",
       "             '罗山路站': (121.599723, 31.159221),\n",
       "             '翔殷路站': (121.538481, 31.311023),\n",
       "             '耀华路站': (121.501124, 31.184085),\n",
       "             '老西门站': (121.489485, 31.224674),\n",
       "             '联航路站': (121.51713, 31.079655),\n",
       "             '肇嘉浜路站': (121.456463, 31.205392),\n",
       "             '航中路站': (121.361249, 31.171619),\n",
       "             '航津路站': (121.600539, 31.341305),\n",
       "             '芦恒路站': (121.504377, 31.124907),\n",
       "             '花木路站': (121.569074, 31.218236),\n",
       "             '花桥站': (121.108972, 31.304981),\n",
       "             '芳华路站': (121.556478, 31.199531),\n",
       "             '莘庄站': (121.391832, 31.116809),\n",
       "             '莲花路站': (121.409334, 31.136734),\n",
       "             '蓝村路站': (121.534433, 31.217603),\n",
       "             '虹口足球场站': (121.485948, 31.275811),\n",
       "             '虹桥1号航站楼站': (121.3539, 31.197476),\n",
       "             '虹桥2号航站楼站': (121.334373, 31.19958),\n",
       "             '虹桥火车站站': (121.32795, 31.1991),\n",
       "             '虹桥路站': (121.428754, 31.202859),\n",
       "             '行知路站': (121.428059, 31.291225),\n",
       "             '衡山路站': (121.453247, 31.211777),\n",
       "             '西藏北路站': (121.47525, 31.2694),\n",
       "             '西藏南路站': (121.496122, 31.207672),\n",
       "             '豫园站': (121.4939, 31.234005),\n",
       "             '赤峰路站': (121.48899, 31.287038),\n",
       "             '远东大道站': (121.76216, 31.205201),\n",
       "             '通河新村站': (121.447817, 31.337798),\n",
       "             '邮电新村站': (121.50058, 31.273946),\n",
       "             '醉白池站': (121.235829, 31.006987),\n",
       "             '金平路站': (121.416554, 31.017141),\n",
       "             '金桥路站': (121.588374, 31.263292),\n",
       "             '金沙江西路站': (121.34169, 31.2474),\n",
       "             '金沙江路站': (121.419507, 31.237991),\n",
       "             '金科路站': (121.608797, 31.209985),\n",
       "             '金运路站': (121.326035, 31.247368),\n",
       "             '铁力路站': (121.46856, 31.414137),\n",
       "             '银都路站': (121.396745, 31.095036),\n",
       "             '锦江乐园站': (121.42068, 31.148312),\n",
       "             '锦绣路站': (121.546398, 31.193767),\n",
       "             '镇坪路站': (121.436805, 31.253),\n",
       "             '长寿路站': (121.444739, 31.246256),\n",
       "             '长江南路站': (121.498185, 31.337669),\n",
       "             '长清路站': (121.492522, 31.180277),\n",
       "             '闵行开发区站': (121.376495, 31.006315),\n",
       "             '陆家嘴站': (121.509075, 31.243319),\n",
       "             '陆家浜路站': (121.492716, 31.217413),\n",
       "             '陕西南路站': (121.466688, 31.223492),\n",
       "             '隆德路站': (121.430091, 31.236727),\n",
       "             '静安寺站': (121.45378, 31.229694),\n",
       "             '鞍山新村站': (121.516066, 31.278923),\n",
       "             '顾村公园站': (121.379313, 31.350576),\n",
       "             '颛桥站': (121.408264, 31.072997),\n",
       "             '马当路站': (121.483036, 31.215011),\n",
       "             '马陆站': (121.28343, 31.325402),\n",
       "             '高科西路站': (121.516396, 31.191286),\n",
       "             '高青路站': (121.52227, 31.165247),\n",
       "             '鲁班路站': (121.480988, 31.20494),\n",
       "             '黄兴公园站': (121.539677, 31.301934),\n",
       "             '黄兴路站': (121.534441, 31.284573),\n",
       "             '黄陂南路站': (121.479798, 31.228753),\n",
       "             '龙华中路站': (121.463379, 31.191311),\n",
       "             '龙华站': (121.459229, 31.179259),\n",
       "             '龙柏新村站': (121.37699, 31.182886),\n",
       "             '龙溪路站': (121.386467, 31.199878),\n",
       "             '龙漕路站': (121.450802, 31.175724),\n",
       "             '龙耀路站': (121.466, 31.166117),\n",
       "             '龙阳路站': (121.563888, 31.209599)})"
      ]
     },
     "execution_count": 70,
     "metadata": {},
     "output_type": "execute_result"
    }
   ],
   "source": [
    "station_coordinates"
   ]
  },
  {
   "cell_type": "code",
   "execution_count": 67,
   "metadata": {
    "collapsed": true
   },
   "outputs": [],
   "source": [
    "# 舍弃没有经纬度的站\n",
    "# defaultdict类的初始化函数接受一个类型作为参数，当所访问的键不存在的时候，可以实例化一个值作为默认值。这里是空list\n",
    "station_connection_info = defaultdict(list)\n",
    "station_line_map = defaultdict(list)\n",
    "for line, stations in all_stations.items():\n",
    "    for i in range(len(stations)):\n",
    "        station_line_map[stations[i]].append(line)\n",
    "        if stations[i] not in station_coordinates:\n",
    "            continue\n",
    "        if i > 0 and stations[i - 1] in station_coordinates:\n",
    "            station_connection_info[stations[i]].append(stations[i - 1])\n",
    "        if i < len(stations) - 1 and stations[i + 1] in station_coordinates:\n",
    "            station_connection_info[stations[i]].append(stations[i + 1])            "
   ]
  },
  {
   "cell_type": "code",
   "execution_count": 68,
   "metadata": {
    "collapsed": false
   },
   "outputs": [
    {
     "data": {
      "text/plain": [
       "defaultdict(list,\n",
       "            {'七宝站': ['星中路站', '中春路站'],\n",
       "             '三林东站': ['三林站', '浦三路站'],\n",
       "             '三林站': ['东方体育中心站', '三林东站'],\n",
       "             '三门路站': ['江湾体育场站', '殷高东路站'],\n",
       "             '上南路站': ['灵岩南路站', '华夏西路站'],\n",
       "             '上大路站': ['南陈路站', '场中路站'],\n",
       "             '上海体育场站': ['上海体育馆站', '东安路站'],\n",
       "             '上海体育馆站': ['漕宝路站', '徐家汇站', '宜山路站', '上海体育场站'],\n",
       "             '上海儿童医学中心站': ['临沂新村站', '蓝村路站'],\n",
       "             '上海动物园站': ['虹桥1号航站楼站', '龙溪路站'],\n",
       "             '上海南站站': ['锦江乐园站', '漕宝路站', '石龙路站'],\n",
       "             '上海图书馆站': ['交通大学站', '陕西南路站'],\n",
       "             '上海大学站': ['南陈路站'],\n",
       "             '上海汽车城站': ['安亭站', '昌吉东路站'],\n",
       "             '上海游泳馆站': ['徐家汇站', '龙华站'],\n",
       "             '上海火车站站': ['汉中路站', '中山北路站', '中潭路站', '宝山路站', '宝山路站', '中潭路站'],\n",
       "             '上海科技馆站': ['世纪公园站', '世纪大道站'],\n",
       "             '上海西站站': ['李子园站', '真如站'],\n",
       "             '上海赛车场站': ['昌吉东路站', '嘉定新城站'],\n",
       "             '上海马戏城站': ['延长路站', '汶水路站'],\n",
       "             '世纪公园站': ['龙阳路站', '上海科技馆站'],\n",
       "             '世纪大道站': ['浦电路站',\n",
       "              '源深体育中心站',\n",
       "              '杨高中路站',\n",
       "              '商城路站',\n",
       "              '上海科技馆站',\n",
       "              '东昌路站',\n",
       "              '浦电路站',\n",
       "              '浦东大道站'],\n",
       "             '东安路站': ['肇嘉浜路站', '龙华中路站', '上海体育场站', '大木桥路站'],\n",
       "             '东宝兴路站': ['宝山路站', '虹口足球场站'],\n",
       "             '东川路站': ['剑川路站'],\n",
       "             '东方体育中心站': ['灵岩南路站', '凌兆新村站', '杨思站', '龙耀路站', '三林站'],\n",
       "             '东昌路站': ['世纪大道站', '陆家嘴站'],\n",
       "             '东明路站': ['高青路站', '高科西路站', '成山路站'],\n",
       "             '东靖路站': ['巨峰路站', '五洲大道站'],\n",
       "             '中兴路站': ['曲阜路站', '西藏北路站'],\n",
       "             '中华艺术宫站': ['耀华路站', '西藏南路站'],\n",
       "             '中山公园站': ['江苏路站', '娄山关路站', '延安西路站', '金沙江路站', '金沙江路站', '延安西路站'],\n",
       "             '中山北路站': ['上海火车站站', '延长路站'],\n",
       "             '中春路站': ['七宝站', '九亭站'],\n",
       "             '中潭路站': ['镇坪路站', '上海火车站站', '上海火车站站', '镇坪路站'],\n",
       "             '丰庄站': ['金沙江西路站', '祁连山南路站'],\n",
       "             '临平路站': ['大连路站', '海伦路站'],\n",
       "             '临沂新村站': ['高科西路站', '上海儿童医学中心站'],\n",
       "             '九亭站': ['中春路站', '泗泾站'],\n",
       "             '云台路站': ['耀华路站', '高科西路站'],\n",
       "             '云山路站': ['德平路站', '金桥路站'],\n",
       "             '云锦路站': ['龙华站', '龙耀路站'],\n",
       "             '五洲大道站': ['东靖路站', '洲海路站'],\n",
       "             '五莲路站': ['博兴路站', '巨峰路站'],\n",
       "             '五角场站': ['国权路站', '江湾体育场站'],\n",
       "             '交通大学站': ['虹桥路站', '上海图书馆站', '江苏路站', '徐家汇站'],\n",
       "             '人民广场站': ['黄陂南路站', '新闸路站', '南京东路站', '南京西路站', '大世界站', '曲阜路站'],\n",
       "             '伊犁路站': ['水城路站', '宋园路站'],\n",
       "             '佘山站': ['泗泾站', '洞泾站'],\n",
       "             '兆丰路站': ['光明路站', '安亭站'],\n",
       "             '光明路站': ['花桥站', '兆丰路站'],\n",
       "             '共富新村站': ['呼兰路站', '宝安公路站'],\n",
       "             '共康路站': ['彭浦新村站', '通河新村站'],\n",
       "             '凌兆新村站': ['芦恒路站', '东方体育中心站'],\n",
       "             '凌空路站': ['远东大道站', '川沙站'],\n",
       "             '刘行站': ['潘广路站', '顾村公园站'],\n",
       "             '创新中路站': ['华夏东路站', '唐镇站'],\n",
       "             '剑川路站': ['北桥站', '东川路站'],\n",
       "             '北新泾站': ['威宁路站', '淞虹路站'],\n",
       "             '北桥站': ['颛桥站', '剑川路站'],\n",
       "             '北洋泾路站': ['民生路站', '德平路站'],\n",
       "             '华夏东路站': ['川沙站', '创新中路站'],\n",
       "             '华夏西路站': ['上南路站', '高青路站'],\n",
       "             '华宁路站': ['金平路站', '文井路站'],\n",
       "             '南京东路站': ['豫园站', '天潼路站', '陆家嘴站', '人民广场站'],\n",
       "             '南京西路站': ['人民广场站', '静安寺站', '陕西南路站', '汉中路站'],\n",
       "             '南浦大桥站': ['西藏南路站', '塘桥站'],\n",
       "             '南翔站': ['桃浦新村站'],\n",
       "             '南陈路站': ['上海大学站', '上大路站'],\n",
       "             '博兴路站': ['金桥路站', '五莲路站'],\n",
       "             '友谊西路站': ['宝安公路站', '富锦路站'],\n",
       "             '友谊路站': ['宝杨路站', '铁力路站'],\n",
       "             '合川路站': ['漕河泾开发区站', '星中路站'],\n",
       "             '同济大学站': ['四平路站', '国权路站'],\n",
       "             '后滩站': ['龙华中路站', '长清路站'],\n",
       "             '呼兰路站': ['通河新村站', '共富新村站'],\n",
       "             '唐镇站': ['创新中路站', '广兰路站'],\n",
       "             '商城路站': ['世纪大道站', '小南门站'],\n",
       "             '嘉善路站': ['打浦桥站', '肇嘉浜路站', '大木桥路站', '陕西南路站'],\n",
       "             '嘉定北站': ['嘉定西站'],\n",
       "             '嘉定新城站': ['上海赛车场站', '白银路站', '马陆站'],\n",
       "             '嘉定西站': ['嘉定北站', '白银路站'],\n",
       "             '四川北路站': ['天潼路站', '海伦路站'],\n",
       "             '四平路站': ['邮电新村站', '同济大学站', '曲阳路站', '鞍山新村站'],\n",
       "             '国权路站': ['同济大学站', '五角场站'],\n",
       "             '场中路站': ['上大路站', '大场镇站'],\n",
       "             '塘桥站': ['南浦大桥站', '蓝村路站'],\n",
       "             '外环路站': ['莘庄站', '莲花路站'],\n",
       "             '大世界站': ['老西门站', '人民广场站'],\n",
       "             '大华三路站': ['行知路站', '新村路站'],\n",
       "             '大场镇站': ['场中路站', '行知路站'],\n",
       "             '大木桥路站': ['龙华中路站', '嘉善路站', '东安路站', '鲁班路站'],\n",
       "             '大柏树站': ['赤峰路站', '江湾镇站'],\n",
       "             '大连路站': ['杨树浦路站', '临平路站'],\n",
       "             '天潼路站': ['南京东路站', '四川北路站', '曲阜路站'],\n",
       "             '威宁路站': ['娄山关路站', '北新泾站'],\n",
       "             '娄山关路站': ['中山公园站', '威宁路站'],\n",
       "             '嫩江路站': ['翔殷路站', '市光路站'],\n",
       "             '安亭站': ['兆丰路站', '上海汽车城站'],\n",
       "             '宋园路站': ['伊犁路站', '虹桥路站'],\n",
       "             '宜山路站': ['徐家汇站', '桂林路站', '漕溪路站', '虹桥路站', '上海体育馆站', '虹桥路站'],\n",
       "             '宝安公路站': ['共富新村站', '友谊西路站'],\n",
       "             '宝山路站': ['上海火车站站', '东宝兴路站', '海伦路站', '上海火车站站'],\n",
       "             '宝杨路站': ['水产路站', '友谊路站'],\n",
       "             '富锦路站': ['友谊西路站'],\n",
       "             '小南门站': ['商城路站', '陆家浜路站'],\n",
       "             '岚皋路站': ['新村路站', '镇坪路站'],\n",
       "             '川沙站': ['凌空路站', '华夏东路站'],\n",
       "             '巨峰路站': ['五莲路站', '东靖路站'],\n",
       "             '市光路站': ['嫩江路站'],\n",
       "             '常熟路站': ['衡山路站', '陕西南路站', '静安寺站', '肇嘉浜路站'],\n",
       "             '广兰路站': ['唐镇站', '金科路站'],\n",
       "             '延吉中路站': ['黄兴路站', '黄兴公园站'],\n",
       "             '延安西路站': ['虹桥路站', '中山公园站', '中山公园站', '虹桥路站'],\n",
       "             '延长路站': ['中山北路站', '上海马戏城站'],\n",
       "             '张华浜站': ['淞发路站', '淞滨路站'],\n",
       "             '张江高科站': ['金科路站', '龙阳路站'],\n",
       "             '彭浦新村站': ['汶水路站', '共康路站'],\n",
       "             '徐家汇站': ['上海体育馆站', '衡山路站', '肇嘉浜路站', '宜山路站', '交通大学站', '上海游泳馆站'],\n",
       "             '徐泾东站': ['虹桥火车站站'],\n",
       "             '御桥站': ['浦三路站', '罗山路站'],\n",
       "             '德平路站': ['北洋泾路站', '云山路站'],\n",
       "             '成山路站': ['长清路站', '东明路站', '杨思站', '耀华路站'],\n",
       "             '打浦桥站': ['马当路站', '嘉善路站'],\n",
       "             '文井路站': ['华宁路站', '闵行开发区站'],\n",
       "             '新天地站': ['陕西南路站', '老西门站', '马当路站'],\n",
       "             '新村路站': ['大华三路站', '岚皋路站'],\n",
       "             '新江湾城站': ['殷高东路站'],\n",
       "             '新闸路站': ['人民广场站', '汉中路站'],\n",
       "             '昌吉东路站': ['上海汽车城站', '上海赛车场站'],\n",
       "             '昌平路站': ['长寿路站', '静安寺站'],\n",
       "             '星中路站': ['合川路站', '七宝站'],\n",
       "             '春申路站': ['莘庄站', '银都路站'],\n",
       "             '曲阜路站': ['人民广场站', '中兴路站', '汉中路站', '天潼路站'],\n",
       "             '曲阳路站': ['虹口足球场站', '四平路站'],\n",
       "             '曹杨路站': ['金沙江路站', '镇坪路站', '镇坪路站', '金沙江路站', '枫桥路站', '隆德路站'],\n",
       "             '李子园站': ['祁连山路站', '上海西站站'],\n",
       "             '杨思站': ['东方体育中心站', '成山路站'],\n",
       "             '杨树浦路站': ['浦东大道站', '大连路站'],\n",
       "             '杨高中路站': ['世纪大道站'],\n",
       "             '杨高南路站': ['高科西路站', '锦绣路站'],\n",
       "             '松江体育中心站': ['松江新城站', '醉白池站'],\n",
       "             '松江南站站': ['醉白池站'],\n",
       "             '松江大学城站': ['洞泾站', '松江新城站'],\n",
       "             '松江新城站': ['松江大学城站', '松江体育中心站'],\n",
       "             '枫桥路站': ['真如站', '曹杨路站'],\n",
       "             '桂林路站': ['宜山路站', '漕河泾开发区站'],\n",
       "             '桃浦新村站': ['南翔站', '武威路站'],\n",
       "             '武威路站': ['桃浦新村站', '祁连山路站'],\n",
       "             '殷高东路站': ['三门路站', '新江湾城站'],\n",
       "             '殷高西路站': ['江湾镇站', '长江南路站'],\n",
       "             '民生路站': ['源深体育中心站', '北洋泾路站'],\n",
       "             '水产路站': ['淞滨路站', '宝杨路站'],\n",
       "             '水城路站': ['龙溪路站', '伊犁路站'],\n",
       "             '汉中路站': ['新闸路站', '上海火车站站', '南京西路站', '曲阜路站'],\n",
       "             '江月路站': ['联航路站', '浦江镇站'],\n",
       "             '江杨北路站': ['铁力路站'],\n",
       "             '江浦路站': ['鞍山新村站', '黄兴路站'],\n",
       "             '江湾体育场站': ['五角场站', '三门路站'],\n",
       "             '江湾镇站': ['大柏树站', '殷高西路站'],\n",
       "             '江苏路站': ['静安寺站', '中山公园站', '隆德路站', '交通大学站'],\n",
       "             '汶水路站': ['上海马戏城站', '彭浦新村站'],\n",
       "             '沈杜公路站': ['联航路站'],\n",
       "             '泗泾站': ['九亭站', '佘山站'],\n",
       "             '洞泾站': ['佘山站', '松江大学城站'],\n",
       "             '洲海路站': ['五洲大道站'],\n",
       "             '浦三路站': ['三林东站', '御桥站'],\n",
       "             '浦东国际机场站': ['海天三路站', '龙阳路站'],\n",
       "             '浦东大道站': ['世纪大道站', '杨树浦路站'],\n",
       "             '浦江镇站': ['江月路站', '芦恒路站'],\n",
       "             '浦电路站': ['蓝村路站', '世纪大道站', '蓝村路站', '世纪大道站'],\n",
       "             '海伦路站': ['四川北路站', '邮电新村站', '临平路站', '宝山路站'],\n",
       "             '海天三路站': ['浦东国际机场站', '远东大道站'],\n",
       "             '淞发路站': ['长江南路站', '张华浜站'],\n",
       "             '淞滨路站': ['张华浜站', '水产路站'],\n",
       "             '淞虹路站': ['北新泾站', '虹桥2号航站楼站'],\n",
       "             '源深体育中心站': ['世纪大道站', '民生路站'],\n",
       "             '漕宝路站': ['上海南站站', '上海体育馆站', '龙漕路站'],\n",
       "             '漕河泾开发区站': ['桂林路站', '合川路站'],\n",
       "             '漕溪路站': ['龙漕路站', '宜山路站'],\n",
       "             '潘广路站': ['罗南新村站', '刘行站'],\n",
       "             '灵岩南路站': ['东方体育中心站', '上南路站'],\n",
       "             '白银路站': ['嘉定西站', '嘉定新城站'],\n",
       "             '真北路站': ['祁连山南路站'],\n",
       "             '真如站': ['上海西站站', '枫桥路站'],\n",
       "             '石龙路站': ['上海南站站', '龙漕路站'],\n",
       "             '祁连山南路站': ['丰庄站', '真北路站'],\n",
       "             '祁连山路站': ['武威路站', '李子园站'],\n",
       "             '紫藤路站': ['航中路站', '龙柏新村站'],\n",
       "             '罗南新村站': ['潘广路站'],\n",
       "             '罗山路站': ['御桥站'],\n",
       "             '翔殷路站': ['黄兴公园站', '嫩江路站'],\n",
       "             '耀华路站': ['长清路站', '云台路站', '成山路站', '中华艺术宫站'],\n",
       "             '老西门站': ['新天地站', '豫园站', '陆家浜路站', '大世界站'],\n",
       "             '联航路站': ['沈杜公路站', '江月路站'],\n",
       "             '肇嘉浜路站': ['嘉善路站', '徐家汇站', '常熟路站', '东安路站'],\n",
       "             '航中路站': ['紫藤路站'],\n",
       "             '芦恒路站': ['浦江镇站', '凌兆新村站'],\n",
       "             '花木路站': ['龙阳路站'],\n",
       "             '花桥站': ['光明路站'],\n",
       "             '芳华路站': ['锦绣路站', '龙阳路站'],\n",
       "             '莘庄站': ['外环路站', '春申路站'],\n",
       "             '莲花路站': ['外环路站', '锦江乐园站'],\n",
       "             '蓝村路站': ['上海儿童医学中心站', '浦电路站', '塘桥站', '浦电路站'],\n",
       "             '虹口足球场站': ['西藏北路站', '曲阳路站', '东宝兴路站', '赤峰路站'],\n",
       "             '虹桥1号航站楼站': ['虹桥2号航站楼站', '上海动物园站'],\n",
       "             '虹桥2号航站楼站': ['虹桥火车站站', '虹桥1号航站楼站', '淞虹路站', '虹桥火车站站'],\n",
       "             '虹桥火车站站': ['虹桥2号航站楼站', '虹桥2号航站楼站', '徐泾东站'],\n",
       "             '虹桥路站': ['宋园路站', '交通大学站', '宜山路站', '延安西路站', '延安西路站', '宜山路站'],\n",
       "             '行知路站': ['大场镇站', '大华三路站'],\n",
       "             '衡山路站': ['徐家汇站', '常熟路站'],\n",
       "             '西藏北路站': ['中兴路站', '虹口足球场站'],\n",
       "             '西藏南路站': ['中华艺术宫站', '陆家浜路站', '鲁班路站', '南浦大桥站'],\n",
       "             '豫园站': ['老西门站', '南京东路站'],\n",
       "             '赤峰路站': ['虹口足球场站', '大柏树站'],\n",
       "             '远东大道站': ['海天三路站', '凌空路站'],\n",
       "             '通河新村站': ['共康路站', '呼兰路站'],\n",
       "             '邮电新村站': ['海伦路站', '四平路站'],\n",
       "             '醉白池站': ['松江体育中心站', '松江南站站'],\n",
       "             '金平路站': ['华宁路站'],\n",
       "             '金桥路站': ['云山路站', '博兴路站'],\n",
       "             '金沙江西路站': ['金运路站', '丰庄站'],\n",
       "             '金沙江路站': ['隆德路站', '中山公园站', '曹杨路站', '曹杨路站', '中山公园站'],\n",
       "             '金科路站': ['广兰路站', '张江高科站'],\n",
       "             '金运路站': ['金沙江西路站'],\n",
       "             '铁力路站': ['友谊路站', '江杨北路站'],\n",
       "             '银都路站': ['春申路站', '颛桥站'],\n",
       "             '锦江乐园站': ['莲花路站', '上海南站站'],\n",
       "             '锦绣路站': ['杨高南路站', '芳华路站'],\n",
       "             '镇坪路站': ['岚皋路站', '长寿路站', '曹杨路站', '中潭路站', '中潭路站', '曹杨路站'],\n",
       "             '长寿路站': ['镇坪路站', '昌平路站'],\n",
       "             '长江南路站': ['殷高西路站', '淞发路站'],\n",
       "             '长清路站': ['后滩站', '耀华路站', '成山路站'],\n",
       "             '闵行开发区站': ['文井路站'],\n",
       "             '陆家嘴站': ['东昌路站', '南京东路站'],\n",
       "             '陆家浜路站': ['小南门站', '马当路站', '西藏南路站', '老西门站'],\n",
       "             '陕西南路站': ['常熟路站', '黄陂南路站', '上海图书馆站', '新天地站', '嘉善路站', '南京西路站'],\n",
       "             '隆德路站': ['金沙江路站', '曹杨路站', '江苏路站'],\n",
       "             '静安寺站': ['昌平路站', '常熟路站', '南京西路站', '江苏路站'],\n",
       "             '鞍山新村站': ['四平路站', '江浦路站'],\n",
       "             '顾村公园站': ['刘行站'],\n",
       "             '颛桥站': ['银都路站', '北桥站'],\n",
       "             '马当路站': ['陆家浜路站', '打浦桥站', '新天地站'],\n",
       "             '马陆站': ['嘉定新城站'],\n",
       "             '高科西路站': ['东明路站', '临沂新村站', '云台路站', '杨高南路站'],\n",
       "             '高青路站': ['华夏西路站', '东明路站'],\n",
       "             '鲁班路站': ['大木桥路站', '西藏南路站'],\n",
       "             '黄兴公园站': ['延吉中路站', '翔殷路站'],\n",
       "             '黄兴路站': ['江浦路站', '延吉中路站'],\n",
       "             '黄陂南路站': ['陕西南路站', '人民广场站'],\n",
       "             '龙华中路站': ['东安路站', '后滩站', '龙华站', '大木桥路站'],\n",
       "             '龙华站': ['龙漕路站', '龙华中路站', '上海游泳馆站', '云锦路站'],\n",
       "             '龙柏新村站': ['紫藤路站', '龙溪路站'],\n",
       "             '龙溪路站': ['上海动物园站', '水城路站', '龙柏新村站'],\n",
       "             '龙漕路站': ['石龙路站', '漕溪路站', '漕宝路站', '龙华站'],\n",
       "             '龙耀路站': ['云锦路站', '东方体育中心站'],\n",
       "             '龙阳路站': ['芳华路站', '花木路站', '张江高科站', '世纪公园站', '浦东国际机场站']})"
      ]
     },
     "execution_count": 68,
     "metadata": {},
     "output_type": "execute_result"
    }
   ],
   "source": [
    "station_connection_info"
   ]
  },
  {
   "cell_type": "code",
   "execution_count": 71,
   "metadata": {
    "collapsed": false
   },
   "outputs": [
    {
     "data": {
      "text/plain": [
       "(261, 257)"
      ]
     },
     "execution_count": 71,
     "metadata": {},
     "output_type": "execute_result"
    }
   ],
   "source": [
    "len(station_coordinates), len(station_connection_info)"
   ]
  },
  {
   "cell_type": "markdown",
   "metadata": {},
   "source": [
    "### Build the search agent"
   ]
  },
  {
   "cell_type": "code",
   "execution_count": 72,
   "metadata": {
    "collapsed": true
   },
   "outputs": [],
   "source": [
    "import math"
   ]
  },
  {
   "cell_type": "code",
   "execution_count": 73,
   "metadata": {
    "collapsed": true
   },
   "outputs": [],
   "source": [
    "def geo_distance(origin, destination):\n",
    "    lat1, lon1 = origin\n",
    "    lat2, lon2 = destination\n",
    "    radius = 6371  # km\n",
    "\n",
    "    dlat = math.radians(lat2 - lat1)\n",
    "    dlon = math.radians(lon2 - lon1)\n",
    "    a = (math.sin(dlat / 2) * math.sin(dlat / 2) +\n",
    "         math.cos(math.radians(lat1)) * math.cos(math.radians(lat2)) *\n",
    "         math.sin(dlon / 2) * math.sin(dlon / 2))\n",
    "    c = 2 * math.atan2(math.sqrt(a), math.sqrt(1 - a))\n",
    "    d = radius * c\n",
    "\n",
    "    return d"
   ]
  },
  {
   "cell_type": "code",
   "execution_count": 74,
   "metadata": {
    "collapsed": true
   },
   "outputs": [],
   "source": [
    "def get_geo_distance(station1, station2):\n",
    "    return geo_distance(station_coordinates[station1], station_coordinates[station2])"
   ]
  },
  {
   "cell_type": "code",
   "execution_count": 75,
   "metadata": {
    "collapsed": false
   },
   "outputs": [
    {
     "data": {
      "text/plain": [
       "0.6749695453122704"
      ]
     },
     "execution_count": 75,
     "metadata": {},
     "output_type": "execute_result"
    }
   ],
   "source": [
    "get_geo_distance('四平路站', '同济大学站')"
   ]
  },
  {
   "cell_type": "code",
   "execution_count": 80,
   "metadata": {
    "collapsed": true
   },
   "outputs": [],
   "source": [
    "import networkx as nx\n",
    "import matplotlib as mpl\n",
    "import matplotlib.pyplot as plt"
   ]
  },
  {
   "cell_type": "code",
   "execution_count": 81,
   "metadata": {
    "collapsed": true
   },
   "outputs": [],
   "source": [
    "mpl.rcParams['font.sans-serif'] = ['simHei']\n",
    "mpl.rcParams['axes.unicode_minus'] = False"
   ]
  },
  {
   "cell_type": "code",
   "execution_count": 82,
   "metadata": {
    "collapsed": true
   },
   "outputs": [],
   "source": [
    "%matplotlib inline"
   ]
  },
  {
   "cell_type": "code",
   "execution_count": 83,
   "metadata": {
    "collapsed": true
   },
   "outputs": [],
   "source": [
    "station_graph = nx.Graph()"
   ]
  },
  {
   "cell_type": "code",
   "execution_count": 84,
   "metadata": {
    "collapsed": true
   },
   "outputs": [],
   "source": [
    "station_graph.add_nodes_from(list(station_coordinates.keys()))"
   ]
  },
  {
   "cell_type": "code",
   "execution_count": 85,
   "metadata": {
    "collapsed": false
   },
   "outputs": [
    {
     "name": "stderr",
     "output_type": "stream",
     "text": [
      "C:\\Users\\JeremySun\\Anaconda3\\lib\\site-packages\\networkx\\drawing\\nx_pylab.py:126: MatplotlibDeprecationWarning: pyplot.hold is deprecated.\n",
      "    Future behavior will be consistent with the long-time default:\n",
      "    plot commands add elements without first clearing the\n",
      "    Axes and/or Figure.\n",
      "  b = plt.ishold()\n",
      "C:\\Users\\JeremySun\\Anaconda3\\lib\\site-packages\\networkx\\drawing\\nx_pylab.py:138: MatplotlibDeprecationWarning: pyplot.hold is deprecated.\n",
      "    Future behavior will be consistent with the long-time default:\n",
      "    plot commands add elements without first clearing the\n",
      "    Axes and/or Figure.\n",
      "  plt.hold(b)\n",
      "C:\\Users\\JeremySun\\Anaconda3\\lib\\site-packages\\matplotlib\\__init__.py:911: MatplotlibDeprecationWarning: axes.hold is deprecated. Please remove it from your matplotlibrc and/or style files.\n",
      "  mplDeprecation)\n",
      "C:\\Users\\JeremySun\\Anaconda3\\lib\\site-packages\\matplotlib\\rcsetup.py:156: MatplotlibDeprecationWarning: axes.hold is deprecated, will be removed in 3.0\n",
      "  mplDeprecation)\n"
     ]
    },
    {
     "data": {
      "image/png": "[encoded data removed]",
      "text/plain": [
       "<Figure size 432x288 with 1 Axes>"
      ]
     },
     "metadata": {},
     "output_type": "display_data"
    }
   ],
   "source": [
    "nx.draw(station_graph, station_coordinates, node_size=5)"
   ]
  },
  {
   "cell_type": "code",
   "execution_count": 86,
   "metadata": {
    "collapsed": true
   },
   "outputs": [],
   "source": [
    "station_with_road = nx.Graph(station_connection_info)"
   ]
  },
  {
   "cell_type": "code",
   "execution_count": 87,
   "metadata": {
    "collapsed": false
   },
   "outputs": [
    {
     "name": "stderr",
     "output_type": "stream",
     "text": [
      "C:\\Users\\JeremySun\\Anaconda3\\lib\\site-packages\\networkx\\drawing\\nx_pylab.py:126: MatplotlibDeprecationWarning: pyplot.hold is deprecated.\n",
      "    Future behavior will be consistent with the long-time default:\n",
      "    plot commands add elements without first clearing the\n",
      "    Axes and/or Figure.\n",
      "  b = plt.ishold()\n",
      "C:\\Users\\JeremySun\\Anaconda3\\lib\\site-packages\\networkx\\drawing\\nx_pylab.py:522: MatplotlibDeprecationWarning: The is_string_like function was deprecated in version 2.1.\n",
      "  if not cb.is_string_like(edge_color) \\\n",
      "C:\\Users\\JeremySun\\Anaconda3\\lib\\site-packages\\networkx\\drawing\\nx_pylab.py:543: MatplotlibDeprecationWarning: The is_string_like function was deprecated in version 2.1.\n",
      "  if cb.is_string_like(edge_color) or len(edge_color) == 1:\n",
      "C:\\Users\\JeremySun\\Anaconda3\\lib\\site-packages\\networkx\\drawing\\nx_pylab.py:138: MatplotlibDeprecationWarning: pyplot.hold is deprecated.\n",
      "    Future behavior will be consistent with the long-time default:\n",
      "    plot commands add elements without first clearing the\n",
      "    Axes and/or Figure.\n",
      "  plt.hold(b)\n",
      "C:\\Users\\JeremySun\\Anaconda3\\lib\\site-packages\\matplotlib\\__init__.py:911: MatplotlibDeprecationWarning: axes.hold is deprecated. Please remove it from your matplotlibrc and/or style files.\n",
      "  mplDeprecation)\n",
      "C:\\Users\\JeremySun\\Anaconda3\\lib\\site-packages\\matplotlib\\rcsetup.py:156: MatplotlibDeprecationWarning: axes.hold is deprecated, will be removed in 3.0\n",
      "  mplDeprecation)\n"
     ]
    },
    {
     "data": {
      "image/png": "[encoded data removed]",
      "text/plain": [
       "<Figure size 432x288 with 1 Axes>"
      ]
     },
     "metadata": {},
     "output_type": "display_data"
    }
   ],
   "source": [
    "nx.draw(station_with_road, station_coordinates, node_size=5)"
   ]
  },
  {
   "cell_type": "code",
   "execution_count": 88,
   "metadata": {
    "collapsed": true
   },
   "outputs": [],
   "source": [
    "from collections import deque"
   ]
  },
  {
   "cell_type": "code",
   "execution_count": 89,
   "metadata": {
    "collapsed": true
   },
   "outputs": [],
   "source": [
    "def print_route(prev, start, destination):\n",
    "    route = deque([destination])\n",
    "    \n",
    "    while prev[destination] != start:\n",
    "        destination = prev[destination]\n",
    "        route.appendleft(destination)\n",
    "    route.appendleft(start)\n",
    "    \n",
    "    print('🚈'.join(route))"
   ]
  },
  {
   "cell_type": "code",
   "execution_count": null,
   "metadata": {
    "collapsed": true
   },
   "outputs": [],
   "source": [
    "def search(start, destination, connection_graph):\n",
    "    visited = {start}\n",
    "    q = deque([start])\n",
    "    prev = {}\n",
    "    while q:\n",
    "        station = q.popleft()\n",
    "        for next_ in connection_graph[station]:\n",
    "            if next_ in visited: continue\n",
    "            prev[next_] = station\n",
    "            if next_ == destination:\n",
    "                print_route(prev, start, destination)\n",
    "                return\n",
    "            visited.add(next_)\n",
    "            q.append(next_)\n",
    "    print('无法到达！！！')"
   ]
  },
  {
   "cell_type": "code",
   "execution_count": 90,
   "metadata": {
    "collapsed": true
   },
   "outputs": [],
   "source": [
    "def search(start, destination, connection_graph):\n",
    "    visited = {start}\n",
    "    q = deque([start])\n",
    "    prev = {}\n",
    "    \n",
    "    while q:\n",
    "        station = q.popleft()\n",
    "        for next_ in connection_graph[station]:\n",
    "            if next_ in visited:\n",
    "                continue\n",
    "            prev[next_] = station\n",
    "            if next_ == destination:\n",
    "                print_route(prev, start, destination)\n",
    "                return\n",
    "            visited.add(next_)\n",
    "            q.append(next_)\n",
    "            \n",
    "    print(\"无法到达该地！\")"
   ]
  },
  {
   "cell_type": "code",
   "execution_count": 91,
   "metadata": {
    "collapsed": true
   },
   "outputs": [],
   "source": [
    "def search_bfs(start, destination, connection_graph):\n",
    "    visited = set()\n",
    "    routes = deque([[start]])\n",
    "    while routes:\n",
    "        cur = routes.pop()\n",
    "        frontier = cur[-1]\n",
    "        for next_ in connection_graph[frontier]:\n",
    "            if next_ in visited or next_ in cur: continue\n",
    "            new_route = cur + [next_]\n",
    "            if next_ == destination: \n",
    "                print('🚈'.join(new_route))\n",
    "                return \n",
    "            routes.appendleft(new_route)\n",
    "        visited.add(frontier)\n",
    "        \n",
    "    print('无法到达！！！')"
   ]
  },
  {
   "cell_type": "code",
   "execution_count": 92,
   "metadata": {
    "collapsed": true
   },
   "outputs": [],
   "source": [
    "def search_dfs(start, destination, connection_graph):\n",
    "    visited = set()\n",
    "    routes = [[start]]\n",
    "    while routes:\n",
    "        cur = routes.pop()\n",
    "        frontier = cur[-1]\n",
    "        for next_ in connection_graph[frontier]:\n",
    "            if next_ in visited or next_ in cur: continue\n",
    "            new_route = cur + [next_]\n",
    "            if next_ == destination: \n",
    "                print('🚈'.join(new_route))\n",
    "                return \n",
    "            routes.append(new_route)\n",
    "        visited.add(frontier)\n",
    "        \n",
    "    print('无法到达！！！')"
   ]
  },
  {
   "cell_type": "code",
   "execution_count": 106,
   "metadata": {
    "collapsed": false
   },
   "outputs": [
    {
     "name": "stdout",
     "output_type": "stream",
     "text": [
      "同济大学站🚈四平路站🚈邮电新村站🚈海伦路站🚈宝山路站🚈上海火车站站🚈汉中路站🚈南京西路站🚈静安寺站🚈江苏路站🚈交通大学站\n"
     ]
    }
   ],
   "source": [
    "search(\"同济大学站\", \"交通大学站\", station_connection_info)"
   ]
  },
  {
   "cell_type": "code",
   "execution_count": 104,
   "metadata": {
    "collapsed": false
   },
   "outputs": [
    {
     "name": "stdout",
     "output_type": "stream",
     "text": [
      "同济大学站🚈四平路站🚈邮电新村站🚈海伦路站🚈宝山路站🚈上海火车站站🚈汉中路站🚈南京西路站🚈静安寺站🚈江苏路站🚈交通大学站\n"
     ]
    }
   ],
   "source": [
    "search_bfs(\"同济大学站\", \"交通大学站\", station_connection_info)"
   ]
  },
  {
   "cell_type": "code",
   "execution_count": 105,
   "metadata": {
    "collapsed": false
   },
   "outputs": [
    {
     "name": "stdout",
     "output_type": "stream",
     "text": [
      "同济大学站🚈四平路站🚈曲阳路站🚈虹口足球场站🚈东宝兴路站🚈宝山路站🚈上海火车站站🚈中潭路站🚈镇坪路站🚈曹杨路站🚈隆德路站🚈江苏路站🚈交通大学站\n"
     ]
    }
   ],
   "source": [
    "search_dfs(\"同济大学站\", \"交通大学站\", station_connection_info)"
   ]
  },
  {
   "cell_type": "markdown",
   "metadata": {},
   "source": [
    "# （Optional）Create different policies for transfer system.\n"
   ]
  },
  {
   "cell_type": "markdown",
   "metadata": {},
   "source": [
    "As much as you can to use the already implemented search agent. You just need to define the **is_goal()**, **get_successor()**, **strategy()** three functions. \n",
    "\n",
    "> a.\tDefine different policies for transfer system. \n",
    "\n",
    "> b.\tSuch as Shortest Path Priority（路程最短优先）, Minimum Transfer Priority(最少换乘优先), Comprehensive Priority(综合优先)\n",
    "\n",
    "> c.\tImplement Continuous transfer. Based on the Agent you implemented, please add this feature: Besides the @param start and @param destination two stations, add some more stations, we called @param by_way, it means, our path should from the start and end, but also include the  @param by_way stations. "
   ]
  },
  {
   "cell_type": "code",
   "execution_count": 107,
   "metadata": {
    "collapsed": true
   },
   "outputs": [],
   "source": [
    "import heapq"
   ]
  },
  {
   "cell_type": "code",
   "execution_count": 108,
   "metadata": {
    "collapsed": true
   },
   "outputs": [],
   "source": [
    "def get_route(prev, start, destination):\n",
    "    route = deque([destination])\n",
    "    while prev[destination] != start:\n",
    "        destination = prev[destination]\n",
    "        route.appendleft(destination)\n",
    "    route.appendleft(start)\n",
    "    return route"
   ]
  },
  {
   "cell_type": "code",
   "execution_count": 109,
   "metadata": {
    "collapsed": true
   },
   "outputs": [],
   "source": [
    "def search_base_on_dijkstra(start, destination, connection_graph):\n",
    "    \"\"\"最短距离\"\"\"\n",
    "    prev = {} # 记录上一站\n",
    "    station_dist = {start: 0} # 记录某一站与起点的最近距离\n",
    "    min_dist_heap = [[0, start]] # 小顶堆\n",
    "    while min_dist_heap:\n",
    "        dist, station = heapq.heappop(min_dist_heap) # 拿出当前距离起点最近的站点\n",
    "        if station == destination:\n",
    "            route = get_route(prev, start, destination)\n",
    "            print('🚈'.join(route))\n",
    "            return \n",
    "        for next_ in connection_graph[station]:\n",
    "            tmp_dist = get_geo_distance(station, next_) + dist\n",
    "            if next_ in station_dist and tmp_dist < station_dist[next_]: # 已经更新过则与原距离比较，更新则更新\n",
    "                station_dist[next_] = tmp_dist\n",
    "                prev[next_] = station\n",
    "                for i in range(len(min_dist_heap)):\n",
    "                    d, s = min_dist_heap[i]\n",
    "                    if s == next_:\n",
    "                        min_dist_heap[i][0] = tmp_dist\n",
    "                        break\n",
    "            elif next_ not in station_dist:\n",
    "                heapq.heappush(min_dist_heap, [tmp_dist, next_])\n",
    "                prev[next_] = station\n",
    "                station_dist[next_] = tmp_dist\n",
    "                \n",
    "    print('无法到达！！！') "
   ]
  },
  {
   "cell_type": "code",
   "execution_count": 110,
   "metadata": {
    "collapsed": false
   },
   "outputs": [
    {
     "name": "stdout",
     "output_type": "stream",
     "text": [
      "同济大学站🚈四平路站🚈邮电新村站🚈海伦路站🚈四川北路站🚈天潼路站🚈南京东路站🚈豫园站🚈老西门站🚈陆家浜路站🚈西藏南路站🚈中华艺术宫站🚈耀华路站🚈成山路站🚈杨思站🚈东方体育中心站🚈凌兆新村站🚈芦恒路站🚈浦江镇站🚈江月路站🚈联航路站🚈沈杜公路站\n"
     ]
    }
   ],
   "source": [
    "search_base_on_dijkstra('同济大学站', '沈杜公路站', station_connection_info)"
   ]
  },
  {
   "cell_type": "code",
   "execution_count": 111,
   "metadata": {
    "collapsed": true
   },
   "outputs": [],
   "source": [
    "def get_transfer(route):\n",
    "    \"\"\"换乘次数\"\"\"\n",
    "    count = 0\n",
    "    for i in range(1,len(route)-1):\n",
    "        if len(station_connection_info[route[i]]) <= 2: \n",
    "            continue\n",
    "        prev, after = station_line_map[route[i-1]], station_line_map[route[i+1]]\n",
    "        # 主线支线不算换乘\n",
    "        for j in range(len(prev)):\n",
    "            if prev[j].endswith('主线') or prev[j].endswith('支线'):\n",
    "                prev[j] = prev[j][:-2]\n",
    "        for k in range(len(after)):\n",
    "            if after[k].endswith('主线') or after[k].endswith('支线'):\n",
    "                after[k] = after[k][:-2]\n",
    "        if not set(prev) & set(after): count += 1\n",
    "    return count"
   ]
  },
  {
   "cell_type": "code",
   "execution_count": 112,
   "metadata": {
    "collapsed": true
   },
   "outputs": [],
   "source": [
    "def get_distance(route):\n",
    "    \"\"\"距离\"\"\"\n",
    "    distance = 0\n",
    "    for i in range(1, len(route)):\n",
    "        distance += get_geo_distance(route[i-1], route[i])\n",
    "    return distance"
   ]
  },
  {
   "cell_type": "code",
   "execution_count": 113,
   "metadata": {
    "collapsed": true
   },
   "outputs": [],
   "source": [
    "def search_bfs(start, destination, connection_graph, strategy, by_way=[]):\n",
    "#     visited = set()\n",
    "    routes = [[start]]\n",
    "    while routes:\n",
    "        cur = routes.pop()\n",
    "        frontier = cur[-1]\n",
    "        for next_ in connection_graph[frontier]:\n",
    "            if next_ in cur: \n",
    "                continue\n",
    "            new_route = cur + [next_]\n",
    "            if next_ == destination: \n",
    "                for s in by_way:\n",
    "                    if s not in new_route:\n",
    "                        break\n",
    "                else:\n",
    "                    print('🚈'.join(new_route))\n",
    "                    return\n",
    "            else:\n",
    "                routes.append(new_route)\n",
    "        routes.sort(key=strategy, reverse=True)\n",
    "#         visited.add(frontier)\n",
    "    print('无法到达！！！')"
   ]
  },
  {
   "cell_type": "code",
   "execution_count": 114,
   "metadata": {
    "collapsed": false
   },
   "outputs": [
    {
     "name": "stdout",
     "output_type": "stream",
     "text": [
      "同济大学站🚈四平路站🚈曲阳路站🚈虹口足球场站🚈西藏北路站🚈中兴路站🚈曲阜路站🚈人民广场站🚈大世界站🚈老西门站\n"
     ]
    }
   ],
   "source": [
    "search_bfs('同济大学站', '老西门站', station_connection_info, get_distance, by_way=['曲阳路站'])"
   ]
  },
  {
   "cell_type": "code",
   "execution_count": 115,
   "metadata": {
    "collapsed": false
   },
   "outputs": [
    {
     "name": "stdout",
     "output_type": "stream",
     "text": [
      "同济大学站🚈四平路站🚈邮电新村站🚈海伦路站🚈四川北路站🚈天潼路站🚈南京东路站🚈豫园站🚈老西门站\n"
     ]
    }
   ],
   "source": [
    "search_bfs('同济大学站', '老西门站', station_connection_info, get_distance)"
   ]
  },
  {
   "cell_type": "code",
   "execution_count": 116,
   "metadata": {
    "collapsed": false
   },
   "outputs": [
    {
     "name": "stdout",
     "output_type": "stream",
     "text": [
      "同济大学站🚈四平路站🚈邮电新村站🚈海伦路站🚈四川北路站🚈天潼路站🚈南京东路站🚈豫园站🚈老西门站🚈新天地站🚈陕西南路站🚈南京西路站🚈人民广场站🚈曲阜路站🚈中兴路站🚈西藏北路站🚈虹口足球场站🚈东宝兴路站🚈宝山路站\n"
     ]
    }
   ],
   "source": [
    "search_bfs('同济大学站', '宝山路站', station_connection_info, get_transfer, by_way=['东宝兴路站'])"
   ]
  },
  {
   "cell_type": "code",
   "execution_count": 117,
   "metadata": {
    "collapsed": false
   },
   "outputs": [
    {
     "name": "stdout",
     "output_type": "stream",
     "text": [
      "同济大学站🚈四平路站🚈邮电新村站🚈海伦路站🚈宝山路站\n"
     ]
    }
   ],
   "source": [
    "search_bfs('同济大学站', '宝山路站', station_connection_info, get_transfer)"
   ]
  },
  {
   "cell_type": "markdown",
   "metadata": {},
   "source": [
    "## Test your result with commercial applications. "
   ]
  },
  {
   "cell_type": "markdown",
   "metadata": {},
   "source": [
    "- 将你的结果和高德地图或者百度地图进行比较，如果有不同，请分析原因。\n",
    "    - 和高德地图进行分析比较：\n",
    "        1. 如果不使用 **by_way** 参数路程最短和最少换乘的结果基本与高德一致，但由于都是基于贪心并非全局最优，所以有时会不一样；\n",
    "        2. 使用了 **by_way** 之后，由于不能去除已访问过的站点搜索空间大大增加，一定程度上放大了基于贪心的缺点，更大概率和高德地图不一致，且运行时间随着距离增大而大大增加。"
   ]
  },
  {
   "cell_type": "markdown",
   "metadata": {},
   "source": [
    "**恭喜，完成本次课程，你对常用的人工智能方法以及有一定的了解了。基于规则的，基于概率模型的，基于搜索的，基于机器学习的。可以说，我们现在通常见到的方法都能够归属到这几类方法中。这就是人工智能，并没有很难是吧？ 继续加油！**"
   ]
  },
  {
   "cell_type": "markdown",
   "metadata": {},
   "source": [
    "![](https://timgsa.baidu.com/timg?image&quality=80&size=b9999_10000&sec=1562415163815&di=4b29a2a863a8285212033760f288ed7a&imgtype=0&src=http%3A%2F%2F5b0988e595225.cdn.sohucs.com%2Fimages%2F20180710%2F8704194a1d7f46a383ddc29d40c9bca5.jpeg)"
   ]
  }
 ],
 "metadata": {
  "anaconda-cloud": {},
  "kernelspec": {
   "display_name": "Python [default]",
   "language": "python",
   "name": "python3"
  },
  "language_info": {
   "codemirror_mode": {
    "name": "ipython",
    "version": 3
   },
   "file_extension": ".py",
   "mimetype": "text/x-python",
   "name": "python",
   "nbconvert_exporter": "python",
   "pygments_lexer": "ipython3",
   "version": "3.5.2"
  },
  "toc": {
   "base_numbering": 1,
   "nav_menu": {},
   "number_sections": true,
   "sideBar": true,
   "skip_h1_title": false,
   "title_cell": "Table of Contents",
   "title_sidebar": "Contents",
   "toc_cell": false,
   "toc_position": {
    "height": "calc(100% - 180px)",
    "left": "10px",
    "top": "150px",
    "width": "256px"
   },
   "toc_section_display": true,
   "toc_window_display": false
  }
 },
 "nbformat": 4,
 "nbformat_minor": 2
}
