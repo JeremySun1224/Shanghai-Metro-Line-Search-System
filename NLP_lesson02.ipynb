{
 "cells": [
  {
   "cell_type": "markdown",
   "metadata": {
    "collapsed": true
   },
   "source": [
    "# Previous Course"
   ]
  },
  {
   "cell_type": "markdown",
   "metadata": {},
   "source": [
    "## What's the Language Model? OOV problem"
   ]
  },
  {
   "cell_type": "markdown",
   "metadata": {},
   "source": [
    "### Out of Vocabulary(OOV)"
   ]
  },
  {
   "cell_type": "markdown",
   "metadata": {},
   "source": [
    "- 如果这个词在句子中出现的次数为零，这个时候我们该如何求概率？\n",
    "    - 我们常用的解决方法是把给它设一个定值。$Pr(w_0)=constant<Pr(w_1)$\n",
    "    - 平滑（smooth）。关于平滑法的超链接如下：<http://www.shuang0420.com/2017/03/24/NLP%20%E7%AC%94%E8%AE%B0%20-%20%E5%B9%B3%E6%BB%91%E6%96%B9%E6%B3%95(Smoothing)%E5%B0%8F%E7%BB%93/>"
   ]
  },
  {
   "cell_type": "markdown",
   "metadata": {},
   "source": [
    "[](http://www.shuang0420.com/2017/03/24/NLP%20%E7%AC%94%E8%AE%B0%20-%20%E5%B9%B3%E6%BB%91%E6%96%B9%E6%B3%95(Smoothing%E5%B0%8F%E7%BB%93/)"
   ]
  },
  {
   "cell_type": "markdown",
   "metadata": {},
   "source": [
    "### Lamda expression"
   ]
  },
  {
   "cell_type": "code",
   "execution_count": 1,
   "metadata": {
    "collapsed": true
   },
   "outputs": [],
   "source": [
    "numbers = [1, -2, -4, 1, 5, 6, 9, -11]"
   ]
  },
  {
   "cell_type": "code",
   "execution_count": 2,
   "metadata": {
    "collapsed": false
   },
   "outputs": [
    {
     "data": {
      "text/plain": [
       "[-11, -4, -2, 1, 1, 5, 6, 9]"
      ]
     },
     "execution_count": 2,
     "metadata": {},
     "output_type": "execute_result"
    }
   ],
   "source": [
    "sorted(numbers)"
   ]
  },
  {
   "cell_type": "code",
   "execution_count": 3,
   "metadata": {
    "collapsed": true
   },
   "outputs": [],
   "source": [
    "def absolute(number):\n",
    "    if number < 0:\n",
    "        return -1 * (number)\n",
    "    else:\n",
    "        return number"
   ]
  },
  {
   "cell_type": "code",
   "execution_count": 5,
   "metadata": {
    "collapsed": false
   },
   "outputs": [
    {
     "data": {
      "text/plain": [
       "[1, 1, -2, -4, 5, 6, 9, -11]"
      ]
     },
     "execution_count": 5,
     "metadata": {},
     "output_type": "execute_result"
    }
   ],
   "source": [
    "# 按绝对值排序\n",
    "sorted(numbers, key=absolute)"
   ]
  },
  {
   "cell_type": "code",
   "execution_count": 9,
   "metadata": {
    "collapsed": true
   },
   "outputs": [],
   "source": [
    "def mod_5(number):\n",
    "    return number % 5"
   ]
  },
  {
   "cell_type": "code",
   "execution_count": 10,
   "metadata": {
    "collapsed": false
   },
   "outputs": [
    {
     "data": {
      "text/plain": [
       "1"
      ]
     },
     "execution_count": 10,
     "metadata": {},
     "output_type": "execute_result"
    }
   ],
   "source": [
    "mod_5(1)"
   ]
  },
  {
   "cell_type": "code",
   "execution_count": 11,
   "metadata": {
    "collapsed": false
   },
   "outputs": [
    {
     "data": {
      "text/plain": [
       "[5, 1, -4, 1, 6, -2, 9, -11]"
      ]
     },
     "execution_count": 11,
     "metadata": {},
     "output_type": "execute_result"
    }
   ],
   "source": [
    "sorted(numbers, key=lambda x: x % 5)"
   ]
  },
  {
   "cell_type": "markdown",
   "metadata": {},
   "source": [
    "# Problem Sloving: Search Based"
   ]
  },
  {
   "cell_type": "markdown",
   "metadata": {},
   "source": [
    "## Search Policy"
   ]
  },
  {
   "cell_type": "code",
   "execution_count": 1,
   "metadata": {
    "collapsed": true
   },
   "outputs": [],
   "source": [
    "coordination_source = \"\"\"\n",
    "{name:'兰州', geoCoord:[103.73, 36.03]},\n",
    "{name:'嘉峪关', geoCoord:[98.17, 39.47]},\n",
    "{name:'西宁', geoCoord:[101.74, 36.56]},\n",
    "{name:'成都', geoCoord:[104.06, 30.67]},\n",
    "{name:'石家庄', geoCoord:[114.48, 38.03]},\n",
    "{name:'拉萨', geoCoord:[102.73, 25.04]},\n",
    "{name:'贵阳', geoCoord:[106.71, 26.57]},\n",
    "{name:'武汉', geoCoord:[114.31, 30.52]},\n",
    "{name:'郑州', geoCoord:[113.65, 34.76]},\n",
    "{name:'济南', geoCoord:[117, 36.65]},\n",
    "{name:'南京', geoCoord:[118.78, 32.04]},\n",
    "{name:'合肥', geoCoord:[117.27, 31.86]},\n",
    "{name:'杭州', geoCoord:[120.19, 30.26]},\n",
    "{name:'南昌', geoCoord:[115.89, 28.68]},\n",
    "{name:'福州', geoCoord:[119.3, 26.08]},\n",
    "{name:'广州', geoCoord:[113.23, 23.16]},\n",
    "{name:'长沙', geoCoord:[113, 28.21]},\n",
    "//{name:'海口', geoCoord:[110.35, 20.02]},\n",
    "{name:'沈阳', geoCoord:[123.38, 41.8]},\n",
    "{name:'长春', geoCoord:[125.35, 43.88]},\n",
    "{name:'哈尔滨', geoCoord:[126.63, 45.75]},\n",
    "{name:'太原', geoCoord:[112.53, 37.87]},\n",
    "{name:'西安', geoCoord:[108.95, 34.27]},\n",
    "//{name:'台湾', geoCoord:[121.30, 25.03]},\n",
    "{name:'北京', geoCoord:[116.46, 39.92]},\n",
    "{name:'上海', geoCoord:[121.48, 31.22]},\n",
    "{name:'重庆', geoCoord:[106.54, 29.59]},\n",
    "{name:'天津', geoCoord:[117.2, 39.13]},\n",
    "{name:'呼和浩特', geoCoord:[111.65, 40.82]},\n",
    "{name:'南宁', geoCoord:[108.33, 22.84]},\n",
    "//{name:'西藏', geoCoord:[91.11, 29.97]},\n",
    "{name:'银川', geoCoord:[106.27, 38.47]},\n",
    "{name:'乌鲁木齐', geoCoord:[87.68, 43.77]},\n",
    "{name:'香港', geoCoord:[114.17, 22.28]},\n",
    "{name:'澳门', geoCoord:[113.54, 22.19]}\n",
    "\"\"\""
   ]
  },
  {
   "cell_type": "code",
   "execution_count": 2,
   "metadata": {
    "collapsed": true
   },
   "outputs": [],
   "source": [
    "city_location = {\n",
    "    '香港': (114.17, 22.28)\n",
    "}"
   ]
  },
  {
   "cell_type": "markdown",
   "metadata": {},
   "source": [
    "- **Input: string -> dict**"
   ]
  },
  {
   "cell_type": "code",
   "execution_count": 3,
   "metadata": {
    "collapsed": true
   },
   "outputs": [],
   "source": [
    "test_string = \"{name:'澳门', geoCoord:[113.54, 22.19]},\""
   ]
  },
  {
   "cell_type": "code",
   "execution_count": 4,
   "metadata": {
    "collapsed": false
   },
   "outputs": [
    {
     "data": {
      "text/plain": [
       "\"{name:'澳门', geoCoord:[113.54, 22.19]},\""
      ]
     },
     "execution_count": 4,
     "metadata": {},
     "output_type": "execute_result"
    }
   ],
   "source": [
    "test_string"
   ]
  },
  {
   "cell_type": "code",
   "execution_count": 5,
   "metadata": {
    "collapsed": true
   },
   "outputs": [],
   "source": [
    "import re"
   ]
  },
  {
   "cell_type": "code",
   "execution_count": 6,
   "metadata": {
    "collapsed": true
   },
   "outputs": [],
   "source": [
    "# 定义一个模式\n",
    "test_pattern = r\"name:'\\w+'\""
   ]
  },
  {
   "cell_type": "code",
   "execution_count": 7,
   "metadata": {
    "collapsed": false
   },
   "outputs": [
    {
     "data": {
      "text/plain": [
       "[\"name:'澳门'\"]"
      ]
     },
     "execution_count": 7,
     "metadata": {},
     "output_type": "execute_result"
    }
   ],
   "source": [
    "# 应用正则表达式\n",
    "re.findall(pattern=test_pattern, string=test_string)"
   ]
  },
  {
   "cell_type": "code",
   "execution_count": 8,
   "metadata": {
    "collapsed": true
   },
   "outputs": [],
   "source": [
    "test_pattern2 = r\"name:'(\\w+)'\""
   ]
  },
  {
   "cell_type": "code",
   "execution_count": 9,
   "metadata": {
    "collapsed": false
   },
   "outputs": [
    {
     "data": {
      "text/plain": [
       "['澳门']"
      ]
     },
     "execution_count": 9,
     "metadata": {},
     "output_type": "execute_result"
    }
   ],
   "source": [
    "# 如果只想要‘澳门’两个字，可以加一个括弧，可以理解为取出你想要的东西\n",
    "re.findall(pattern=test_pattern2, string=test_string)"
   ]
  },
  {
   "cell_type": "code",
   "execution_count": 10,
   "metadata": {
    "collapsed": true
   },
   "outputs": [],
   "source": [
    "# 提取经纬度\n",
    "test_pattern3 = r\"geoCoord:\\[(\\d+.\\d+),\\s(\\d+.\\d+)\\]\"  # \\也是转义"
   ]
  },
  {
   "cell_type": "code",
   "execution_count": 11,
   "metadata": {
    "collapsed": false
   },
   "outputs": [
    {
     "data": {
      "text/plain": [
       "[('113.54', '22.19')]"
      ]
     },
     "execution_count": 11,
     "metadata": {},
     "output_type": "execute_result"
    }
   ],
   "source": [
    "re.findall(pattern=test_pattern3, string=test_string)"
   ]
  },
  {
   "cell_type": "code",
   "execution_count": 12,
   "metadata": {
    "collapsed": true
   },
   "outputs": [],
   "source": [
    "# 合并提取\n",
    "pattern = r\"name:'(\\w+)',\\s+geoCoord:\\[(\\d+.\\d+),\\s(\\d+.\\d+)\\]\""
   ]
  },
  {
   "cell_type": "code",
   "execution_count": 13,
   "metadata": {
    "collapsed": false
   },
   "outputs": [
    {
     "data": {
      "text/plain": [
       "[('澳门', '113.54', '22.19')]"
      ]
     },
     "execution_count": 13,
     "metadata": {},
     "output_type": "execute_result"
    }
   ],
   "source": [
    "re.findall(pattern=pattern, string=test_string)"
   ]
  },
  {
   "cell_type": "code",
   "execution_count": 14,
   "metadata": {
    "collapsed": false
   },
   "outputs": [
    {
     "data": {
      "text/plain": [
       "('澳门', '113.54', '22.19')"
      ]
     },
     "execution_count": 14,
     "metadata": {},
     "output_type": "execute_result"
    }
   ],
   "source": [
    "# 提取上述列表的第一个元素\n",
    "re.findall(pattern=pattern, string=test_string)[0]"
   ]
  },
  {
   "cell_type": "code",
   "execution_count": 15,
   "metadata": {
    "collapsed": false
   },
   "outputs": [],
   "source": [
    "# 写一个循环，遍历coordination_source\n",
    "pattern = re.compile(pattern)\n",
    "\n",
    "for line in coordination_source.split('\\n'):\n",
    "    city_info = pattern.findall(line)\n",
    "    \n",
    "    if not city_info:\n",
    "        continue\n",
    "        \n",
    "    # following: we find the city_info\n",
    "    \n",
    "    city, long, lat = city_info[0]\n",
    "    \n",
    "    long, lat = float(long), float(lat)  # 正则匹配的数字为字符窜，需要将其改为数字\n",
    "    \n",
    "    city_location[city] = (long, lat)"
   ]
  },
  {
   "cell_type": "code",
   "execution_count": 16,
   "metadata": {
    "collapsed": false
   },
   "outputs": [
    {
     "data": {
      "text/plain": [
       "{'上海': (121.48, 31.22),\n",
       " '乌鲁木齐': (87.68, 43.77),\n",
       " '兰州': (103.73, 36.03),\n",
       " '北京': (116.46, 39.92),\n",
       " '南京': (118.78, 32.04),\n",
       " '南宁': (108.33, 22.84),\n",
       " '南昌': (115.89, 28.68),\n",
       " '台湾': (121.3, 25.03),\n",
       " '合肥': (117.27, 31.86),\n",
       " '呼和浩特': (111.65, 40.82),\n",
       " '哈尔滨': (126.63, 45.75),\n",
       " '嘉峪关': (98.17, 39.47),\n",
       " '天津': (117.2, 39.13),\n",
       " '太原': (112.53, 37.87),\n",
       " '广州': (113.23, 23.16),\n",
       " '成都': (104.06, 30.67),\n",
       " '拉萨': (102.73, 25.04),\n",
       " '杭州': (120.19, 30.26),\n",
       " '武汉': (114.31, 30.52),\n",
       " '沈阳': (123.38, 41.8),\n",
       " '济南': (117.0, 36.65),\n",
       " '海口': (110.35, 20.02),\n",
       " '澳门': (113.54, 22.19),\n",
       " '石家庄': (114.48, 38.03),\n",
       " '福州': (119.3, 26.08),\n",
       " '西宁': (101.74, 36.56),\n",
       " '西安': (108.95, 34.27),\n",
       " '西藏': (91.11, 29.97),\n",
       " '贵阳': (106.71, 26.57),\n",
       " '郑州': (113.65, 34.76),\n",
       " '重庆': (106.54, 29.59),\n",
       " '银川': (106.27, 38.47),\n",
       " '长春': (125.35, 43.88),\n",
       " '长沙': (113.0, 28.21),\n",
       " '香港': (114.17, 22.28)}"
      ]
     },
     "execution_count": 16,
     "metadata": {},
     "output_type": "execute_result"
    }
   ],
   "source": [
    "city_location"
   ]
  },
  {
   "cell_type": "code",
   "execution_count": 17,
   "metadata": {
    "collapsed": true
   },
   "outputs": [],
   "source": [
    "import math"
   ]
  },
  {
   "cell_type": "code",
   "execution_count": 18,
   "metadata": {
    "collapsed": true
   },
   "outputs": [],
   "source": [
    "def geo_distance(origin, destination):\n",
    "    \"\"\"\n",
    "    Calculate the Haversine distance.\n",
    "    \n",
    "    Parameters\n",
    "    ----------\n",
    "    origin: tuple of float\n",
    "        (lat, long)\n",
    "    destination: tuple of float\n",
    "        (lat, long)\n",
    "    \n",
    "    Returns\n",
    "    -------\n",
    "    distance_in_km: float\n",
    "    \n",
    "    Examples\n",
    "    --------\n",
    "    >>> origin = (48.1372, 11.5756)  # Munich\n",
    "    >>> destination = (52.5186, 13.4083)  # Berlin\n",
    "    >>> round(distination(origin, destination), 1)\n",
    "    504.2\n",
    "    \"\"\"\n",
    "    lat1, lon1 = origin\n",
    "    lat2, lon2 = destination\n",
    "    radius = 6371  # km\n",
    "    \n",
    "    dlat = math.radians(lat2 - lat1)\n",
    "    dlon = math.radians(lon2 - lon1)\n",
    "    \n",
    "    a = (math.sin(dlat / 2) * math.sin(dlat / 2) + \n",
    "        math.cos(math.radians(lat1)) * math.cos(math.radians(lat2)) * \n",
    "        math.sin(dlon / 2) * math.sin(dlon / 2))\n",
    "    c = 2 * math.atan2(math.sqrt(a), math.sqrt(1 - a))\n",
    "    d = radius * c\n",
    "    \n",
    "    return d"
   ]
  },
  {
   "cell_type": "code",
   "execution_count": 19,
   "metadata": {
    "collapsed": true
   },
   "outputs": [],
   "source": [
    "def get_geo_distance(city1, city2):\n",
    "    return geo_distance(city_location[city1], city_location[city2])"
   ]
  },
  {
   "cell_type": "code",
   "execution_count": 20,
   "metadata": {
    "collapsed": false
   },
   "outputs": [
    {
     "data": {
      "text/plain": [
       "153.5185697155768"
      ]
     },
     "execution_count": 20,
     "metadata": {},
     "output_type": "execute_result"
    }
   ],
   "source": [
    "get_geo_distance('上海', '杭州')"
   ]
  },
  {
   "cell_type": "code",
   "execution_count": 21,
   "metadata": {
    "collapsed": false
   },
   "outputs": [],
   "source": [
    "import networkx as nx"
   ]
  },
  {
   "cell_type": "code",
   "execution_count": 22,
   "metadata": {
    "collapsed": true
   },
   "outputs": [],
   "source": [
    "city_graph = nx.Graph()"
   ]
  },
  {
   "cell_type": "code",
   "execution_count": 23,
   "metadata": {
    "collapsed": true
   },
   "outputs": [],
   "source": [
    "city_graph.add_nodes_from(list(city_location.keys()))"
   ]
  },
  {
   "cell_type": "code",
   "execution_count": 24,
   "metadata": {
    "collapsed": true
   },
   "outputs": [],
   "source": [
    "import matplotlib as mpl\n",
    "import matplotlib.pyplot as plt"
   ]
  },
  {
   "cell_type": "code",
   "execution_count": 25,
   "metadata": {
    "collapsed": true
   },
   "outputs": [],
   "source": [
    "mpl.rcParams['font.sans-serif'] = ['simHei']\n",
    "mpl.rcParams['axes.unicode_minus'] = False"
   ]
  },
  {
   "cell_type": "code",
   "execution_count": 26,
   "metadata": {
    "collapsed": true
   },
   "outputs": [],
   "source": [
    "%matplotlib inline"
   ]
  },
  {
   "cell_type": "code",
   "execution_count": 27,
   "metadata": {
    "collapsed": false,
    "scrolled": true
   },
   "outputs": [
    {
     "name": "stderr",
     "output_type": "stream",
     "text": [
      "C:\\Users\\JeremySun\\Anaconda3\\lib\\site-packages\\networkx\\drawing\\nx_pylab.py:126: MatplotlibDeprecationWarning: pyplot.hold is deprecated.\n",
      "    Future behavior will be consistent with the long-time default:\n",
      "    plot commands add elements without first clearing the\n",
      "    Axes and/or Figure.\n",
      "  b = plt.ishold()\n",
      "C:\\Users\\JeremySun\\Anaconda3\\lib\\site-packages\\networkx\\drawing\\nx_pylab.py:724: MatplotlibDeprecationWarning: The is_string_like function was deprecated in version 2.1.\n",
      "  if not cb.is_string_like(label):\n",
      "C:\\Users\\JeremySun\\Anaconda3\\lib\\site-packages\\networkx\\drawing\\nx_pylab.py:138: MatplotlibDeprecationWarning: pyplot.hold is deprecated.\n",
      "    Future behavior will be consistent with the long-time default:\n",
      "    plot commands add elements without first clearing the\n",
      "    Axes and/or Figure.\n",
      "  plt.hold(b)\n",
      "C:\\Users\\JeremySun\\Anaconda3\\lib\\site-packages\\matplotlib\\__init__.py:911: MatplotlibDeprecationWarning: axes.hold is deprecated. Please remove it from your matplotlibrc and/or style files.\n",
      "  mplDeprecation)\n",
      "C:\\Users\\JeremySun\\Anaconda3\\lib\\site-packages\\matplotlib\\rcsetup.py:156: MatplotlibDeprecationWarning: axes.hold is deprecated, will be removed in 3.0\n",
      "  mplDeprecation)\n"
     ]
    },
    {
     "data": {
      "image/png": "[encoded data removed]",
      "text/plain": [
       "<Figure size 432x288 with 1 Axes>"
      ]
     },
     "metadata": {},
     "output_type": "display_data"
    }
   ],
   "source": [
    "nx.draw(city_graph, city_location, with_labels=True, node_size=30)"
   ]
  },
  {
   "cell_type": "code",
   "execution_count": 28,
   "metadata": {
    "collapsed": true
   },
   "outputs": [],
   "source": [
    "from collections import defaultdict"
   ]
  },
  {
   "cell_type": "code",
   "execution_count": 29,
   "metadata": {
    "collapsed": false
   },
   "outputs": [],
   "source": [
    "simple_connection_info_src = {\n",
    "    '北京': ['太原', '沈阳'],\n",
    "    '太原': ['北京', '西安', '郑州'],\n",
    "    '兰州': ['西安'],\n",
    "    '郑州': ['太原'],\n",
    "    '西安': ['兰州', '长沙'],\n",
    "    '长沙': ['福州', '南宁'],\n",
    "    '沈阳': ['北京']\n",
    "}"
   ]
  },
  {
   "cell_type": "code",
   "execution_count": 30,
   "metadata": {
    "collapsed": true
   },
   "outputs": [],
   "source": [
    "simple_connection_info = defaultdict(list)"
   ]
  },
  {
   "cell_type": "code",
   "execution_count": 31,
   "metadata": {
    "collapsed": true
   },
   "outputs": [],
   "source": [
    "simple_connection_info.update(simple_connection_info_src)"
   ]
  },
  {
   "cell_type": "code",
   "execution_count": 32,
   "metadata": {
    "collapsed": false
   },
   "outputs": [
    {
     "name": "stderr",
     "output_type": "stream",
     "text": [
      "C:\\Users\\JeremySun\\Anaconda3\\lib\\site-packages\\networkx\\drawing\\nx_pylab.py:126: MatplotlibDeprecationWarning: pyplot.hold is deprecated.\n",
      "    Future behavior will be consistent with the long-time default:\n",
      "    plot commands add elements without first clearing the\n",
      "    Axes and/or Figure.\n",
      "  b = plt.ishold()\n",
      "C:\\Users\\JeremySun\\Anaconda3\\lib\\site-packages\\networkx\\drawing\\nx_pylab.py:522: MatplotlibDeprecationWarning: The is_string_like function was deprecated in version 2.1.\n",
      "  if not cb.is_string_like(edge_color) \\\n",
      "C:\\Users\\JeremySun\\Anaconda3\\lib\\site-packages\\networkx\\drawing\\nx_pylab.py:543: MatplotlibDeprecationWarning: The is_string_like function was deprecated in version 2.1.\n",
      "  if cb.is_string_like(edge_color) or len(edge_color) == 1:\n",
      "C:\\Users\\JeremySun\\Anaconda3\\lib\\site-packages\\networkx\\drawing\\nx_pylab.py:724: MatplotlibDeprecationWarning: The is_string_like function was deprecated in version 2.1.\n",
      "  if not cb.is_string_like(label):\n",
      "C:\\Users\\JeremySun\\Anaconda3\\lib\\site-packages\\networkx\\drawing\\nx_pylab.py:138: MatplotlibDeprecationWarning: pyplot.hold is deprecated.\n",
      "    Future behavior will be consistent with the long-time default:\n",
      "    plot commands add elements without first clearing the\n",
      "    Axes and/or Figure.\n",
      "  plt.hold(b)\n",
      "C:\\Users\\JeremySun\\Anaconda3\\lib\\site-packages\\matplotlib\\__init__.py:911: MatplotlibDeprecationWarning: axes.hold is deprecated. Please remove it from your matplotlibrc and/or style files.\n",
      "  mplDeprecation)\n",
      "C:\\Users\\JeremySun\\Anaconda3\\lib\\site-packages\\matplotlib\\rcsetup.py:156: MatplotlibDeprecationWarning: axes.hold is deprecated, will be removed in 3.0\n",
      "  mplDeprecation)\n"
     ]
    },
    {
     "data": {
      "image/png": "[encoded data removed]",
      "text/plain": [
       "<Figure size 432x288 with 1 Axes>"
      ]
     },
     "metadata": {},
     "output_type": "display_data"
    }
   ],
   "source": [
    "nx.draw(nx.Graph(simple_connection_info), city_location, with_labels=True, node_size=10)"
   ]
  },
  {
   "cell_type": "markdown",
   "metadata": {},
   "source": [
    "### Breath First Search"
   ]
  },
  {
   "cell_type": "markdown",
   "metadata": {},
   "source": [
    "- path = pathes.pop(0)这里隐含一个信息——最早扩展的路的节点最少，所以我们现在的方式是按照转乘最少进行扩展。"
   ]
  },
  {
   "cell_type": "code",
   "execution_count": 33,
   "metadata": {
    "collapsed": true
   },
   "outputs": [],
   "source": [
    "def search(start, destination, connection_graph):\n",
    "    pathes = [[start]]\n",
    "    \n",
    "    vistied = set()\n",
    "    \n",
    "    while pathes:  # if we find existing pathes\n",
    "        path = pathes.pop(0)  # take out the original city\n",
    "        frontier = path[-1]  # take out the last city\n",
    "        \n",
    "        if frontier in vistied:\n",
    "            continue\n",
    "        \n",
    "        successors = connection_graph[frontier]\n",
    "        \n",
    "        for city in successors:\n",
    "            if city in path:  # eliminate loop\n",
    "                continue\n",
    "            \n",
    "            new_path = path + [city]\n",
    "            \n",
    "            pathes.append(new_path)\n",
    "            \n",
    "            if city == destination:\n",
    "                return new_path\n",
    "            \n",
    "        vistied.add(frontier)"
   ]
  },
  {
   "cell_type": "code",
   "execution_count": 34,
   "metadata": {
    "collapsed": false
   },
   "outputs": [
    {
     "data": {
      "text/plain": [
       "['兰州', '西安', '长沙', '福州']"
      ]
     },
     "execution_count": 34,
     "metadata": {},
     "output_type": "execute_result"
    }
   ],
   "source": [
    "search('兰州', '福州', simple_connection_info)"
   ]
  },
  {
   "cell_type": "code",
   "execution_count": 35,
   "metadata": {
    "collapsed": false
   },
   "outputs": [
    {
     "data": {
      "text/plain": [
       "['北京', '太原', '西安', '长沙', '福州']"
      ]
     },
     "execution_count": 35,
     "metadata": {},
     "output_type": "execute_result"
    }
   ],
   "source": [
    "search('北京', '福州', simple_connection_info)"
   ]
  },
  {
   "cell_type": "code",
   "execution_count": 36,
   "metadata": {
    "collapsed": true
   },
   "outputs": [],
   "source": [
    "def pretty_print(cities):\n",
    "    return '->'.join(cities)"
   ]
  },
  {
   "cell_type": "code",
   "execution_count": 37,
   "metadata": {
    "collapsed": false
   },
   "outputs": [
    {
     "data": {
      "text/plain": [
       "'兰州->西安->长沙->福州'"
      ]
     },
     "execution_count": 37,
     "metadata": {},
     "output_type": "execute_result"
    }
   ],
   "source": [
    "pretty_print(search('兰州', '福州', simple_connection_info))"
   ]
  },
  {
   "cell_type": "code",
   "execution_count": 38,
   "metadata": {
    "collapsed": true
   },
   "outputs": [],
   "source": [
    "# only Breath First Search\n",
    "def bfs(graph, start):\n",
    "    \"\"\"\n",
    "    breath first search\n",
    "    \"\"\"\n",
    "    visited = [start]\n",
    "    \n",
    "    seen = set()\n",
    "    \n",
    "    while visited:\n",
    "        frontier = visited.pop()\n",
    "        \n",
    "        if frontier in seen:\n",
    "            continue\n",
    "\n",
    "        for successor in graph[frontier]:\n",
    "            if successor in seen:  # if successor has been seen (解决环问题)\n",
    "                continue\n",
    "            print(successor) \n",
    "            \n",
    "            # visited = visited + [successor]  # 我们每次扩展都扩展最新发现的点 -> depth first\n",
    "            \n",
    "            visited = [successor] + visited  # 我们每次扩展都先考虑已经发现的老的点 -> breath first\n",
    "            \n",
    "            # 所以说，这个扩展顺序其实决定了我们的深度优先还是广度优先\n",
    "    \n",
    "        seen.add(frontier)\n",
    "        \n",
    "    return seen"
   ]
  },
  {
   "cell_type": "code",
   "execution_count": 39,
   "metadata": {
    "collapsed": false
   },
   "outputs": [
    {
     "name": "stdout",
     "output_type": "stream",
     "text": [
      "太原\n",
      "沈阳\n",
      "西安\n",
      "郑州\n",
      "兰州\n",
      "长沙\n",
      "福州\n",
      "南宁\n"
     ]
    },
    {
     "data": {
      "text/plain": [
       "{'兰州', '北京', '南宁', '太原', '沈阳', '福州', '西安', '郑州', '长沙'}"
      ]
     },
     "execution_count": 39,
     "metadata": {},
     "output_type": "execute_result"
    }
   ],
   "source": [
    "bfs(simple_connection_info, '北京')"
   ]
  },
  {
   "cell_type": "code",
   "execution_count": 40,
   "metadata": {
    "collapsed": true
   },
   "outputs": [],
   "source": [
    "number_graph = defaultdict(list)"
   ]
  },
  {
   "cell_type": "code",
   "execution_count": 41,
   "metadata": {
    "collapsed": true
   },
   "outputs": [],
   "source": [
    "number_graph.update({\n",
    "    1: [2, 3],\n",
    "    2: [1, 4],\n",
    "    3: [1, 5],\n",
    "    4: [2, 6],\n",
    "    5: [3, 7]\n",
    "})"
   ]
  },
  {
   "cell_type": "code",
   "execution_count": 42,
   "metadata": {
    "collapsed": false
   },
   "outputs": [
    {
     "name": "stdout",
     "output_type": "stream",
     "text": [
      "2\n",
      "3\n",
      "4\n",
      "5\n",
      "6\n",
      "7\n"
     ]
    },
    {
     "data": {
      "text/plain": [
       "{1, 2, 3, 4, 5, 6, 7}"
      ]
     },
     "execution_count": 42,
     "metadata": {},
     "output_type": "execute_result"
    }
   ],
   "source": [
    "bfs(number_graph, 1)"
   ]
  },
  {
   "cell_type": "code",
   "execution_count": 43,
   "metadata": {
    "collapsed": true
   },
   "outputs": [],
   "source": [
    "# 之前我们都是自己进行连接关系的确定，现在我们下一个定义自动确定连接关系\n",
    "threhold = 300"
   ]
  },
  {
   "cell_type": "code",
   "execution_count": 44,
   "metadata": {
    "collapsed": true
   },
   "outputs": [],
   "source": [
    "city_connection = defaultdict(list)"
   ]
  },
  {
   "cell_type": "code",
   "execution_count": 45,
   "metadata": {
    "collapsed": true
   },
   "outputs": [],
   "source": [
    "for c1 in city_location:\n",
    "    for c2 in city_location:\n",
    "        if c1 == c2:\n",
    "            continue\n",
    "        \n",
    "        distance = get_geo_distance(c1, c2)\n",
    "        \n",
    "        if distance < threhold:\n",
    "            city_connection[c1].append(c2)\n",
    "            city_connection[c2].append(c1)"
   ]
  },
  {
   "cell_type": "code",
   "execution_count": 46,
   "metadata": {
    "collapsed": false
   },
   "outputs": [
    {
     "data": {
      "text/plain": [
       "defaultdict(list,\n",
       "            {'上海': ['杭州', '杭州'],\n",
       "             '兰州': ['成都', '银川', '西宁', '成都', '银川', '西宁'],\n",
       "             '北京': ['天津', '济南', '天津', '济南', '石家庄', '石家庄'],\n",
       "             '南京': ['杭州', '合肥', '杭州', '合肥'],\n",
       "             '南宁': ['海口', '贵阳', '海口', '贵阳'],\n",
       "             '南昌': ['合肥', '武汉', '合肥', '武汉'],\n",
       "             '台湾': ['福州', '福州'],\n",
       "             '合肥': ['济南', '济南', '南京', '南昌', '南京', '南昌'],\n",
       "             '呼和浩特': ['太原', '太原'],\n",
       "             '哈尔滨': ['长春', '长春'],\n",
       "             '天津': ['济南', '北京', '济南', '北京'],\n",
       "             '太原': ['呼和浩特', '呼和浩特', '郑州', '石家庄', '郑州', '石家庄'],\n",
       "             '广州': ['澳门', '长沙', '香港', '澳门', '长沙', '香港'],\n",
       "             '成都': ['重庆', '拉萨', '西宁', '兰州', '重庆', '拉萨', '西宁', '兰州'],\n",
       "             '拉萨': ['成都', '成都', '西宁', '西宁'],\n",
       "             '杭州': ['福州', '福州', '南京', '上海', '南京', '上海'],\n",
       "             '武汉': ['长沙', '长沙', '郑州', '南昌', '郑州', '南昌'],\n",
       "             '沈阳': ['长春', '长春'],\n",
       "             '济南': ['天津', '天津', '合肥', '北京', '石家庄', '合肥', '北京', '石家庄'],\n",
       "             '海口': ['南宁', '南宁'],\n",
       "             '澳门': ['长沙', '香港', '广州', '长沙', '香港', '广州'],\n",
       "             '石家庄': ['济南', '北京', '太原', '郑州', '济南', '北京', '太原', '郑州'],\n",
       "             '福州': ['杭州', '台湾', '杭州', '台湾'],\n",
       "             '西宁': ['成都', '拉萨', '成都', '拉萨', '兰州', '兰州'],\n",
       "             '贵阳': ['南宁', '重庆', '南宁', '重庆'],\n",
       "             '郑州': ['长沙', '武汉', '太原', '长沙', '武汉', '太原', '石家庄', '石家庄'],\n",
       "             '重庆': ['成都', '成都', '银川', '贵阳', '银川', '贵阳'],\n",
       "             '银川': ['重庆', '重庆', '兰州', '兰州'],\n",
       "             '长春': ['沈阳', '沈阳', '哈尔滨', '哈尔滨'],\n",
       "             '长沙': ['澳门',\n",
       "              '澳门',\n",
       "              '香港',\n",
       "              '武汉',\n",
       "              '广州',\n",
       "              '郑州',\n",
       "              '香港',\n",
       "              '武汉',\n",
       "              '广州',\n",
       "              '郑州'],\n",
       "             '香港': ['澳门', '长沙', '澳门', '长沙', '广州', '广州']})"
      ]
     },
     "execution_count": 46,
     "metadata": {},
     "output_type": "execute_result"
    }
   ],
   "source": [
    "city_connection"
   ]
  },
  {
   "cell_type": "code",
   "execution_count": 47,
   "metadata": {
    "collapsed": false
   },
   "outputs": [],
   "source": [
    "city_with_road = nx.Graph(city_connection)"
   ]
  },
  {
   "cell_type": "code",
   "execution_count": 48,
   "metadata": {
    "collapsed": false
   },
   "outputs": [
    {
     "name": "stderr",
     "output_type": "stream",
     "text": [
      "C:\\Users\\JeremySun\\Anaconda3\\lib\\site-packages\\networkx\\drawing\\nx_pylab.py:126: MatplotlibDeprecationWarning: pyplot.hold is deprecated.\n",
      "    Future behavior will be consistent with the long-time default:\n",
      "    plot commands add elements without first clearing the\n",
      "    Axes and/or Figure.\n",
      "  b = plt.ishold()\n",
      "C:\\Users\\JeremySun\\Anaconda3\\lib\\site-packages\\networkx\\drawing\\nx_pylab.py:522: MatplotlibDeprecationWarning: The is_string_like function was deprecated in version 2.1.\n",
      "  if not cb.is_string_like(edge_color) \\\n",
      "C:\\Users\\JeremySun\\Anaconda3\\lib\\site-packages\\networkx\\drawing\\nx_pylab.py:543: MatplotlibDeprecationWarning: The is_string_like function was deprecated in version 2.1.\n",
      "  if cb.is_string_like(edge_color) or len(edge_color) == 1:\n",
      "C:\\Users\\JeremySun\\Anaconda3\\lib\\site-packages\\networkx\\drawing\\nx_pylab.py:724: MatplotlibDeprecationWarning: The is_string_like function was deprecated in version 2.1.\n",
      "  if not cb.is_string_like(label):\n",
      "C:\\Users\\JeremySun\\Anaconda3\\lib\\site-packages\\networkx\\drawing\\nx_pylab.py:138: MatplotlibDeprecationWarning: pyplot.hold is deprecated.\n",
      "    Future behavior will be consistent with the long-time default:\n",
      "    plot commands add elements without first clearing the\n",
      "    Axes and/or Figure.\n",
      "  plt.hold(b)\n",
      "C:\\Users\\JeremySun\\Anaconda3\\lib\\site-packages\\matplotlib\\__init__.py:911: MatplotlibDeprecationWarning: axes.hold is deprecated. Please remove it from your matplotlibrc and/or style files.\n",
      "  mplDeprecation)\n",
      "C:\\Users\\JeremySun\\Anaconda3\\lib\\site-packages\\matplotlib\\rcsetup.py:156: MatplotlibDeprecationWarning: axes.hold is deprecated, will be removed in 3.0\n",
      "  mplDeprecation)\n"
     ]
    },
    {
     "data": {
      "image/png": "[encoded data removed]",
      "text/plain": [
       "<Figure size 432x288 with 1 Axes>"
      ]
     },
     "metadata": {},
     "output_type": "display_data"
    }
   ],
   "source": [
    "nx.draw(city_with_road, city_location, with_labels=True, node_size=30)"
   ]
  },
  {
   "cell_type": "code",
   "execution_count": 49,
   "metadata": {
    "collapsed": false
   },
   "outputs": [
    {
     "data": {
      "text/plain": [
       "['北京', '济南', '合肥', '南京']"
      ]
     },
     "execution_count": 49,
     "metadata": {},
     "output_type": "execute_result"
    }
   ],
   "source": [
    "search('北京', '南京', city_connection)"
   ]
  },
  {
   "cell_type": "code",
   "execution_count": 50,
   "metadata": {
    "collapsed": false
   },
   "outputs": [
    {
     "data": {
      "text/plain": [
       "['长沙', '郑州', '石家庄', '北京']"
      ]
     },
     "execution_count": 50,
     "metadata": {},
     "output_type": "execute_result"
    }
   ],
   "source": [
    "search('长沙', '北京', city_connection)"
   ]
  },
  {
   "cell_type": "markdown",
   "metadata": {},
   "source": [
    "### Depth First Search"
   ]
  },
  {
   "cell_type": "code",
   "execution_count": 51,
   "metadata": {
    "collapsed": true
   },
   "outputs": [],
   "source": [
    "# only Depth First Search\n",
    "def dfs(graph, start):\n",
    "    \"\"\"\n",
    "    breath first search\n",
    "    \"\"\"\n",
    "    visited = [start]\n",
    "    \n",
    "    seen = set()\n",
    "    \n",
    "    while visited:\n",
    "        frontier = visited.pop()\n",
    "        \n",
    "        if frontier in seen:\n",
    "            continue\n",
    "\n",
    "        for successor in graph[frontier]:\n",
    "            if successor in seen:  # if successor has been seen (解决环问题)\n",
    "                continue\n",
    "            print(successor) \n",
    "            \n",
    "            visited = visited + [successor]  # 我们每次扩展都扩展最新发现的点 -> depth first\n",
    "            \n",
    "            # visited = [successor] + visited  # 我们每次扩展都先考虑已经发现的老的点 -> breath first\n",
    "            \n",
    "            # 所以说，这个扩展顺序其实决定了我们的深度优先还是广度优先\n",
    "    \n",
    "        seen.add(frontier)\n",
    "        \n",
    "    return seen"
   ]
  },
  {
   "cell_type": "markdown",
   "metadata": {},
   "source": [
    "- 现在换一种排序方式"
   ]
  },
  {
   "cell_type": "code",
   "execution_count": 52,
   "metadata": {
    "collapsed": true
   },
   "outputs": [],
   "source": [
    "def sort_search(start, destination, connection_graph, sort_candidate):\n",
    "    pathes = [[start]]\n",
    "    \n",
    "    vistied = set()\n",
    "    \n",
    "    while pathes:  # if we find existing pathes\n",
    "        path = pathes.pop(0)  # take out the original city\n",
    "        frontier = path[-1]  # take out the last city\n",
    "        \n",
    "        if frontier in vistied:\n",
    "            continue\n",
    "        \n",
    "        successors = connection_graph[frontier]\n",
    "        \n",
    "        for city in successors:\n",
    "            if city in path:  # eliminate loop\n",
    "                continue\n",
    "            \n",
    "            new_path = path + [city]\n",
    "            \n",
    "            pathes.append(new_path)\n",
    "            \n",
    "            if city == destination:\n",
    "                return new_path\n",
    "            \n",
    "        vistied.add(frontier)\n",
    "        \n",
    "        pathes = sort_candidate(pathes)  # 这里我们加一个排序函数来对搜索策略进行控制"
   ]
  },
  {
   "cell_type": "code",
   "execution_count": 53,
   "metadata": {
    "collapsed": false
   },
   "outputs": [
    {
     "data": {
      "text/plain": [
       "['兰州', '西安', '长沙', '福州']"
      ]
     },
     "execution_count": 53,
     "metadata": {},
     "output_type": "execute_result"
    }
   ],
   "source": [
    "sort_search('兰州', '福州', simple_connection_info, lambda n: n)  # 先不改变排序函数"
   ]
  },
  {
   "cell_type": "code",
   "execution_count": 54,
   "metadata": {
    "collapsed": true
   },
   "outputs": [],
   "source": [
    "# 最小站数优先\n",
    "def transfer_stations_first(pathes):\n",
    "    return sorted(pathes, key=len)"
   ]
  },
  {
   "cell_type": "code",
   "execution_count": 55,
   "metadata": {
    "collapsed": false
   },
   "outputs": [
    {
     "data": {
      "text/plain": [
       "['兰州', '西安', '长沙', '福州']"
      ]
     },
     "execution_count": 55,
     "metadata": {},
     "output_type": "execute_result"
    }
   ],
   "source": [
    "sort_search('兰州', '福州', simple_connection_info, sort_candidate=transfer_stations_first)"
   ]
  },
  {
   "cell_type": "code",
   "execution_count": 56,
   "metadata": {
    "collapsed": true
   },
   "outputs": [],
   "source": [
    "def transfer_as_much_possible(pathes):\n",
    "    return sorted(pathes, key=len, reverse=True)"
   ]
  },
  {
   "cell_type": "code",
   "execution_count": 57,
   "metadata": {
    "collapsed": false
   },
   "outputs": [
    {
     "data": {
      "text/plain": [
       "['兰州', '西安', '长沙', '福州']"
      ]
     },
     "execution_count": 57,
     "metadata": {},
     "output_type": "execute_result"
    }
   ],
   "source": [
    "sort_search('兰州', '福州', simple_connection_info, sort_candidate=transfer_as_much_possible)"
   ]
  },
  {
   "cell_type": "code",
   "execution_count": 58,
   "metadata": {
    "collapsed": true
   },
   "outputs": [],
   "source": [
    "# 定义最短距离优先\n",
    "def shortest_path_first(pathes):\n",
    "    \n",
    "    if len(pathes) < 1:\n",
    "        return pathes\n",
    "    \n",
    "    def get_path_distance(path):\n",
    "        distance = 0\n",
    "        for station in path[:-1]:\n",
    "            distance += get_geo_distance(station, path[-1])\n",
    "        \n",
    "        return distance\n",
    "            \n",
    "    return sorted(pathes, key=get_path_distance)"
   ]
  },
  {
   "cell_type": "code",
   "execution_count": 59,
   "metadata": {
    "collapsed": false
   },
   "outputs": [
    {
     "data": {
      "text/plain": [
       "['兰州', '西安', '长沙', '福州']"
      ]
     },
     "execution_count": 59,
     "metadata": {},
     "output_type": "execute_result"
    }
   ],
   "source": [
    "sort_search('兰州', '福州', simple_connection_info, sort_candidate=shortest_path_first)"
   ]
  },
  {
   "cell_type": "markdown",
   "metadata": {},
   "source": [
    "- 感受不同的规则"
   ]
  },
  {
   "cell_type": "code",
   "execution_count": 60,
   "metadata": {
    "collapsed": false
   },
   "outputs": [
    {
     "data": {
      "text/plain": [
       "'北京->石家庄->郑州->长沙'"
      ]
     },
     "execution_count": 60,
     "metadata": {},
     "output_type": "execute_result"
    }
   ],
   "source": [
    "pretty_print(sort_search('北京', '长沙', city_connection, sort_candidate=transfer_stations_first))"
   ]
  },
  {
   "cell_type": "code",
   "execution_count": 61,
   "metadata": {
    "collapsed": false
   },
   "outputs": [
    {
     "data": {
      "text/plain": [
       "'北京->天津->济南->合肥->南昌->武汉->长沙'"
      ]
     },
     "execution_count": 61,
     "metadata": {},
     "output_type": "execute_result"
    }
   ],
   "source": [
    "pretty_print(sort_search('北京', '长沙', city_connection, sort_candidate=transfer_as_much_possible))"
   ]
  },
  {
   "cell_type": "markdown",
   "metadata": {},
   "source": [
    "### Assignment"
   ]
  },
  {
   "cell_type": "markdown",
   "metadata": {},
   "source": [
    "- 考察以下内容\n",
    "    - 网络爬虫 + 正则\n",
    "    - 数据处理\n",
    "    - 算法应用能力"
   ]
  },
  {
   "cell_type": "code",
   "execution_count": 62,
   "metadata": {
    "collapsed": false
   },
   "outputs": [],
   "source": [
    "import requests"
   ]
  },
  {
   "cell_type": "code",
   "execution_count": 63,
   "metadata": {
    "collapsed": true
   },
   "outputs": [],
   "source": [
    "url = 'https://movie.douban.com/subject/26931786/?from=showing'"
   ]
  },
  {
   "cell_type": "code",
   "execution_count": 64,
   "metadata": {
    "collapsed": true
   },
   "outputs": [],
   "source": [
    "response = requests.get(url)"
   ]
  },
  {
   "cell_type": "code",
   "execution_count": 72,
   "metadata": {
    "collapsed": true
   },
   "outputs": [],
   "source": [
    "import re"
   ]
  },
  {
   "cell_type": "code",
   "execution_count": 73,
   "metadata": {
    "collapsed": true
   },
   "outputs": [],
   "source": [
    "what_we_want = r'<a href=\"https://(movie\\.douban\\.com/subject/\\d+/\\?from=subject-page)\" class=\"\" '"
   ]
  },
  {
   "cell_type": "code",
   "execution_count": 74,
   "metadata": {
    "collapsed": false
   },
   "outputs": [],
   "source": [
    "pattern = re.compile(what_we_want)"
   ]
  },
  {
   "cell_type": "code",
   "execution_count": 75,
   "metadata": {
    "collapsed": false
   },
   "outputs": [],
   "source": [
    "likes = pattern.findall(response.text)"
   ]
  },
  {
   "cell_type": "code",
   "execution_count": 76,
   "metadata": {
    "collapsed": false
   },
   "outputs": [
    {
     "name": "stdout",
     "output_type": "stream",
     "text": [
      "movie.douban.com/subject/24753477/?from=subject-page\n",
      "movie.douban.com/subject/26100958/?from=subject-page\n",
      "movie.douban.com/subject/25820460/?from=subject-page\n",
      "movie.douban.com/subject/1432146/?from=subject-page\n",
      "movie.douban.com/subject/1866473/?from=subject-page\n",
      "movie.douban.com/subject/25937854/?from=subject-page\n",
      "movie.douban.com/subject/25821634/?from=subject-page\n",
      "movie.douban.com/subject/26213252/?from=subject-page\n",
      "movie.douban.com/subject/3168101/?from=subject-page\n",
      "movie.douban.com/subject/1866475/?from=subject-page\n"
     ]
    }
   ],
   "source": [
    "for like in likes:\n",
    "    print(like)"
   ]
  },
  {
   "cell_type": "markdown",
   "metadata": {
    "collapsed": true
   },
   "source": [
    "## Mathematical ro Analytic Based "
   ]
  },
  {
   "cell_type": "markdown",
   "metadata": {},
   "source": [
    "- 人工想出函数"
   ]
  },
  {
   "cell_type": "markdown",
   "metadata": {
    "collapsed": true
   },
   "source": [
    "<img src=\"Mathematic or Analytic Based.png\", width=600, height=600>"
   ]
  },
  {
   "cell_type": "markdown",
   "metadata": {},
   "source": [
    "## Machine Learning (deep learning) Based"
   ]
  },
  {
   "cell_type": "markdown",
   "metadata": {},
   "source": [
    "### First-Method: Random generation: get best k and best b"
   ]
  },
  {
   "cell_type": "markdown",
   "metadata": {},
   "source": [
    "- 让计算机利用已有数据自动生成上述函数"
   ]
  },
  {
   "cell_type": "code",
   "execution_count": 1,
   "metadata": {
    "collapsed": true
   },
   "outputs": [],
   "source": [
    "from sklearn.datasets import load_boston"
   ]
  },
  {
   "cell_type": "code",
   "execution_count": 3,
   "metadata": {
    "collapsed": false
   },
   "outputs": [
    {
     "name": "stdout",
     "output_type": "stream",
     "text": [
      "Help on function load_boston in module sklearn.datasets.base:\n",
      "\n",
      "load_boston(return_X_y=False)\n",
      "    Load and return the boston house-prices dataset (regression).\n",
      "    \n",
      "    ==============     ==============\n",
      "    Samples total                 506\n",
      "    Dimensionality                 13\n",
      "    Features           real, positive\n",
      "    Targets             real 5. - 50.\n",
      "    ==============     ==============\n",
      "    \n",
      "    Read more in the :ref:`User Guide <boston_dataset>`.\n",
      "    \n",
      "    Parameters\n",
      "    ----------\n",
      "    return_X_y : boolean, default=False.\n",
      "        If True, returns ``(data, target)`` instead of a Bunch object.\n",
      "        See below for more information about the `data` and `target` object.\n",
      "    \n",
      "        .. versionadded:: 0.18\n",
      "    \n",
      "    Returns\n",
      "    -------\n",
      "    data : Bunch\n",
      "        Dictionary-like object, the interesting attributes are:\n",
      "        'data', the data to learn, 'target', the regression targets,\n",
      "        'DESCR', the full description of the dataset,\n",
      "        and 'filename', the physical location of boston\n",
      "        csv dataset (added in version `0.20`).\n",
      "    \n",
      "    (data, target) : tuple if ``return_X_y`` is True\n",
      "    \n",
      "        .. versionadded:: 0.18\n",
      "    \n",
      "    Notes\n",
      "    -----\n",
      "        .. versionchanged:: 0.20\n",
      "            Fixed a wrong data point at [445, 0].\n",
      "    \n",
      "    Examples\n",
      "    --------\n",
      "    >>> from sklearn.datasets import load_boston\n",
      "    >>> boston = load_boston()\n",
      "    >>> print(boston.data.shape)\n",
      "    (506, 13)\n",
      "\n"
     ]
    }
   ],
   "source": [
    "help(load_boston)"
   ]
  },
  {
   "cell_type": "code",
   "execution_count": 2,
   "metadata": {
    "collapsed": false
   },
   "outputs": [],
   "source": [
    "data = load_boston()"
   ]
  },
  {
   "cell_type": "code",
   "execution_count": 3,
   "metadata": {
    "collapsed": true
   },
   "outputs": [],
   "source": [
    "x, y = data['data'], data['target']"
   ]
  },
  {
   "cell_type": "code",
   "execution_count": 4,
   "metadata": {
    "collapsed": false
   },
   "outputs": [
    {
     "data": {
      "text/plain": [
       "array([6.320e-03, 1.800e+01, 2.310e+00, 0.000e+00, 5.380e-01, 6.575e+00,\n",
       "       6.520e+01, 4.090e+00, 1.000e+00, 2.960e+02, 1.530e+01, 3.969e+02,\n",
       "       4.980e+00])"
      ]
     },
     "execution_count": 4,
     "metadata": {},
     "output_type": "execute_result"
    }
   ],
   "source": [
    "x[0]"
   ]
  },
  {
   "cell_type": "code",
   "execution_count": 5,
   "metadata": {
    "collapsed": false
   },
   "outputs": [
    {
     "data": {
      "text/plain": [
       "24.0"
      ]
     },
     "execution_count": 5,
     "metadata": {},
     "output_type": "execute_result"
    }
   ],
   "source": [
    "y[0]"
   ]
  },
  {
   "cell_type": "code",
   "execution_count": 6,
   "metadata": {
    "collapsed": false
   },
   "outputs": [
    {
     "data": {
      "text/plain": [
       "array(['CRIM', 'ZN', 'INDUS', 'CHAS', 'NOX', 'RM', 'AGE', 'DIS', 'RAD',\n",
       "       'TAX', 'PTRATIO', 'B', 'LSTAT'], dtype='<U7')"
      ]
     },
     "execution_count": 6,
     "metadata": {},
     "output_type": "execute_result"
    }
   ],
   "source": [
    "data['feature_names']"
   ]
  },
  {
   "cell_type": "code",
   "execution_count": 9,
   "metadata": {
    "collapsed": false
   },
   "outputs": [
    {
     "name": "stdout",
     "output_type": "stream",
     "text": [
      ".. _boston_dataset:\n",
      "\n",
      "Boston house prices dataset\n",
      "---------------------------\n",
      "\n",
      "**Data Set Characteristics:**  \n",
      "\n",
      "    :Number of Instances: 506 \n",
      "\n",
      "    :Number of Attributes: 13 numeric/categorical predictive. Median Value (attribute 14) is usually the target.\n",
      "\n",
      "    :Attribute Information (in order):\n",
      "        - CRIM     per capita crime rate by town\n",
      "        - ZN       proportion of residential land zoned for lots over 25,000 sq.ft.\n",
      "        - INDUS    proportion of non-retail business acres per town\n",
      "        - CHAS     Charles River dummy variable (= 1 if tract bounds river; 0 otherwise)\n",
      "        - NOX      nitric oxides concentration (parts per 10 million)\n",
      "        - RM       average number of rooms per dwelling\n",
      "        - AGE      proportion of owner-occupied units built prior to 1940\n",
      "        - DIS      weighted distances to five Boston employment centres\n",
      "        - RAD      index of accessibility to radial highways\n",
      "        - TAX      full-value property-tax rate per $10,000\n",
      "        - PTRATIO  pupil-teacher ratio by town\n",
      "        - B        1000(Bk - 0.63)^2 where Bk is the proportion of blacks by town\n",
      "        - LSTAT    % lower status of the population\n",
      "        - MEDV     Median value of owner-occupied homes in $1000's\n",
      "\n",
      "    :Missing Attribute Values: None\n",
      "\n",
      "    :Creator: Harrison, D. and Rubinfeld, D.L.\n",
      "\n",
      "This is a copy of UCI ML housing dataset.\n",
      "https://archive.ics.uci.edu/ml/machine-learning-databases/housing/\n",
      "\n",
      "\n",
      "This dataset was taken from the StatLib library which is maintained at Carnegie Mellon University.\n",
      "\n",
      "The Boston house-price data of Harrison, D. and Rubinfeld, D.L. 'Hedonic\n",
      "prices and the demand for clean air', J. Environ. Economics & Management,\n",
      "vol.5, 81-102, 1978.   Used in Belsley, Kuh & Welsch, 'Regression diagnostics\n",
      "...', Wiley, 1980.   N.B. Various transformations are used in the table on\n",
      "pages 244-261 of the latter.\n",
      "\n",
      "The Boston house-price data has been used in many machine learning papers that address regression\n",
      "problems.   \n",
      "     \n",
      ".. topic:: References\n",
      "\n",
      "   - Belsley, Kuh & Welsch, 'Regression diagnostics: Identifying Influential Data and Sources of Collinearity', Wiley, 1980. 244-261.\n",
      "   - Quinlan,R. (1993). Combining Instance-Based and Model-Based Learning. In Proceedings on the Tenth International Conference of Machine Learning, 236-243, University of Massachusetts, Amherst. Morgan Kaufmann.\n",
      "\n"
     ]
    }
   ],
   "source": [
    "print(data['DESCR'])"
   ]
  },
  {
   "cell_type": "code",
   "execution_count": 7,
   "metadata": {
    "collapsed": false
   },
   "outputs": [
    {
     "data": {
      "text/plain": [
       "array([[6.3200e-03, 1.8000e+01, 2.3100e+00, ..., 1.5300e+01, 3.9690e+02,\n",
       "        4.9800e+00],\n",
       "       [2.7310e-02, 0.0000e+00, 7.0700e+00, ..., 1.7800e+01, 3.9690e+02,\n",
       "        9.1400e+00],\n",
       "       [2.7290e-02, 0.0000e+00, 7.0700e+00, ..., 1.7800e+01, 3.9283e+02,\n",
       "        4.0300e+00],\n",
       "       ...,\n",
       "       [6.0760e-02, 0.0000e+00, 1.1930e+01, ..., 2.1000e+01, 3.9690e+02,\n",
       "        5.6400e+00],\n",
       "       [1.0959e-01, 0.0000e+00, 1.1930e+01, ..., 2.1000e+01, 3.9345e+02,\n",
       "        6.4800e+00],\n",
       "       [4.7410e-02, 0.0000e+00, 1.1930e+01, ..., 2.1000e+01, 3.9690e+02,\n",
       "        7.8800e+00]])"
      ]
     },
     "execution_count": 7,
     "metadata": {},
     "output_type": "execute_result"
    }
   ],
   "source": [
    "x"
   ]
  },
  {
   "cell_type": "code",
   "execution_count": 8,
   "metadata": {
    "collapsed": false
   },
   "outputs": [
    {
     "data": {
      "text/plain": [
       "array([6.32000e-03, 2.73100e-02, 2.72900e-02, 3.23700e-02, 6.90500e-02,\n",
       "       2.98500e-02, 8.82900e-02, 1.44550e-01, 2.11240e-01, 1.70040e-01,\n",
       "       2.24890e-01, 1.17470e-01, 9.37800e-02, 6.29760e-01, 6.37960e-01,\n",
       "       6.27390e-01, 1.05393e+00, 7.84200e-01, 8.02710e-01, 7.25800e-01,\n",
       "       1.25179e+00, 8.52040e-01, 1.23247e+00, 9.88430e-01, 7.50260e-01,\n",
       "       8.40540e-01, 6.71910e-01, 9.55770e-01, 7.72990e-01, 1.00245e+00,\n",
       "       1.13081e+00, 1.35472e+00, 1.38799e+00, 1.15172e+00, 1.61282e+00,\n",
       "       6.41700e-02, 9.74400e-02, 8.01400e-02, 1.75050e-01, 2.76300e-02,\n",
       "       3.35900e-02, 1.27440e-01, 1.41500e-01, 1.59360e-01, 1.22690e-01,\n",
       "       1.71420e-01, 1.88360e-01, 2.29270e-01, 2.53870e-01, 2.19770e-01,\n",
       "       8.87300e-02, 4.33700e-02, 5.36000e-02, 4.98100e-02, 1.36000e-02,\n",
       "       1.31100e-02, 2.05500e-02, 1.43200e-02, 1.54450e-01, 1.03280e-01,\n",
       "       1.49320e-01, 1.71710e-01, 1.10270e-01, 1.26500e-01, 1.95100e-02,\n",
       "       3.58400e-02, 4.37900e-02, 5.78900e-02, 1.35540e-01, 1.28160e-01,\n",
       "       8.82600e-02, 1.58760e-01, 9.16400e-02, 1.95390e-01, 7.89600e-02,\n",
       "       9.51200e-02, 1.01530e-01, 8.70700e-02, 5.64600e-02, 8.38700e-02,\n",
       "       4.11300e-02, 4.46200e-02, 3.65900e-02, 3.55100e-02, 5.05900e-02,\n",
       "       5.73500e-02, 5.18800e-02, 7.15100e-02, 5.66000e-02, 5.30200e-02,\n",
       "       4.68400e-02, 3.93200e-02, 4.20300e-02, 2.87500e-02, 4.29400e-02,\n",
       "       1.22040e-01, 1.15040e-01, 1.20830e-01, 8.18700e-02, 6.86000e-02,\n",
       "       1.48660e-01, 1.14320e-01, 2.28760e-01, 2.11610e-01, 1.39600e-01,\n",
       "       1.32620e-01, 1.71200e-01, 1.31170e-01, 1.28020e-01, 2.63630e-01,\n",
       "       1.07930e-01, 1.00840e-01, 1.23290e-01, 2.22120e-01, 1.42310e-01,\n",
       "       1.71340e-01, 1.31580e-01, 1.50980e-01, 1.30580e-01, 1.44760e-01,\n",
       "       6.89900e-02, 7.16500e-02, 9.29900e-02, 1.50380e-01, 9.84900e-02,\n",
       "       1.69020e-01, 3.87350e-01, 2.59150e-01, 3.25430e-01, 8.81250e-01,\n",
       "       3.40060e-01, 1.19294e+00, 5.90050e-01, 3.29820e-01, 9.76170e-01,\n",
       "       5.57780e-01, 3.22640e-01, 3.52330e-01, 2.49800e-01, 5.44520e-01,\n",
       "       2.90900e-01, 1.62864e+00, 3.32105e+00, 4.09740e+00, 2.77974e+00,\n",
       "       2.37934e+00, 2.15505e+00, 2.36862e+00, 2.33099e+00, 2.73397e+00,\n",
       "       1.65660e+00, 1.49632e+00, 1.12658e+00, 2.14918e+00, 1.41385e+00,\n",
       "       3.53501e+00, 2.44668e+00, 1.22358e+00, 1.34284e+00, 1.42502e+00,\n",
       "       1.27346e+00, 1.46336e+00, 1.83377e+00, 1.51902e+00, 2.24236e+00,\n",
       "       2.92400e+00, 2.01019e+00, 1.80028e+00, 2.30040e+00, 2.44953e+00,\n",
       "       1.20742e+00, 2.31390e+00, 1.39140e-01, 9.17800e-02, 8.44700e-02,\n",
       "       6.66400e-02, 7.02200e-02, 5.42500e-02, 6.64200e-02, 5.78000e-02,\n",
       "       6.58800e-02, 6.88800e-02, 9.10300e-02, 1.00080e-01, 8.30800e-02,\n",
       "       6.04700e-02, 5.60200e-02, 7.87500e-02, 1.25790e-01, 8.37000e-02,\n",
       "       9.06800e-02, 6.91100e-02, 8.66400e-02, 2.18700e-02, 1.43900e-02,\n",
       "       1.38100e-02, 4.01100e-02, 4.66600e-02, 3.76800e-02, 3.15000e-02,\n",
       "       1.77800e-02, 3.44500e-02, 2.17700e-02, 3.51000e-02, 2.00900e-02,\n",
       "       1.36420e-01, 2.29690e-01, 2.51990e-01, 1.35870e-01, 4.35710e-01,\n",
       "       1.74460e-01, 3.75780e-01, 2.17190e-01, 1.40520e-01, 2.89550e-01,\n",
       "       1.98020e-01, 4.56000e-02, 7.01300e-02, 1.10690e-01, 1.14250e-01,\n",
       "       3.58090e-01, 4.07710e-01, 6.23560e-01, 6.14700e-01, 3.15330e-01,\n",
       "       5.26930e-01, 3.82140e-01, 4.12380e-01, 2.98190e-01, 4.41780e-01,\n",
       "       5.37000e-01, 4.62960e-01, 5.75290e-01, 3.31470e-01, 4.47910e-01,\n",
       "       3.30450e-01, 5.20580e-01, 5.11830e-01, 8.24400e-02, 9.25200e-02,\n",
       "       1.13290e-01, 1.06120e-01, 1.02900e-01, 1.27570e-01, 2.06080e-01,\n",
       "       1.91330e-01, 3.39830e-01, 1.96570e-01, 1.64390e-01, 1.90730e-01,\n",
       "       1.40300e-01, 2.14090e-01, 8.22100e-02, 3.68940e-01, 4.81900e-02,\n",
       "       3.54800e-02, 1.53800e-02, 6.11540e-01, 6.63510e-01, 6.56650e-01,\n",
       "       5.40110e-01, 5.34120e-01, 5.20140e-01, 8.25260e-01, 5.50070e-01,\n",
       "       7.61620e-01, 7.85700e-01, 5.78340e-01, 5.40500e-01, 9.06500e-02,\n",
       "       2.99160e-01, 1.62110e-01, 1.14600e-01, 2.21880e-01, 5.64400e-02,\n",
       "       9.60400e-02, 1.04690e-01, 6.12700e-02, 7.97800e-02, 2.10380e-01,\n",
       "       3.57800e-02, 3.70500e-02, 6.12900e-02, 1.50100e-02, 9.06000e-03,\n",
       "       1.09600e-02, 1.96500e-02, 3.87100e-02, 4.59000e-02, 4.29700e-02,\n",
       "       3.50200e-02, 7.88600e-02, 3.61500e-02, 8.26500e-02, 8.19900e-02,\n",
       "       1.29320e-01, 5.37200e-02, 1.41030e-01, 6.46600e-02, 5.56100e-02,\n",
       "       4.41700e-02, 3.53700e-02, 9.26600e-02, 1.00000e-01, 5.51500e-02,\n",
       "       5.47900e-02, 7.50300e-02, 4.93200e-02, 4.92980e-01, 3.49400e-01,\n",
       "       2.63548e+00, 7.90410e-01, 2.61690e-01, 2.69380e-01, 3.69200e-01,\n",
       "       2.53560e-01, 3.18270e-01, 2.45220e-01, 4.02020e-01, 4.75470e-01,\n",
       "       1.67600e-01, 1.81590e-01, 3.51140e-01, 2.83920e-01, 3.41090e-01,\n",
       "       1.91860e-01, 3.03470e-01, 2.41030e-01, 6.61700e-02, 6.72400e-02,\n",
       "       4.54400e-02, 5.02300e-02, 3.46600e-02, 5.08300e-02, 3.73800e-02,\n",
       "       3.96100e-02, 3.42700e-02, 3.04100e-02, 3.30600e-02, 5.49700e-02,\n",
       "       6.15100e-02, 1.30100e-02, 2.49800e-02, 2.54300e-02, 3.04900e-02,\n",
       "       3.11300e-02, 6.16200e-02, 1.87000e-02, 1.50100e-02, 2.89900e-02,\n",
       "       6.21100e-02, 7.95000e-02, 7.24400e-02, 1.70900e-02, 4.30100e-02,\n",
       "       1.06590e-01, 8.98296e+00, 3.84970e+00, 5.20177e+00, 4.26131e+00,\n",
       "       4.54192e+00, 3.83684e+00, 3.67822e+00, 4.22239e+00, 3.47428e+00,\n",
       "       4.55587e+00, 3.69695e+00, 1.35222e+01, 4.89822e+00, 5.66998e+00,\n",
       "       6.53876e+00, 9.23230e+00, 8.26725e+00, 1.11081e+01, 1.84982e+01,\n",
       "       1.96091e+01, 1.52880e+01, 9.82349e+00, 2.36482e+01, 1.78667e+01,\n",
       "       8.89762e+01, 1.58744e+01, 9.18702e+00, 7.99248e+00, 2.00849e+01,\n",
       "       1.68118e+01, 2.43938e+01, 2.25971e+01, 1.43337e+01, 8.15174e+00,\n",
       "       6.96215e+00, 5.29305e+00, 1.15779e+01, 8.64476e+00, 1.33598e+01,\n",
       "       8.71675e+00, 5.87205e+00, 7.67202e+00, 3.83518e+01, 9.91655e+00,\n",
       "       2.50461e+01, 1.42362e+01, 9.59571e+00, 2.48017e+01, 4.15292e+01,\n",
       "       6.79208e+01, 2.07162e+01, 1.19511e+01, 7.40389e+00, 1.44383e+01,\n",
       "       5.11358e+01, 1.40507e+01, 1.88110e+01, 2.86558e+01, 4.57461e+01,\n",
       "       1.80846e+01, 1.08342e+01, 2.59406e+01, 7.35341e+01, 1.18123e+01,\n",
       "       1.10874e+01, 7.02259e+00, 1.20482e+01, 7.05042e+00, 8.79212e+00,\n",
       "       1.58603e+01, 1.22472e+01, 3.76619e+01, 7.36711e+00, 9.33889e+00,\n",
       "       8.49213e+00, 1.00623e+01, 6.44405e+00, 5.58107e+00, 1.39134e+01,\n",
       "       1.11604e+01, 1.44208e+01, 1.51772e+01, 1.36781e+01, 9.39063e+00,\n",
       "       2.20511e+01, 9.72418e+00, 5.66637e+00, 9.96654e+00, 1.28023e+01,\n",
       "       1.06718e+01, 6.28807e+00, 9.92485e+00, 9.32909e+00, 7.52601e+00,\n",
       "       6.71772e+00, 5.44114e+00, 5.09017e+00, 8.24809e+00, 9.51363e+00,\n",
       "       4.75237e+00, 4.66883e+00, 8.20058e+00, 7.75223e+00, 6.80117e+00,\n",
       "       4.81213e+00, 3.69311e+00, 6.65492e+00, 5.82115e+00, 7.83932e+00,\n",
       "       3.16360e+00, 3.77498e+00, 4.42228e+00, 1.55757e+01, 1.30751e+01,\n",
       "       4.34879e+00, 4.03841e+00, 3.56868e+00, 4.64689e+00, 8.05579e+00,\n",
       "       6.39312e+00, 4.87141e+00, 1.50234e+01, 1.02330e+01, 1.43337e+01,\n",
       "       5.82401e+00, 5.70818e+00, 5.73116e+00, 2.81838e+00, 2.37857e+00,\n",
       "       3.67367e+00, 5.69175e+00, 4.83567e+00, 1.50860e-01, 1.83370e-01,\n",
       "       2.07460e-01, 1.05740e-01, 1.11320e-01, 1.73310e-01, 2.79570e-01,\n",
       "       1.78990e-01, 2.89600e-01, 2.68380e-01, 2.39120e-01, 1.77830e-01,\n",
       "       2.24380e-01, 6.26300e-02, 4.52700e-02, 6.07600e-02, 1.09590e-01,\n",
       "       4.74100e-02])"
      ]
     },
     "execution_count": 8,
     "metadata": {},
     "output_type": "execute_result"
    }
   ],
   "source": [
    "# 打印所有的x1，即CRIM\n",
    "x[:, 0]  # 取二维数组中第1维的所有数据"
   ]
  },
  {
   "cell_type": "code",
   "execution_count": 9,
   "metadata": {
    "collapsed": true
   },
   "outputs": [],
   "source": [
    "%matplotlib inline"
   ]
  },
  {
   "cell_type": "code",
   "execution_count": 10,
   "metadata": {
    "collapsed": true
   },
   "outputs": [],
   "source": [
    "import matplotlib.pyplot as plt"
   ]
  },
  {
   "cell_type": "code",
   "execution_count": 9,
   "metadata": {
    "collapsed": false
   },
   "outputs": [
    {
     "data": {
      "text/plain": [
       "<matplotlib.collections.PathCollection at 0x1ba833366a0>"
      ]
     },
     "execution_count": 9,
     "metadata": {},
     "output_type": "execute_result"
    },
    {
     "data": {
      "image/png": "[encoded data removed]",
      "text/plain": [
       "<Figure size 432x288 with 1 Axes>"
      ]
     },
     "metadata": {},
     "output_type": "display_data"
    }
   ],
   "source": [
    "plt.scatter(x[:, 0], y)  # 可以看出犯罪率越低房价越高"
   ]
  },
  {
   "cell_type": "code",
   "execution_count": 11,
   "metadata": {
    "collapsed": false
   },
   "outputs": [],
   "source": [
    "def draw_rm_and_price():\n",
    "    plt.scatter(x[:, 5], y)  # x[:, 5]表示RM，即average number of rooms per dwelling"
   ]
  },
  {
   "cell_type": "code",
   "execution_count": 18,
   "metadata": {
    "collapsed": false
   },
   "outputs": [
    {
     "data": {
      "image/png": "[encoded data removed]",
      "text/plain": [
       "<Figure size 432x288 with 1 Axes>"
      ]
     },
     "metadata": {},
     "output_type": "display_data"
    }
   ],
   "source": [
    "draw_rm_and_price()"
   ]
  },
  {
   "cell_type": "markdown",
   "metadata": {},
   "source": [
    "- 如何根据上述数据自动的生成函数"
   ]
  },
  {
   "cell_type": "code",
   "execution_count": 12,
   "metadata": {
    "collapsed": true
   },
   "outputs": [],
   "source": [
    "# 现在我们随机生成一个函数f(x) = kx + b\n",
    "def price(rm, k, b):\n",
    "    \"\"\"\n",
    "    f(x) = k * x + b\n",
    "    \"\"\"\n",
    "    return k * rm + b"
   ]
  },
  {
   "cell_type": "code",
   "execution_count": 13,
   "metadata": {
    "collapsed": true
   },
   "outputs": [],
   "source": [
    "import random\n",
    "import matplotlib as mpl"
   ]
  },
  {
   "cell_type": "code",
   "execution_count": 14,
   "metadata": {
    "collapsed": true
   },
   "outputs": [],
   "source": [
    "mpl.rcParams[\"font.sans-serif\"] = [\"simHei\"]\n",
    "mpl.rcParams[\"axes.unicode_minus\"] = False"
   ]
  },
  {
   "cell_type": "code",
   "execution_count": 16,
   "metadata": {
    "collapsed": true
   },
   "outputs": [],
   "source": [
    "x_rm = x[:, 5]  # average number of rooms per dwelling"
   ]
  },
  {
   "cell_type": "code",
   "execution_count": 35,
   "metadata": {
    "collapsed": false
   },
   "outputs": [
    {
     "data": {
      "text/plain": [
       "Text(0.5,1,'第1幅随机生成的price与真实的price的对比图')"
      ]
     },
     "execution_count": 35,
     "metadata": {},
     "output_type": "execute_result"
    },
    {
     "data": {
      "image/png": "[encoded data removed]",
      "text/plain": [
       "<Figure size 432x288 with 1 Axes>"
      ]
     },
     "metadata": {},
     "output_type": "display_data"
    }
   ],
   "source": [
    "x_rm = x[:, 5]\n",
    "k = random.randint(-100, 100)\n",
    "b = random.randint(-100, 100)\n",
    "price_by_random_k_and_b = [price(r, k, b) for r in x_rm]\n",
    "# 画出第1幅随机生成的price与真实的price的对比图\n",
    "plt.scatter(x_rm, y)\n",
    "plt.scatter(x_rm, price_by_random_k_and_b)\n",
    "plt.title(\"第1幅随机生成的price与真实的price的对比图\")"
   ]
  },
  {
   "cell_type": "code",
   "execution_count": 33,
   "metadata": {
    "collapsed": false,
    "scrolled": true
   },
   "outputs": [
    {
     "data": {
      "text/plain": [
       "Text(0.5,1,'第2幅随机生成的price与真实的price的对比图')"
      ]
     },
     "execution_count": 33,
     "metadata": {},
     "output_type": "execute_result"
    },
    {
     "data": {
      "image/png": "[encoded data removed]",
      "text/plain": [
       "<Figure size 432x288 with 1 Axes>"
      ]
     },
     "metadata": {},
     "output_type": "display_data"
    }
   ],
   "source": [
    "x_rm = x[:, 5]\n",
    "k = random.randint(-100, 100)\n",
    "b = random.randint(-100, 100)\n",
    "price_by_random_k_and_b = [price(r, k, b) for r in x_rm]\n",
    "# 画出第2幅随机生成的price与真实的price的对比图\n",
    "plt.scatter(x_rm, y)\n",
    "plt.scatter(x_rm, price_by_random_k_and_b)\n",
    "plt.title(\"第2幅随机生成的price与真实的price的对比图\")"
   ]
  },
  {
   "cell_type": "markdown",
   "metadata": {},
   "source": [
    "### Loss Function"
   ]
  },
  {
   "cell_type": "markdown",
   "metadata": {},
   "source": [
    "- 由此就生成了两个随机拟合函数，我们该如何评价哪个更好？"
   ]
  },
  {
   "cell_type": "markdown",
   "metadata": {},
   "source": [
    "<img src=\"Evaluate2.png\", width=600, height=600>"
   ]
  },
  {
   "cell_type": "markdown",
   "metadata": {},
   "source": [
    "- 显然，我们希望两点间的距离越小越好，最好重合上了。在机器学习的术语里我们把这个称之为**损失**。损失越大越不好，损失越小越好。**我们可以理解为实际点与预测点之间粉色的线就是这次计算所损失掉得值**。衡量这一次预测好坏的值我们称之为损失值。定义为："
   ]
  },
  {
   "cell_type": "markdown",
   "metadata": {},
   "source": [
    "$$ loss = \\frac{1}{n} \\sum{(y_i - \\hat{y_i})} ^ 2 $$"
   ]
  },
  {
   "cell_type": "code",
   "execution_count": 15,
   "metadata": {
    "collapsed": true
   },
   "outputs": [],
   "source": [
    "def loss(y, y_hat):  # to evaluate the performance\n",
    "    return sum((y_i - y_hat_i) ** 2 for y_i, y_hat_i in zip(list(y), list(y_hat))) / len(list(y))  # 加i表示每一个"
   ]
  },
  {
   "cell_type": "code",
   "execution_count": 45,
   "metadata": {
    "collapsed": true
   },
   "outputs": [],
   "source": [
    "# for example\n",
    "example_y = [1, 1, 1]\n",
    "example_y_hat = [1, 2, 4]"
   ]
  },
  {
   "cell_type": "code",
   "execution_count": 46,
   "metadata": {
    "collapsed": false
   },
   "outputs": [
    {
     "data": {
      "text/plain": [
       "3.3333333333333335"
      ]
     },
     "execution_count": 46,
     "metadata": {},
     "output_type": "execute_result"
    }
   ],
   "source": [
    "loss(example_y, example_y_hat)"
   ]
  },
  {
   "cell_type": "code",
   "execution_count": 54,
   "metadata": {
    "collapsed": false,
    "scrolled": false
   },
   "outputs": [
    {
     "name": "stdout",
     "output_type": "stream",
     "text": [
      "Get best_k: -27, best_b: -1, and the loss is: 38018.931230164024\n",
      "Get best_k: 9, best_b: -4, and the loss is: 945.3407138478257\n",
      "Get best_k: 19, best_b: -95, and the loss is: 95.38558965810276\n"
     ]
    }
   ],
   "source": [
    "# 尝试生成多次k和b，选择最优loss\n",
    "trying_times = 100\n",
    "\n",
    "min_loss = float(\"inf\")  # 正无穷\n",
    "best_k, best_b = None, None\n",
    "\n",
    "for i in range(trying_times):\n",
    "    k = random.randint(-100, 100)\n",
    "    b = random.randint(-100, 100)\n",
    "    price_by_random_k_and_b = [price(r, k, b) for r in x_rm]\n",
    "    \n",
    "    current_loss = loss(y, price_by_random_k_and_b)\n",
    "    \n",
    "    if current_loss < min_loss:\n",
    "        min_loss = current_loss\n",
    "        best_k, best_b = k, b\n",
    "        print(\"Get best_k: {}, best_b: {}, and the loss is: {}\".format(best_k, best_b, min_loss))"
   ]
  },
  {
   "cell_type": "code",
   "execution_count": 55,
   "metadata": {
    "collapsed": false,
    "scrolled": false
   },
   "outputs": [
    {
     "data": {
      "text/plain": [
       "Text(0.5,1,'上述随机生成最优的price与真实的price的对比图')"
      ]
     },
     "execution_count": 55,
     "metadata": {},
     "output_type": "execute_result"
    },
    {
     "data": {
      "image/png": "[encoded data removed]",
      "text/plain": [
       "<Figure size 432x288 with 1 Axes>"
      ]
     },
     "metadata": {},
     "output_type": "display_data"
    }
   ],
   "source": [
    "x_rm = x[:, 5]\n",
    "k = 19\n",
    "b = -95\n",
    "price_by_random_k_and_b = [price(r, k, b) for r in x_rm]  # 还是一个循环\n",
    "# 画出上述随机生成的最优price与真实的price的对比图\n",
    "plt.scatter(x_rm, y)\n",
    "plt.scatter(x_rm, price_by_random_k_and_b)\n",
    "plt.title(\"上述随机生成最优的price与真实的price的对比图\")"
   ]
  },
  {
   "cell_type": "markdown",
   "metadata": {},
   "source": [
    "- 可以看出这个拟合线已经比较吻合了，但Loss仍比较大，进行简单的优化，即更多次的trying_times。"
   ]
  },
  {
   "cell_type": "code",
   "execution_count": 56,
   "metadata": {
    "collapsed": false
   },
   "outputs": [
    {
     "name": "stdout",
     "output_type": "stream",
     "text": [
      "Get best_k: -65, best_b: -70, and the loss is: 253784.16110983203\n",
      "Get best_k: 64, best_b: 28, and the loss is: 167734.5510413278\n",
      "Get best_k: 31, best_b: 40, and the loss is: 45347.26569993481\n",
      "Get best_k: 44, best_b: -46, and the loss is: 43903.936200379474\n",
      "Get best_k: 40, best_b: -48, and the loss is: 33221.61843320159\n",
      "Get best_k: -14, best_b: -8, and the loss is: 14352.99796286957\n",
      "Get best_k: -19, best_b: 78, and the loss is: 4521.129557247033\n",
      "Get best_k: 16, best_b: -26, and the loss is: 2773.263652237153\n",
      "Get best_k: 13, best_b: -72, and the loss is: 215.76092123122535\n",
      "Get best_k: 14, best_b: -65, and the loss is: 55.62435496442685\n",
      "Get best_k: 5, best_b: -7, and the loss is: 55.46476319169961\n"
     ]
    }
   ],
   "source": [
    "# 尝试生成多次k和b，选择最优loss\n",
    "trying_times = 1000\n",
    "\n",
    "min_loss = float(\"inf\")  # 正无穷\n",
    "best_k, best_b = None, None\n",
    "\n",
    "for i in range(trying_times):\n",
    "    k = random.randint(-100, 100)\n",
    "    b = random.randint(-100, 100)\n",
    "    price_by_random_k_and_b = [price(r, k, b) for r in x_rm]\n",
    "    \n",
    "    current_loss = loss(y, price_by_random_k_and_b)\n",
    "    \n",
    "    if current_loss < min_loss:\n",
    "        min_loss = current_loss\n",
    "        best_k, best_b = k, b\n",
    "        print(\"Get best_k: {}, best_b: {}, and the loss is: {}\".format(best_k, best_b, min_loss))"
   ]
  },
  {
   "cell_type": "markdown",
   "metadata": {},
   "source": [
    "- 可以发现已经有55左右的loss出现"
   ]
  },
  {
   "cell_type": "code",
   "execution_count": 57,
   "metadata": {
    "collapsed": false
   },
   "outputs": [
    {
     "data": {
      "text/plain": [
       "Text(0.5,1,'上述随机生成最优的price与真实的price的对比图')"
      ]
     },
     "execution_count": 57,
     "metadata": {},
     "output_type": "execute_result"
    },
    {
     "data": {
      "image/png": "[encoded data removed]",
      "text/plain": [
       "<Figure size 432x288 with 1 Axes>"
      ]
     },
     "metadata": {},
     "output_type": "display_data"
    }
   ],
   "source": [
    "x_rm = x[:, 5]\n",
    "k = 5\n",
    "b = -7\n",
    "price_by_random_k_and_b = [price(r, k, b) for r in x_rm]\n",
    "# 画出上述随机生成的最优price与真实的price的对比图\n",
    "plt.scatter(x_rm, y)\n",
    "plt.scatter(x_rm, price_by_random_k_and_b)\n",
    "plt.title(\"上述随机生成最优的price与真实的price的对比图\")"
   ]
  },
  {
   "cell_type": "markdown",
   "metadata": {},
   "source": [
    "- 继续增大trying_times"
   ]
  },
  {
   "cell_type": "code",
   "execution_count": 58,
   "metadata": {
    "collapsed": false
   },
   "outputs": [
    {
     "name": "stdout",
     "output_type": "stream",
     "text": [
      "Get best_k: -62, best_b: 47, and the loss is: 135890.95953333605\n",
      "Get best_k: -54, best_b: 45, and the loss is: 102433.00337757314\n",
      "Get best_k: 52, best_b: -76, and the loss is: 53056.6354337708\n",
      "Get best_k: 23, best_b: 42, and the loss is: 27039.286843998034\n",
      "Get best_k: -14, best_b: -50, and the loss is: 26072.483733620546\n",
      "Get best_k: 34, best_b: -52, and the loss is: 19710.289795913035\n",
      "Get best_k: -9, best_b: 93, and the loss is: 398.4125391442688\n",
      "Get best_k: 14, best_b: -74, and the loss is: 128.4870031857708\n",
      "Get best_k: 7, best_b: -14, and the loss is: 101.42384921541498\n",
      "Get best_k: 9, best_b: -32, and the loss is: 47.722136772727254\n",
      "Get best_k: 9, best_b: -33, and the loss is: 44.66433044861659\n",
      "Get best_k: 8, best_b: -28, and the loss is: 44.26439962055332\n"
     ]
    }
   ],
   "source": [
    "# 尝试生成多次k和b，选择最优loss\n",
    "trying_times = 10000\n",
    "\n",
    "min_loss = float(\"inf\")  # 正无穷\n",
    "best_k, best_b = None, None\n",
    "\n",
    "for i in range(trying_times):\n",
    "    k = random.randint(-100, 100)\n",
    "    b = random.randint(-100, 100)\n",
    "    price_by_random_k_and_b = [price(r, k, b) for r in x_rm]\n",
    "    \n",
    "    current_loss = loss(y, price_by_random_k_and_b)\n",
    "    \n",
    "    if current_loss < min_loss:\n",
    "        min_loss = current_loss\n",
    "        best_k, best_b = k, b\n",
    "        print(\"Get best_k: {}, best_b: {}, and the loss is: {}\".format(best_k, best_b, min_loss))"
   ]
  },
  {
   "cell_type": "markdown",
   "metadata": {},
   "source": [
    "- 可以看出loss已经稳定在44左右，较最初拟合时提升明显。"
   ]
  },
  {
   "cell_type": "code",
   "execution_count": 59,
   "metadata": {
    "collapsed": false
   },
   "outputs": [
    {
     "data": {
      "text/plain": [
       "Text(0.5,1,'上述随机生成最优的price与真实的price的对比图')"
      ]
     },
     "execution_count": 59,
     "metadata": {},
     "output_type": "execute_result"
    },
    {
     "data": {
      "image/png": "[encoded data removed]",
      "text/plain": [
       "<Figure size 432x288 with 1 Axes>"
      ]
     },
     "metadata": {},
     "output_type": "display_data"
    }
   ],
   "source": [
    "x_rm = x[:, 5]\n",
    "k = 8\n",
    "b = -28\n",
    "price_by_random_k_and_b = [price(r, k, b) for r in x_rm]\n",
    "# 画出上述随机生成的最优price与真实的price的对比图\n",
    "plt.scatter(x_rm, y)\n",
    "plt.scatter(x_rm, price_by_random_k_and_b)\n",
    "plt.title(\"上述随机生成最优的price与真实的price的对比图\")"
   ]
  },
  {
   "cell_type": "code",
   "execution_count": 62,
   "metadata": {
    "collapsed": false
   },
   "outputs": [
    {
     "data": {
      "text/plain": [
       "-7055.039651721832"
      ]
     },
     "execution_count": 62,
     "metadata": {},
     "output_type": "execute_result"
    }
   ],
   "source": [
    "# 重新设置k，b的随机范围\n",
    "random.random() * 20000 - 10000"
   ]
  },
  {
   "cell_type": "code",
   "execution_count": 22,
   "metadata": {
    "collapsed": false,
    "scrolled": true
   },
   "outputs": [
    {
     "name": "stdout",
     "output_type": "stream",
     "text": [
      "When time is: 0, get best_k: -73.66570743149437, best_b: 92.26964914009204, and the loss is: 158044.8689635156\n",
      "When time is: 1, get best_k: 75.48735956393332, best_b: -64.19655692808585, and the loss is: 152511.5385673939\n",
      "When time is: 2, get best_k: -10.136314192306983, best_b: 34.44288672925131, and the loss is: 2908.4648873128685\n",
      "When time is: 15, get best_k: -8.213353474107123, best_b: 37.52610300772403, and the loss is: 1532.6863157541952\n",
      "When time is: 73, get best_k: -5.162521018783821, best_b: 80.81178297799124, and the loss is: 811.2712439334819\n",
      "When time is: 104, get best_k: -12.978081068427755, best_b: 86.7730275633125, and the loss is: 583.867764950865\n",
      "When time is: 140, get best_k: -12.154664941810367, best_b: 93.37165354844751, and the loss is: 297.0140384788095\n",
      "When time is: 154, get best_k: 2.8090973028652257, best_b: 7.6830436790348955, and the loss is: 70.976851412741\n",
      "When time is: 193, get best_k: 11.39738749461688, best_b: -50.82863495074781, and the loss is: 49.199605383122794\n"
     ]
    }
   ],
   "source": [
    "# 尝试生成多次k和b，选择最优loss\n",
    "trying_times = 1000\n",
    "\n",
    "min_loss = float(\"inf\")  # 正无穷\n",
    "best_k, best_b = None, None\n",
    "\n",
    "for i in range(trying_times):\n",
    "    k = random.random() * 200 - 100\n",
    "    b = random.random() * 200 - 100\n",
    "    price_by_random_k_and_b = [price(r, k, b) for r in x_rm]\n",
    "    \n",
    "    current_loss = loss(y, price_by_random_k_and_b)\n",
    "    \n",
    "    if current_loss < min_loss:\n",
    "        min_loss = current_loss\n",
    "        best_k, best_b = k, b\n",
    "        print(\"When time is: {}, get best_k: {}, best_b: {}, and the loss is: {}\".format(i, best_k, best_b, min_loss))"
   ]
  },
  {
   "cell_type": "markdown",
   "metadata": {},
   "source": [
    "- 目前的loss在46左右，在这个模型里已经接近天花板了。其次这是运行了10000次后的结果，显然太慢了！那么我们有什么方法能让这个loss减小的更快呢？\n",
    "- **可以看出在这1000里面更新了11步。**"
   ]
  },
  {
   "cell_type": "markdown",
   "metadata": {},
   "source": [
    "### 2nd-Method: Direction Adjusting"
   ]
  },
  {
   "cell_type": "code",
   "execution_count": 21,
   "metadata": {
    "collapsed": false,
    "scrolled": false
   },
   "outputs": [
    {
     "name": "stdout",
     "output_type": "stream",
     "text": [
      "When time is: 9, get best_k: 9.983122483167467, best_b: 30.319742981897875, and the loss is: 5018.0705374896825\n",
      "When time is: 19, get best_k: 8.98312248316747, best_b: 29.31974298189786, and the loss is: 4043.2310881878198\n",
      "When time is: 29, get best_k: 7.983122483167474, best_b: 28.319742981897846, and the loss is: 3175.508825632994\n",
      "When time is: 39, get best_k: 6.983122483167477, best_b: 27.319742981897832, and the loss is: 2414.903749825198\n",
      "When time is: 49, get best_k: 5.983122483167481, best_b: 26.319742981897818, and the loss is: 1761.4158607644417\n",
      "When time is: 59, get best_k: 4.9831224831674845, best_b: 25.319742981897804, and the loss is: 1215.0451584507223\n",
      "When time is: 69, get best_k: 3.9831224831674876, best_b: 24.31974298189779, and the loss is: 775.7916428840363\n",
      "When time is: 79, get best_k: 2.9831224831674867, best_b: 23.319742981897775, and the loss is: 443.6553140643852\n",
      "When time is: 89, get best_k: 1.9831224831674858, best_b: 22.31974298189776, and the loss is: 218.63617199176954\n",
      "When time is: 99, get best_k: 0.9831224831674851, best_b: 21.319742981897747, and the loss is: 100.73421666619048\n"
     ]
    }
   ],
   "source": [
    "# 尝试生成多次k和b，选择最优loss\n",
    "trying_times = 2000\n",
    "\n",
    "min_loss = float(\"inf\")  # 正无穷\n",
    "\n",
    "best_k = random.random() * 200 - 100\n",
    "best_b = random.random() * 200 - 100\n",
    "\n",
    "direction = [\n",
    "    (+1, -1),  # first element: k's change direction; second element: b's change direction\n",
    "    (+1, +1),\n",
    "    (-1, -1),\n",
    "    (-1, +1)\n",
    "]\n",
    "# 我们按照上述方向随机调整k和b的方向，如果发现沿某方向调整后loss变小了，我们就继续沿着这个方向进行调整\n",
    "\n",
    "next_direction = random.choice(direction)\n",
    "\n",
    "scalar = 0.1  # 学习率\n",
    "\n",
    "update_time = 0  # 控制更新的打印次数\n",
    "\n",
    "for i in range(trying_times):\n",
    "    \n",
    "    k_direction, b_direction = next_direction\n",
    "    \n",
    "    current_k, current_b = best_k + k_direction * scalar, best_b + b_direction * scalar\n",
    "    \n",
    "    price_by_k_and_b = [price(r, current_k, current_b) for r in x_rm]\n",
    "    \n",
    "    current_loss = loss(y, price_by_k_and_b)\n",
    "    \n",
    "    if current_loss < min_loss:  # performance become better\n",
    "        min_loss = current_loss\n",
    "        best_k, best_b = current_k, current_b\n",
    "        next_direction = next_direction  # 如果沿着当前这个方向效果好，则把当前这个方向设定为下一步的方向\n",
    "        update_time += 1\n",
    "        \n",
    "        if update_time % 10 == 0:\n",
    "            print(\"When time is: {}, get best_k: {}, best_b: {}, and the loss is: {}\".format(i, best_k, best_b, min_loss))\n",
    "        \n",
    "    else:\n",
    "        next_direction = random.choice(direction)  # 如果效果没有变好，则我们再随机选一个方向。（这里可以做优化）"
   ]
  },
  {
   "cell_type": "markdown",
   "metadata": {},
   "source": [
    "- **在我们加入方向的选择之后，loss一直在逐步变小，但在更新了500多次后不再更新了。**\n",
    "<br/><br/>\n",
    "- **如果我们想要得到更快的更新，在更短的时间内得到更好的结果，我们需要做这么一件事情：找对改变的方向。那么问题来了，如何找对这个方向？**\n",
    "<br/><br/>\n",
    "- **在2nd-Method中，我们让它沿着对的方向继续走。换句话说，我们是在监督它让它变化，而不是让它随便走。做好了之后给它更多的正反馈，让它接着走，这个过程很像一个学习过程一个，在机器学习里我们把这个称之为监督学习(Supervise Learning)。**"
   ]
  },
  {
   "cell_type": "markdown",
   "metadata": {},
   "source": [
    "### Derivative"
   ]
  },
  {
   "cell_type": "markdown",
   "metadata": {},
   "source": [
    "- **上述代码可以在else: next_direction = random.choice(direction)进行优化。在该方向效果不好的情况下，我们让它继续选择一个好的方向。由此，引出导数。在一维空间我们称之为导数，在多维空间称之为梯度。**\n",
    "    - 我们的目标是为了让loss变得更小，把$f(x)=kx+b$带入到loss中并展开将会得到一个一元二次方程。我们的目标就是求一组k和b让整个loss最小。我们可以把loss看做是k和b的函数$loss(k,b)$，具体如下：\n",
    "    - $$ loss(k,b)=\\frac{1}{n} \\sum{(y_i - \\hat{y_i})} ^ 2 = \\frac{1}{n} \\sum{(y_i - (kx_i+b))} ^ 2$$\n",
    "    - 由于$n$和$y_i$都是已知的，不妨用$c_0$和$c_1$代替，$c_0$、$c_1$为常数。故上式继续写为：\n",
    "    - $$ \\frac{1}{n} \\sum{(y_i - (kx_i+b))} ^ 2 = \\frac{1}{c_0} \\sum{(c_1 - (kx_i+b))} ^ 2$$\n",
    "    - 展开\n",
    "    - $$\\frac{1}{c_0} \\sum{(c_1^2 - k^2x_i^2 - 2kbx_i - b^2)}$$\n",
    "    - 我们可以把上式看成是$k$和$b$的二元二次方程$loss(k,b)$。而且，随着$k$的变化，$loss$是一个二次曲线。"
   ]
  },
  {
   "cell_type": "markdown",
   "metadata": {},
   "source": [
    "<img src=\"Derivative.png\", width=600, height=600>"
   ]
  },
  {
   "cell_type": "markdown",
   "metadata": {},
   "source": [
    "- 那么$k$为什么应该沿着梯度的反方向进行变化呢？\n",
    "<img src=\"Direction.png\", width=600, height=600>\n",
    "- 那我们为什么不直接用$loss$对$k$求偏导让导数值等于0求出k呢？因为我们在后期要拟合的函数远远比$y=kx+b$复杂得多。对于很多复杂函数的导数是求不出数值解的，计算机无法进行直接求解。所以我们才用了最笨的方法，一点一点的进行梯度下降来找这个局部最优解。\n",
    "<img src=\"Summary.png\", width=600, height=600>"
   ]
  },
  {
   "cell_type": "markdown",
   "metadata": {},
   "source": [
    "- 此前我们已经定义了函数$loss()$，现在我们实现一下这个$loss$对$k$和$b$的偏导。即\n",
    "- $$\\frac{\\partial{loss}}{\\partial{k}} 和 \\frac{\\partial{loss}}{\\partial{b}}$$"
   ]
  },
  {
   "cell_type": "markdown",
   "metadata": {},
   "source": [
    "- $$loss(k,b) = \\frac{1}{n} \\sum{(y_i - (kx_i+b))} ^ 2$$\n",
    "- $$\\frac{\\partial{loss}}{\\partial{k}} = -\\frac{2}{n}\\sum{(y_i-(kx_i+b))}x_i=-\\frac{2}{n}\\sum{(y_i-\\hat{y_i})x_i}$$\n",
    "- 同理\n",
    "- $$\\frac{\\partial{loss}}{\\partial{b}} = -\\frac{2}{n}\\sum{(y_i-(kx_i+b))}=-\\frac{2}{n}\\sum{(y_i-\\hat{y_i})}$$"
   ]
  },
  {
   "cell_type": "code",
   "execution_count": 36,
   "metadata": {
    "collapsed": true
   },
   "outputs": [],
   "source": [
    "# 求k的偏导\n",
    "def partial_k(x, y, y_hat):\n",
    "    n = len(y)\n",
    "    \n",
    "    gradient = 0\n",
    "    \n",
    "    for x_i, y_i, y_hat_i in zip(list(x), list(y), list(y_hat)):\n",
    "        gradient += (y_i - y_hat_i) * x_i\n",
    "    \n",
    "    return -2 / n * gradient"
   ]
  },
  {
   "cell_type": "code",
   "execution_count": 37,
   "metadata": {
    "collapsed": true
   },
   "outputs": [],
   "source": [
    "# 求b的偏导\n",
    "def partial_b(x, y, y_hat):\n",
    "    n = len(y)\n",
    "    \n",
    "    gradient = 0\n",
    "    \n",
    "    for y_i, y_hat_i in zip(list(y), list(y_hat)):\n",
    "        gradient += (y_i - y_hat_i)\n",
    "    \n",
    "    return -2 / n * gradient"
   ]
  },
  {
   "cell_type": "code",
   "execution_count": 48,
   "metadata": {
    "collapsed": false,
    "scrolled": true
   },
   "outputs": [
    {
     "name": "stdout",
     "output_type": "stream",
     "text": [
      "When time is: 0, get best_k: 57.5200927644693 best_b: -35.82557001442031, and the loss is: 93089.0767997171\n",
      "When time is: 50, get best_k: 41.641291317484274 best_b: -38.320744114280025, and the loss is: 40904.678785797696\n",
      "When time is: 100, get best_k: 31.118654974141204 best_b: -39.97390203248572, and the loss is: 17988.095559445264\n",
      "When time is: 150, get best_k: 24.145448090861937 best_b: -41.069071771777146, and the loss is: 7924.3636718743655\n",
      "When time is: 200, get best_k: 19.52438108005264 best_b: -41.794473325192506, and the loss is: 3504.913352173471\n",
      "When time is: 250, get best_k: 16.46203274495085 best_b: -42.274836527244865, and the loss is: 1564.1281611573936\n",
      "When time is: 300, get best_k: 14.43261784362745 best_b: -42.59281748351693, and the loss is: 711.839485840318\n",
      "When time is: 350, get best_k: 13.087708426641772 best_b: -42.80319083406628, and the loss is: 337.5599820800716\n",
      "When time is: 400, get best_k: 12.196407872578327 best_b: -42.94225469833784, and the loss is: 173.19641724548518\n",
      "When time is: 450, get best_k: 11.605705351316383 best_b: -43.03406315452839, and the loss is: 101.0166514776612\n",
      "When time is: 500, get best_k: 11.21420347561498 best_b: -43.09455638595005, and the loss is: 69.31905613151761\n",
      "When time is: 550, get best_k: 10.95470811201818 best_b: -43.134297651020084, and the loss is: 55.399054463965314\n",
      "When time is: 600, get best_k: 10.78269097736431 best_b: -43.16028702158075, and the loss is: 49.286016562710046\n",
      "When time is: 650, get best_k: 10.668644019396915 best_b: -43.17716331302812, and the loss is: 46.601377613576254\n",
      "When time is: 700, get best_k: 10.593012809196745 best_b: -43.18800058070796, and the loss is: 45.422307263755805\n",
      "When time is: 750, get best_k: 10.542838996038297 best_b: -43.194835943033894, and the loss is: 44.90440175936886\n",
      "When time is: 800, get best_k: 10.50953532563641 best_b: -43.199019359899005, and the loss is: 44.6768443517964\n",
      "When time is: 850, get best_k: 10.487411186761053 best_b: -43.20144542422308, and the loss is: 44.57679225353558\n",
      "When time is: 900, get best_k: 10.472695518826576 best_b: -43.202706965833066, and the loss is: 44.53273366383328\n",
      "When time is: 950, get best_k: 10.462889311205254 best_b: -43.20319684185365, and the loss is: 44.513264442991215\n",
      "When time is: 1000, get best_k: 10.456336516751547 best_b: -43.2031753912765, and the loss is: 44.504593580573605\n",
      "When time is: 1050, get best_k: 10.451939704298711 best_b: -43.20281513582951, and the loss is: 44.500664805949015\n",
      "When time is: 1100, get best_k: 10.448971626938683 best_b: -43.202230402398335, and the loss is: 44.49881853052618\n",
      "When time is: 1150, get best_k: 10.446950351880062 best_b: -43.201496953245815, and the loss is: 44.49788680592079\n",
      "When time is: 1200, get best_k: 10.445556511363346 best_b: -43.200664994587626, and the loss is: 44.49735673196369\n",
      "When time is: 1250, get best_k: 10.444578466405362 best_b: -43.1997677971297, and the loss is: 44.497003070457986\n",
      "When time is: 1300, get best_k: 10.443875967848342 best_b: -43.19882740873544, and the loss is: 44.49672690888526\n",
      "When time is: 1350, get best_k: 10.443356075223512 best_b: -43.19785844010257, and the loss is: 44.496484810176334\n",
      "When time is: 1400, get best_k: 10.442957198636769 best_b: -43.196870573459485, and the loss is: 44.496257699097725\n",
      "When time is: 1450, get best_k: 10.442638523627743 best_b: -43.19587022503104, and the loss is: 44.49603719882525\n",
      "When time is: 1500, get best_k: 10.442373003223608 best_b: -43.194861646723325, and the loss is: 44.49581963070065\n",
      "When time is: 1550, get best_k: 10.442142713905527 best_b: -43.1938476561892, and the loss is: 44.495603379248145\n",
      "When time is: 1600, get best_k: 10.441935778095289 best_b: -43.19283012062895, and the loss is: 44.49538773503058\n",
      "When time is: 1650, get best_k: 10.44174432474536 best_b: -43.191810277395994, and the loss is: 44.49517238649419\n",
      "When time is: 1700, get best_k: 10.441563137860419 best_b: -43.19078894645609, and the loss is: 44.49495719681448\n",
      "When time is: 1750, get best_k: 10.44138876089808 best_b: -43.189766671179996, and the loss is: 44.494742105898396\n",
      "When time is: 1800, get best_k: 10.441218903272219 best_b: -43.18874381164428, and the loss is: 44.494527087349404\n",
      "When time is: 1850, get best_k: 10.44105204705388 best_b: -43.18772060645996, and the loss is: 44.49431212956856\n",
      "When time is: 1900, get best_k: 10.440887186339435 best_b: -43.18669721374498, and the loss is: 44.4940972274552\n",
      "When time is: 1950, get best_k: 10.440723654534745 best_b: -43.18567373827614, and the loss is: 44.49388237876253\n"
     ]
    }
   ],
   "source": [
    "# 利用梯度优化2.3.3的代码\n",
    "trying_times = 2000\n",
    "\n",
    "min_loss = float(\"inf\")\n",
    "\n",
    "# Initialization（初始化问题）\n",
    "current_k = random.random() * 200 - 100\n",
    "current_b = random.random() * 200 - 100\n",
    "\n",
    "learning_rate = 1e-04\n",
    "\n",
    "for i in range(trying_times):\n",
    "    \n",
    "    price_by_k_and_b = [price(r, current_k, current_b) for r in x_rm]\n",
    "    \n",
    "    current_loss = loss(y, price_by_k_and_b)\n",
    "    \n",
    "    if current_loss < min_loss:\n",
    "        min_loss = current_loss\n",
    "        \n",
    "        if i % 50 == 0:\n",
    "            print(\"When time is: {}, get best_k: {} best_b: {}, and the loss is: {}\".format(i, current_k, current_b, min_loss))\n",
    "    \n",
    "    k_gradient = partial_k(x_rm, y, price_by_k_and_b)  # 注意是x_rm而不是x\n",
    "    b_gradient = partial_b(x_rm, y, price_by_k_and_b)\n",
    "    \n",
    "    current_k = current_k + (-1 * k_gradient) * learning_rate\n",
    "    current_b = current_b + (-1 * b_gradient) * learning_rate"
   ]
  },
  {
   "cell_type": "markdown",
   "metadata": {
    "collapsed": false
   },
   "source": [
    "- 可以看出，loss的下降速率明显加快，仅需要600次左右的迭代，loss值就从最高的98039降至44。"
   ]
  },
  {
   "cell_type": "code",
   "execution_count": 49,
   "metadata": {
    "collapsed": false,
    "scrolled": false
   },
   "outputs": [
    {
     "data": {
      "text/plain": [
       "Text(0.5,1,'上述最优的price与真实的price的对比图')"
      ]
     },
     "execution_count": 49,
     "metadata": {},
     "output_type": "execute_result"
    },
    {
     "data": {
      "image/png": "[encoded data removed]",
      "text/plain": [
       "<Figure size 432x288 with 1 Axes>"
      ]
     },
     "metadata": {},
     "output_type": "display_data"
    }
   ],
   "source": [
    "x_rm = x[:, 5]\n",
    "k = 10.440723654534745\n",
    "b = -43.18567373827614\n",
    "price_by_random_k_and_b = [price(r, k, b) for r in x_rm]\n",
    "\n",
    "plt.scatter(x_rm, y)\n",
    "plt.scatter(x_rm, price_by_random_k_and_b)\n",
    "plt.title(\"上述最优的price与真实的price的对比图\")"
   ]
  },
  {
   "cell_type": "markdown",
   "metadata": {},
   "source": [
    "- loss的改善程度一般。我们把想你拟合的函数的复杂程度称为**模型的复杂度**。上面y轴50左右的异常点我们把它们称为**Outlier(离群值)**。这些离群点会影响loss值，需要删除掉。\n",
    "- 正则化（Regularization）。我们为了使a不那么大，可以选择使用正则化。\n",
    "<img src=\"Regularization.png\", width=600, height=600>"
   ]
  },
  {
   "cell_type": "code",
   "execution_count": null,
   "metadata": {
    "collapsed": true
   },
   "outputs": [],
   "source": []
  }
 ],
 "metadata": {
  "anaconda-cloud": {},
  "kernelspec": {
   "display_name": "Python [conda root]",
   "language": "python",
   "name": "conda-root-py"
  },
  "language_info": {
   "codemirror_mode": {
    "name": "ipython",
    "version": 3
   },
   "file_extension": ".py",
   "mimetype": "text/x-python",
   "name": "python",
   "nbconvert_exporter": "python",
   "pygments_lexer": "ipython3",
   "version": "3.5.2"
  },
  "toc": {
   "base_numbering": 1,
   "nav_menu": {},
   "number_sections": true,
   "sideBar": true,
   "skip_h1_title": false,
   "title_cell": "Table of Contents",
   "title_sidebar": "Contents",
   "toc_cell": false,
   "toc_position": {
    "height": "calc(100% - 180px)",
    "left": "10px",
    "top": "150px",
    "width": "256px"
   },
   "toc_section_display": true,
   "toc_window_display": true
  }
 },
 "nbformat": 4,
 "nbformat_minor": 1
}
